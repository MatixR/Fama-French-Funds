{
 "cells": [
  {
   "cell_type": "markdown",
   "metadata": {},
   "source": [
    "## Luck vs. Skill (US Large Funds Edition)\n",
    "\n",
    "Goal of this notebook is to test out the tools I made in the python file `luck_v_skill.py`, as well as try out some new, US data. This uses a 4 factor KAPM model to evaluate alphas."
   ]
  },
  {
   "cell_type": "code",
   "execution_count": 1,
   "metadata": {},
   "outputs": [],
   "source": [
    "import sys\n",
    "sys.path.insert(0, '../src')\n",
    "\n",
    "from luck_v_skill import *\n",
    "%load_ext autoreload\n",
    "%autoreload 2"
   ]
  },
  {
   "cell_type": "code",
   "execution_count": 2,
   "metadata": {},
   "outputs": [],
   "source": [
    "# let's me save a jupyter notebook from a code cell\n",
    "from IPython.display import Javascript\n",
    "\n",
    "script = '''\n",
    "require([\"base/js/namespace\"],function(Jupyter) {\n",
    "    Jupyter.notebook.save_checkpoint();\n",
    "});\n",
    "'''\n",
    "\n",
    "def notebook_save():\n",
    "    Javascript(script)\n",
    "    print('This notebook has been saved')"
   ]
  },
  {
   "cell_type": "code",
   "execution_count": 3,
   "metadata": {},
   "outputs": [
    {
     "data": {
      "text/html": [
       "<div>\n",
       "<style scoped>\n",
       "    .dataframe tbody tr th:only-of-type {\n",
       "        vertical-align: middle;\n",
       "    }\n",
       "\n",
       "    .dataframe tbody tr th {\n",
       "        vertical-align: top;\n",
       "    }\n",
       "\n",
       "    .dataframe thead th {\n",
       "        text-align: right;\n",
       "    }\n",
       "</style>\n",
       "<table border=\"1\" class=\"dataframe\">\n",
       "  <thead>\n",
       "    <tr style=\"text-align: right;\">\n",
       "      <th></th>\n",
       "      <th>Start</th>\n",
       "      <th>End</th>\n",
       "    </tr>\n",
       "  </thead>\n",
       "  <tbody>\n",
       "    <tr>\n",
       "      <th>Columns</th>\n",
       "      <td>8</td>\n",
       "      <td>9</td>\n",
       "    </tr>\n",
       "    <tr>\n",
       "      <th>US OE Large Blend</th>\n",
       "      <td>10</td>\n",
       "      <td>949</td>\n",
       "    </tr>\n",
       "    <tr>\n",
       "      <th>US OE Large Value</th>\n",
       "      <td>951</td>\n",
       "      <td>1760</td>\n",
       "    </tr>\n",
       "    <tr>\n",
       "      <th>US OE Large Growth</th>\n",
       "      <td>1763</td>\n",
       "      <td>2726</td>\n",
       "    </tr>\n",
       "    <tr>\n",
       "      <th>US OE Mid-Cap Growth</th>\n",
       "      <td>2729</td>\n",
       "      <td>3179</td>\n",
       "    </tr>\n",
       "    <tr>\n",
       "      <th>US OE Small Value</th>\n",
       "      <td>3181</td>\n",
       "      <td>3485</td>\n",
       "    </tr>\n",
       "    <tr>\n",
       "      <th>US OE Mid-Cap Value</th>\n",
       "      <td>3488</td>\n",
       "      <td>3756</td>\n",
       "    </tr>\n",
       "    <tr>\n",
       "      <th>US OE Small Growth</th>\n",
       "      <td>3759</td>\n",
       "      <td>4262</td>\n",
       "    </tr>\n",
       "    <tr>\n",
       "      <th>US OE Small Blend</th>\n",
       "      <td>4265</td>\n",
       "      <td>4718</td>\n",
       "    </tr>\n",
       "    <tr>\n",
       "      <th>US OE Technology</th>\n",
       "      <td>4721</td>\n",
       "      <td>4835</td>\n",
       "    </tr>\n",
       "    <tr>\n",
       "      <th>US OE Health</th>\n",
       "      <td>4838</td>\n",
       "      <td>4906</td>\n",
       "    </tr>\n",
       "    <tr>\n",
       "      <th>US OE Financial</th>\n",
       "      <td>4909</td>\n",
       "      <td>4976</td>\n",
       "    </tr>\n",
       "    <tr>\n",
       "      <th>US OE Mid-Cap Blend</th>\n",
       "      <td>4979</td>\n",
       "      <td>5256</td>\n",
       "    </tr>\n",
       "    <tr>\n",
       "      <th>US OE Utilities</th>\n",
       "      <td>5259</td>\n",
       "      <td>5311</td>\n",
       "    </tr>\n",
       "    <tr>\n",
       "      <th>US OE Natural Resources</th>\n",
       "      <td>5314</td>\n",
       "      <td>5355</td>\n",
       "    </tr>\n",
       "    <tr>\n",
       "      <th>US OE Equity Energy</th>\n",
       "      <td>5358</td>\n",
       "      <td>5397</td>\n",
       "    </tr>\n",
       "    <tr>\n",
       "      <th>US OE Consumer Cyclical</th>\n",
       "      <td>5400</td>\n",
       "      <td>5427</td>\n",
       "    </tr>\n",
       "    <tr>\n",
       "      <th>US OE Consumer Defensive</th>\n",
       "      <td>5430</td>\n",
       "      <td>5443</td>\n",
       "    </tr>\n",
       "    <tr>\n",
       "      <th>US OE Industrials</th>\n",
       "      <td>5446</td>\n",
       "      <td>5463</td>\n",
       "    </tr>\n",
       "  </tbody>\n",
       "</table>\n",
       "</div>"
      ],
      "text/plain": [
       "                          Start   End\n",
       "Columns                       8     9\n",
       "US OE Large Blend            10   949\n",
       "US OE Large Value           951  1760\n",
       "US OE Large Growth         1763  2726\n",
       "US OE Mid-Cap Growth       2729  3179\n",
       "US OE Small Value          3181  3485\n",
       "US OE Mid-Cap Value        3488  3756\n",
       "US OE Small Growth         3759  4262\n",
       "US OE Small Blend          4265  4718\n",
       "US OE Technology           4721  4835\n",
       "US OE Health               4838  4906\n",
       "US OE Financial            4909  4976\n",
       "US OE Mid-Cap Blend        4979  5256\n",
       "US OE Utilities            5259  5311\n",
       "US OE Natural Resources    5314  5355\n",
       "US OE Equity Energy        5358  5397\n",
       "US OE Consumer Cyclical    5400  5427\n",
       "US OE Consumer Defensive   5430  5443\n",
       "US OE Industrials          5446  5463"
      ]
     },
     "execution_count": 3,
     "metadata": {},
     "output_type": "execute_result"
    }
   ],
   "source": [
    "labels = pd.read_json('../data/US_funds_colrow_names.json')\n",
    "labels = labels.sort_values(by='Start')\n",
    "labels.Start -= 1 # pandas.read_excel() calls first row 0\n",
    "labels"
   ]
  },
  {
   "cell_type": "markdown",
   "metadata": {},
   "source": [
    "#### TODO\n",
    "Separate Large, Mid-Cap, Small, and other categories into separate files."
   ]
  },
  {
   "cell_type": "markdown",
   "metadata": {},
   "source": [
    "#### Decide on Funds\n",
    "For now, I'm only going to use large US fund data. I've laid out lists in order to compare mid-cap and small portfolios for later. Will still need to figure out how to drop the right rows when doing small or mid-cap."
   ]
  },
  {
   "cell_type": "code",
   "execution_count": 10,
   "metadata": {},
   "outputs": [
    {
     "data": {
      "text/plain": [
       "(240, 2712)"
      ]
     },
     "execution_count": 10,
     "metadata": {},
     "output_type": "execute_result"
    }
   ],
   "source": [
    "# identify funds by description\n",
    "# large_names = list(labels.index[[\"Large\" in fund_type for fund_type in labels.index]])\n",
    "mid_names = list(labels.index[[\"Mid-Cap\" in fund_type for fund_type in labels.index]])\n",
    "# small_names = list(labels.index[[\"Small\" in fund_type for fund_type in labels.index]])\n",
    "\n",
    "# decide which rows to skip\n",
    "fund_types = large_names # + mid_names + small_names\n",
    "skip_footer = labels.loc[fund_types,'End'].max()\n",
    "\n",
    "# load data\n",
    "US_funds = pd.read_excel('../data/US Equity Mutual Funds Monthly Returns.xlsx',\n",
    "                         header=labels.loc['Columns','Start'], skipfooter=skip_footer)\n",
    "# drop empty rows\n",
    "empty_rows = (~US_funds.isna()).sum(axis=1) < 3\n",
    "US_funds.drop(US_funds.index[empty_rows],axis=0,inplace=True)\n",
    "\n",
    "# replace missing ticker names with fund name\n",
    "no_tick = US_funds.index[US_funds.Ticker.isna()]\n",
    "US_funds.iloc[no_tick,1] = US_funds.iloc[no_tick,0]\n",
    "US_funds.set_index('Ticker',inplace=True)\n",
    "US_funds.drop(columns=['Group/Investment','Fund Size'],inplace=True)\n",
    "\n",
    "# transpose and convert to datetime\n",
    "funds = US_funds.T\n",
    "funds.index = pd.to_datetime(funds.index.str.strip('Monthly Return '))\n",
    "\n",
    "# info\n",
    "funds.shape"
   ]
  },
  {
   "cell_type": "code",
   "execution_count": 12,
   "metadata": {},
   "outputs": [
    {
     "data": {
      "text/plain": [
       "Index(['ALBAX', 'ALBCX', 'AGIZX', 'AMWAX', 'AMWCX', 'AMWIX', 'AMWYX', 'AMINX',\n",
       "       'AMANX', 'AVDAX',\n",
       "       ...\n",
       "       'DTLGX', 'CHCLX', 'CHCYX', 'CHCBX', 'CHCCX', 'CHCIX', 'CHCKX', 'CHCRX',\n",
       "       'CHCZX', 'AMGAX'],\n",
       "      dtype='object', name='Ticker', length=2712)"
      ]
     },
     "execution_count": 12,
     "metadata": {},
     "output_type": "execute_result"
    }
   ],
   "source": [
    "funds.columns"
   ]
  },
  {
   "cell_type": "markdown",
   "metadata": {},
   "source": [
    "Load factors"
   ]
  },
  {
   "cell_type": "code",
   "execution_count": 5,
   "metadata": {},
   "outputs": [
    {
     "data": {
      "text/plain": [
       "(1105, 5)"
      ]
     },
     "execution_count": 5,
     "metadata": {},
     "output_type": "execute_result"
    }
   ],
   "source": [
    "momentum = pd.read_csv('../data/F-F_Momentum_Factor.CSV')\n",
    "factors = pd.read_csv('../data/F-F_Research_Data_Factors.CSV')\n",
    "# convert \n",
    "for df in [momentum,factors]:\n",
    "    df['Dates'] = pd.to_datetime(df.Dates.astype(str)\\\n",
    "                                 .apply(lambda x: x[0:4]+'/'+x[4:]),\n",
    "                                 format=\"%Y/%m\")\n",
    "    df.set_index('Dates',inplace=True)\n",
    "\n",
    "factors = pd.merge(factors, momentum, left_index=True, right_index=True)\n",
    "factors.shape"
   ]
  },
  {
   "cell_type": "markdown",
   "metadata": {},
   "source": [
    "Line up time of data"
   ]
  },
  {
   "cell_type": "code",
   "execution_count": 6,
   "metadata": {},
   "outputs": [
    {
     "data": {
      "text/plain": [
       "((239, 2712), (239, 5))"
      ]
     },
     "execution_count": 6,
     "metadata": {},
     "output_type": "execute_result"
    }
   ],
   "source": [
    "fund_start,fund_end = funds.index.min(),funds.index.max()\n",
    "fact_start,fact_end = factors.index.min(),factors.index.max()\n",
    "\n",
    "# clip starts\n",
    "if fact_start < fund_start:\n",
    "    factors.drop(factors.index[factors.index < fund_start],inplace=True,axis=0)\n",
    "else:\n",
    "    funds.drop(funds.index[funds.index < fact_start],inplace=True,axis=0)\n",
    "    \n",
    "# clip ends\n",
    "if fund_end > fact_end:\n",
    "    funds.drop(funds.index[funds.index > fact_end],inplace=True,axis=0)\n",
    "else:\n",
    "    factors.drop(factors.index[factors.index > fund_end],inplace=True,axis=0)\n",
    "\n",
    "# check shapes\n",
    "funds.shape, factors.shape"
   ]
  },
  {
   "cell_type": "code",
   "execution_count": 7,
   "metadata": {},
   "outputs": [],
   "source": [
    "# select columns of interest\n",
    "# take out Mom for 3 factor KAPM\n",
    "factor_cols = ['Mkt-RF','HML','SMB','RF', 'Mom'] \n",
    "factors = factors[factor_cols]"
   ]
  },
  {
   "cell_type": "code",
   "execution_count": 9,
   "metadata": {},
   "outputs": [],
   "source": [
    "# funds.to_csv('../data/US Large Funds.csv')\n",
    "# factors.to_csv('../data/US Large Factors.csv')"
   ]
  },
  {
   "cell_type": "markdown",
   "metadata": {},
   "source": [
    "### Initial Simulation (standard deviation alpha = 0)"
   ]
  },
  {
   "cell_type": "code",
   "execution_count": 108,
   "metadata": {},
   "outputs": [
    {
     "name": "stdout",
     "output_type": "stream",
     "text": [
      "--------------------------\n",
      "Standard Deviation 1 of 21\n",
      "--------------------------\n",
      "Annual standard deviation: 0.00, Monthly standard deviation alpha: 0.00\n",
      "Starting 2,703,000 regressions...\n"
     ]
    },
    {
     "ename": "KeyboardInterrupt",
     "evalue": "",
     "output_type": "error",
     "traceback": [
      "\u001b[0;31m---------------------------------------------------------------------------\u001b[0m",
      "\u001b[0;31mKeyboardInterrupt\u001b[0m                         Traceback (most recent call last)",
      "\u001b[0;32m<ipython-input-108-4a19b92ab17d>\u001b[0m in \u001b[0;36m<module>\u001b[0;34m\u001b[0m\n\u001b[1;32m     36\u001b[0m \u001b[0;31m# runs simulations and populates simulated coeff, SE, and tstat matrices\u001b[0m\u001b[0;34m\u001b[0m\u001b[0;34m\u001b[0m\u001b[0;34m\u001b[0m\u001b[0m\n\u001b[1;32m     37\u001b[0m AEV.simulate(n_simulations=n_simulations,random_seed=random_seed,sim_std=0,\n\u001b[0;32m---> 38\u001b[0;31m              sim_cutoff=sim_cutoff,verbose=verbose)\n\u001b[0m\u001b[1;32m     39\u001b[0m \u001b[0;34m\u001b[0m\u001b[0m\n\u001b[1;32m     40\u001b[0m \u001b[0;31m# populates percentile tables for alpha and t(alpha)\u001b[0m\u001b[0;34m\u001b[0m\u001b[0;34m\u001b[0m\u001b[0;34m\u001b[0m\u001b[0m\n",
      "\u001b[0;32m~/Projects/Fama-French-Funds/src/luck_v_skill.py\u001b[0m in \u001b[0;36msimulate\u001b[0;34m(self, n_simulations, random_seed, verbose, sim_std, sim_cutoff, *args, **kwargs)\u001b[0m\n\u001b[1;32m    401\u001b[0m \u001b[0;34m\u001b[0m\u001b[0m\n\u001b[1;32m    402\u001b[0m                     \u001b[0;31m# HAC OLS and store alpha and t(alpha)\u001b[0m\u001b[0;34m\u001b[0m\u001b[0;34m\u001b[0m\u001b[0;34m\u001b[0m\u001b[0m\n\u001b[0;32m--> 403\u001b[0;31m                     \u001b[0mbeta\u001b[0m\u001b[0;34m,\u001b[0m\u001b[0mhac_bse\u001b[0m \u001b[0;34m=\u001b[0m \u001b[0mOLS_HAC\u001b[0m\u001b[0;34m(\u001b[0m\u001b[0my_sim\u001b[0m\u001b[0;34m,\u001b[0m\u001b[0mx_sim\u001b[0m\u001b[0;34m,\u001b[0m\u001b[0mmaxLag\u001b[0m\u001b[0;34m=\u001b[0m\u001b[0mself\u001b[0m\u001b[0;34m.\u001b[0m\u001b[0mmaxLag\u001b[0m\u001b[0;34m)\u001b[0m\u001b[0;34m\u001b[0m\u001b[0;34m\u001b[0m\u001b[0m\n\u001b[0m\u001b[1;32m    404\u001b[0m                     \u001b[0mself\u001b[0m\u001b[0;34m.\u001b[0m\u001b[0m_alphas_sim\u001b[0m\u001b[0;34m[\u001b[0m\u001b[0mjj\u001b[0m\u001b[0;34m,\u001b[0m\u001b[0mss\u001b[0m\u001b[0;34m]\u001b[0m \u001b[0;34m=\u001b[0m \u001b[0mbeta\u001b[0m\u001b[0;34m[\u001b[0m\u001b[0;36m0\u001b[0m\u001b[0;34m]\u001b[0m\u001b[0;34m\u001b[0m\u001b[0;34m\u001b[0m\u001b[0m\n\u001b[1;32m    405\u001b[0m                     \u001b[0mself\u001b[0m\u001b[0;34m.\u001b[0m\u001b[0m_tstats_sim\u001b[0m\u001b[0;34m[\u001b[0m\u001b[0mjj\u001b[0m\u001b[0;34m,\u001b[0m\u001b[0mss\u001b[0m\u001b[0;34m]\u001b[0m \u001b[0;34m=\u001b[0m \u001b[0mbeta\u001b[0m\u001b[0;34m[\u001b[0m\u001b[0;36m0\u001b[0m\u001b[0;34m]\u001b[0m\u001b[0;34m/\u001b[0m\u001b[0mhac_bse\u001b[0m\u001b[0;34m[\u001b[0m\u001b[0;36m0\u001b[0m\u001b[0;34m]\u001b[0m\u001b[0;34m\u001b[0m\u001b[0;34m\u001b[0m\u001b[0m\n",
      "\u001b[0;32m~/Projects/Fama-French-Funds/src/luck_v_skill.py\u001b[0m in \u001b[0;36mOLS_HAC\u001b[0;34m(Y, X, add_const, maxLag)\u001b[0m\n\u001b[1;32m    123\u001b[0m     \u001b[0;31m# add constant if necessary\u001b[0m\u001b[0;34m\u001b[0m\u001b[0;34m\u001b[0m\u001b[0;34m\u001b[0m\u001b[0m\n\u001b[1;32m    124\u001b[0m     \u001b[0;32mif\u001b[0m \u001b[0madd_const\u001b[0m\u001b[0;34m:\u001b[0m\u001b[0;34m\u001b[0m\u001b[0;34m\u001b[0m\u001b[0m\n\u001b[0;32m--> 125\u001b[0;31m         \u001b[0mx\u001b[0m \u001b[0;34m=\u001b[0m \u001b[0msm\u001b[0m\u001b[0;34m.\u001b[0m\u001b[0madd_constant\u001b[0m\u001b[0;34m(\u001b[0m\u001b[0mx\u001b[0m\u001b[0;34m)\u001b[0m\u001b[0;34m\u001b[0m\u001b[0;34m\u001b[0m\u001b[0m\n\u001b[0m\u001b[1;32m    126\u001b[0m \u001b[0;34m\u001b[0m\u001b[0m\n\u001b[1;32m    127\u001b[0m     \u001b[0;31m# Get Results\u001b[0m\u001b[0;34m\u001b[0m\u001b[0;34m\u001b[0m\u001b[0;34m\u001b[0m\u001b[0m\n",
      "\u001b[0;32m/anaconda3/lib/python3.7/site-packages/statsmodels/tools/tools.py\u001b[0m in \u001b[0;36madd_constant\u001b[0;34m(data, prepend, has_constant)\u001b[0m\n\u001b[1;32m    279\u001b[0m     \u001b[0mis_nonzero_const\u001b[0m \u001b[0;34m=\u001b[0m \u001b[0mnp\u001b[0m\u001b[0;34m.\u001b[0m\u001b[0mptp\u001b[0m\u001b[0;34m(\u001b[0m\u001b[0mx\u001b[0m\u001b[0;34m,\u001b[0m \u001b[0maxis\u001b[0m\u001b[0;34m=\u001b[0m\u001b[0;36m0\u001b[0m\u001b[0;34m)\u001b[0m \u001b[0;34m==\u001b[0m \u001b[0;36m0\u001b[0m\u001b[0;34m\u001b[0m\u001b[0;34m\u001b[0m\u001b[0m\n\u001b[1;32m    280\u001b[0m     \u001b[0mis_nonzero_const\u001b[0m \u001b[0;34m&=\u001b[0m \u001b[0mnp\u001b[0m\u001b[0;34m.\u001b[0m\u001b[0mall\u001b[0m\u001b[0;34m(\u001b[0m\u001b[0mx\u001b[0m \u001b[0;34m!=\u001b[0m \u001b[0;36m0.0\u001b[0m\u001b[0;34m,\u001b[0m \u001b[0maxis\u001b[0m\u001b[0;34m=\u001b[0m\u001b[0;36m0\u001b[0m\u001b[0;34m)\u001b[0m\u001b[0;34m\u001b[0m\u001b[0;34m\u001b[0m\u001b[0m\n\u001b[0;32m--> 281\u001b[0;31m     \u001b[0;32mif\u001b[0m \u001b[0mis_nonzero_const\u001b[0m\u001b[0;34m.\u001b[0m\u001b[0many\u001b[0m\u001b[0;34m(\u001b[0m\u001b[0;34m)\u001b[0m\u001b[0;34m:\u001b[0m\u001b[0;34m\u001b[0m\u001b[0;34m\u001b[0m\u001b[0m\n\u001b[0m\u001b[1;32m    282\u001b[0m         \u001b[0;32mif\u001b[0m \u001b[0mhas_constant\u001b[0m \u001b[0;34m==\u001b[0m \u001b[0;34m'skip'\u001b[0m\u001b[0;34m:\u001b[0m\u001b[0;34m\u001b[0m\u001b[0;34m\u001b[0m\u001b[0m\n\u001b[1;32m    283\u001b[0m             \u001b[0;32mreturn\u001b[0m \u001b[0mx\u001b[0m\u001b[0;34m\u001b[0m\u001b[0;34m\u001b[0m\u001b[0m\n",
      "\u001b[0;32m/anaconda3/lib/python3.7/site-packages/numpy/core/_methods.py\u001b[0m in \u001b[0;36m_any\u001b[0;34m(a, axis, dtype, out, keepdims)\u001b[0m\n\u001b[1;32m     41\u001b[0m \u001b[0;34m\u001b[0m\u001b[0m\n\u001b[1;32m     42\u001b[0m \u001b[0;32mdef\u001b[0m \u001b[0m_any\u001b[0m\u001b[0;34m(\u001b[0m\u001b[0ma\u001b[0m\u001b[0;34m,\u001b[0m \u001b[0maxis\u001b[0m\u001b[0;34m=\u001b[0m\u001b[0;32mNone\u001b[0m\u001b[0;34m,\u001b[0m \u001b[0mdtype\u001b[0m\u001b[0;34m=\u001b[0m\u001b[0;32mNone\u001b[0m\u001b[0;34m,\u001b[0m \u001b[0mout\u001b[0m\u001b[0;34m=\u001b[0m\u001b[0;32mNone\u001b[0m\u001b[0;34m,\u001b[0m \u001b[0mkeepdims\u001b[0m\u001b[0;34m=\u001b[0m\u001b[0;32mFalse\u001b[0m\u001b[0;34m)\u001b[0m\u001b[0;34m:\u001b[0m\u001b[0;34m\u001b[0m\u001b[0;34m\u001b[0m\u001b[0m\n\u001b[0;32m---> 43\u001b[0;31m     \u001b[0;32mreturn\u001b[0m \u001b[0mumr_any\u001b[0m\u001b[0;34m(\u001b[0m\u001b[0ma\u001b[0m\u001b[0;34m,\u001b[0m \u001b[0maxis\u001b[0m\u001b[0;34m,\u001b[0m \u001b[0mdtype\u001b[0m\u001b[0;34m,\u001b[0m \u001b[0mout\u001b[0m\u001b[0;34m,\u001b[0m \u001b[0mkeepdims\u001b[0m\u001b[0;34m)\u001b[0m\u001b[0;34m\u001b[0m\u001b[0;34m\u001b[0m\u001b[0m\n\u001b[0m\u001b[1;32m     44\u001b[0m \u001b[0;34m\u001b[0m\u001b[0m\n\u001b[1;32m     45\u001b[0m \u001b[0;32mdef\u001b[0m \u001b[0m_all\u001b[0m\u001b[0;34m(\u001b[0m\u001b[0ma\u001b[0m\u001b[0;34m,\u001b[0m \u001b[0maxis\u001b[0m\u001b[0;34m=\u001b[0m\u001b[0;32mNone\u001b[0m\u001b[0;34m,\u001b[0m \u001b[0mdtype\u001b[0m\u001b[0;34m=\u001b[0m\u001b[0;32mNone\u001b[0m\u001b[0;34m,\u001b[0m \u001b[0mout\u001b[0m\u001b[0;34m=\u001b[0m\u001b[0;32mNone\u001b[0m\u001b[0;34m,\u001b[0m \u001b[0mkeepdims\u001b[0m\u001b[0;34m=\u001b[0m\u001b[0;32mFalse\u001b[0m\u001b[0;34m)\u001b[0m\u001b[0;34m:\u001b[0m\u001b[0;34m\u001b[0m\u001b[0;34m\u001b[0m\u001b[0m\n",
      "\u001b[0;31mKeyboardInterrupt\u001b[0m: "
     ]
    }
   ],
   "source": [
    "# This code cell runs the data through the AlphaEvaluator object found in\n",
    "# the luck_v_skill.py file. Creates tables of actual alpha percentiles vs\n",
    "# simulated alpha percentiles with increasing standard deviation asssumptions\n",
    "# about injected alpha. The first operation assumes std_alpha = 0.\n",
    "\n",
    "#----------------------------------------------------------------------------\n",
    "# OUTPUT PARAMETERS\n",
    "#----------------------------------------------------------------------------\n",
    "top_n = 10 # look at top 10 and bottom ten funds, in addition to percentiles\n",
    "pct_range = np.arange(1,10)/10 # percentiles to consider.  0 < x < 1\n",
    "verbose = True # keep track of where in program we are at\n",
    "min_obs = 120 # funds must have at least this many obs to be considered\n",
    "sim_cutoff = 15 # minimum non-NaN obs in sim_matrix obs for regression\n",
    "n_simulations = 1000 # number of simulations to run\n",
    "random_seed = 2 # seed the random number generator here\n",
    "std_range = np.arange(1,21)/20 # standard deviations of alpha to simulate\n",
    "n_std = len(std_range) + 1 # number of extra standard deviations evaluating\n",
    "\n",
    "\n",
    "#----------------------------------------------------------------------------\n",
    "# START\n",
    "#----------------------------------------------------------------------------\n",
    "# Time the program\n",
    "start_time = time.time()\n",
    "if verbose:\n",
    "    title_print(\"Standard Deviation {} of {}\".format(1,n_std))\n",
    "\n",
    "# initialize instance of the AlphaEvaluator with fund and factor data\n",
    "AEV = AlphaEvaluator(fund_data=funds,factor_data=factors)\n",
    "\n",
    "# calculates original coefficients, standard errors, and t-stats\n",
    "AEV.fit(min_obs=min_obs)\n",
    "\n",
    "\n",
    "\n",
    "# runs simulations and populates simulated coeff, SE, and tstat matrices\n",
    "AEV.simulate(n_simulations=n_simulations,random_seed=random_seed,sim_std=0,\n",
    "             sim_cutoff=sim_cutoff,verbose=verbose)\n",
    "\n",
    "# populates percentile tables for alpha and t(alpha)\n",
    "AEV.get_percentiles(pct_range=pct_range,verbose=verbose,top_n=top_n)\n",
    "data_a, data_t = AEV.data_a.copy(), AEV.data_t.copy()\n",
    "\n",
    "# Rename data columns\n",
    "data_a.columns = ['Actual','Sim Avg (0.00)', '%<Act (0.00)']\n",
    "data_t.columns = ['Actual','Sim Avg (0.00)', '%<Act (0.00)']"
   ]
  },
  {
   "cell_type": "markdown",
   "metadata": {},
   "source": [
    "### Plots"
   ]
  },
  {
   "cell_type": "code",
   "execution_count": null,
   "metadata": {
    "scrolled": false
   },
   "outputs": [],
   "source": [
    "fig, axes = AEV.plot(plot_type=['cdf','kde','hist'],\n",
    "                     statistic=['alpha','t-stat'],\n",
    "                     fund=[-1,0])\n",
    "plt.tight_layout()\n",
    "plt.savefig('../charts/US-Large-4factor-plots.png')"
   ]
  },
  {
   "cell_type": "markdown",
   "metadata": {},
   "source": [
    "### More Simulations"
   ]
  },
  {
   "cell_type": "code",
   "execution_count": null,
   "metadata": {
    "scrolled": false
   },
   "outputs": [],
   "source": [
    "# fill data with more simulations\n",
    "for i,stdev in enumerate(std_range):\n",
    "    if verbose:\n",
    "        title_print(\"Standard Deviation {} of {}\".format(i+2,n_std))\n",
    "    \n",
    "    # Rerun simulation with new standard deviation injection for alpha\n",
    "    AEV.simulate(n_simulations=n_simulations,random_seed=random_seed,\n",
    "                 sim_std=stdev,sim_cutoff=sim_cutoff,verbose=verbose)\n",
    "    \n",
    "    # Update Percentile Data\n",
    "    AEV.get_percentiles(pct_range=pct_range,verbose=True,top_n=top_n)\n",
    "    \n",
    "    # Populate Alpha Percentile Table\n",
    "    data_a['Sim Avg ({:.2f})'.format(stdev)] = AEV.data_a['Sim Avg']\n",
    "    data_a['%<Act ({:.2f})'.format(stdev)] = AEV.data_a['%<Act']\n",
    "    \n",
    "    # Populate t-statistics Percentile Table\n",
    "    data_t['Sim Avg ({:.2f})'.format(stdev)] = AEV.data_t['Sim Avg']\n",
    "    data_t['%<Act ({:.2f})'.format(stdev)] = AEV.data_t['%<Act']\n",
    "\n",
    "\n",
    "#----------------------------------------------------------------------------\n",
    "# END\n",
    "#----------------------------------------------------------------------------\n",
    "\n",
    "# calculate time elapsed for program and print    \n",
    "t_diff = time.time()-start_time\n",
    "minutes = int(np.floor(t_diff/60))\n",
    "seconds = t_diff - 60*minutes\n",
    "if verbose:\n",
    "    print(\"DONE!\")\n",
    "    print(\"{} minutes and {:.2f} seconds elapsed for this program\".format(minutes,seconds))"
   ]
  },
  {
   "cell_type": "code",
   "execution_count": null,
   "metadata": {
    "scrolled": true
   },
   "outputs": [],
   "source": [
    "data_a.to_csv('../tables/US-Large-4factor-alphas.csv')\n",
    "data_t.to_csv('../tables/US-Large-4factor-tstats.csv')"
   ]
  },
  {
   "cell_type": "code",
   "execution_count": 9,
   "metadata": {},
   "outputs": [
    {
     "data": {
      "text/plain": [
       "((29, 43), (29, 43))"
      ]
     },
     "execution_count": 9,
     "metadata": {},
     "output_type": "execute_result"
    }
   ],
   "source": [
    "data_a.shape, data_t.shape"
   ]
  },
  {
   "cell_type": "code",
   "execution_count": 10,
   "metadata": {},
   "outputs": [
    {
     "name": "stdout",
     "output_type": "stream",
     "text": [
      "This notebook has been saved\n"
     ]
    }
   ],
   "source": [
    "notebook_save()"
   ]
  },
  {
   "cell_type": "code",
   "execution_count": null,
   "metadata": {},
   "outputs": [],
   "source": []
  },
  {
   "cell_type": "code",
   "execution_count": null,
   "metadata": {},
   "outputs": [],
   "source": []
  },
  {
   "cell_type": "code",
   "execution_count": null,
   "metadata": {},
   "outputs": [],
   "source": []
  },
  {
   "cell_type": "code",
   "execution_count": null,
   "metadata": {},
   "outputs": [],
   "source": []
  },
  {
   "cell_type": "code",
   "execution_count": null,
   "metadata": {},
   "outputs": [],
   "source": []
  },
  {
   "cell_type": "code",
   "execution_count": null,
   "metadata": {},
   "outputs": [],
   "source": []
  },
  {
   "cell_type": "code",
   "execution_count": null,
   "metadata": {},
   "outputs": [],
   "source": []
  },
  {
   "cell_type": "code",
   "execution_count": null,
   "metadata": {},
   "outputs": [],
   "source": []
  },
  {
   "cell_type": "code",
   "execution_count": null,
   "metadata": {},
   "outputs": [],
   "source": []
  }
 ],
 "metadata": {
  "kernelspec": {
   "display_name": "Python 3",
   "language": "python",
   "name": "python3"
  },
  "language_info": {
   "codemirror_mode": {
    "name": "ipython",
    "version": 3
   },
   "file_extension": ".py",
   "mimetype": "text/x-python",
   "name": "python",
   "nbconvert_exporter": "python",
   "pygments_lexer": "ipython3",
   "version": "3.7.1"
  }
 },
 "nbformat": 4,
 "nbformat_minor": 2
}
