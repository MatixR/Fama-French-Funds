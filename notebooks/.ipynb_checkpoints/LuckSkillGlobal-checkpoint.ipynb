{
 "cells": [
  {
   "cell_type": "code",
   "execution_count": 71,
   "metadata": {
    "colab": {
     "base_uri": "https://localhost:8080/",
     "height": 71
    },
    "colab_type": "code",
    "id": "7RVqSfGA8G-9",
    "outputId": "c8a0c970-737d-439a-97ee-3fee6f2ff232"
   },
   "outputs": [],
   "source": [
    "#Preliminaries\n",
    "import numpy as np\n",
    "import pandas as pd\n",
    "import random\n",
    "import statsmodels.api as sm\n",
    "import math\n",
    "from sklearn.utils import resample\n",
    "from scipy import percentile\n",
    "from scipy import stats\n",
    "from matplotlib import pyplot as plt\n",
    "import requests\n",
    "import io\n",
    "import seaborn as sns\n",
    "from matplotlib.patches import Rectangle\n",
    "sns.set()"
   ]
  },
  {
   "cell_type": "code",
   "execution_count": 72,
   "metadata": {
    "colab": {},
    "colab_type": "code",
    "id": "4HYjxnj03ZpD"
   },
   "outputs": [],
   "source": [
    "# Create function to calculate the lag selection parameter for the standard HAC Newey-West\n",
    "# (1994) plug-in procedure\n",
    "def mLag(no_obs):\n",
    "    result = math.floor(math.pow(4*no_obs/100,(2/9)))\n",
    "    return result\n",
    "\n",
    "# Set up regression function with Newey-West Standard Errors (HAC)\n",
    "def ols(dependent_var, regressors, no_obs):\n",
    "    result = sm.OLS(endog=dependent_var, exog=regressors, missing='drop').\\\n",
    "                fit(cov_type='HAC',cov_kwds={'maxlags':mLag(no_obs)+1})\n",
    "    return result\n",
    "\n",
    "# Set up regression function with Newey-West Standard Errors (HAC)\n",
    "def ols_s(left_side, right_side, maxLag_temp):\n",
    "    result = sm.OLS(left_side, right_side, missing='drop').fit(cov_type='HAC',cov_kwds={'maxlags':maxLag_temp})\n",
    "    return result\n",
    "\n",
    "def ecdf(sample):\n",
    "    sample = np.atleast_1d(sample)\n",
    "    quantiles, counts = np.unique(sample, return_counts=True)\n",
    "    cumprob = np.cumsum(counts).astype(np.double) / sample.size\n",
    "    return quantiles, cumprob"
   ]
  },
  {
   "cell_type": "markdown",
   "metadata": {},
   "source": [
    "### Load Data"
   ]
  },
  {
   "cell_type": "code",
   "execution_count": 73,
   "metadata": {},
   "outputs": [
    {
     "data": {
      "text/plain": [
       "((240, 193), (240, 4))"
      ]
     },
     "execution_count": 73,
     "metadata": {},
     "output_type": "execute_result"
    }
   ],
   "source": [
    "# Dataset is local, not on github\n",
    "Y_raw = pd.read_csv('../data/global_funds.csv',parse_dates=['Dates'],index_col=['Dates'])\n",
    "X_raw = pd.read_csv('../data/global_factors.csv',parse_dates=['Dates'],index_col=['Dates'])\n",
    "    \n",
    "Y_raw.shape,X_raw.shape\n"
   ]
  },
  {
   "cell_type": "code",
   "execution_count": 74,
   "metadata": {
    "colab": {
     "base_uri": "https://localhost:8080/",
     "height": 34
    },
    "colab_type": "code",
    "id": "T5SbG6458KDm",
    "outputId": "cc263774-68c4-4d04-80c0-d35664e09070"
   },
   "outputs": [
    {
     "data": {
      "text/plain": [
       "((240, 125), 3)"
      ]
     },
     "execution_count": 74,
     "metadata": {},
     "output_type": "execute_result"
    }
   ],
   "source": [
    "# Create lists of Fama-French factors and mutual fund symbols\n",
    "min_number_of_obs = 120\n",
    "Y_all = Y_raw.loc[:, (Y_raw.count().values > min_number_of_obs)] # discard funds with too many missing values\n",
    "Y_all = Y_all.sub(X_raw['RF'],axis=0) # subtract RF from fund returns\n",
    "funds = Y_all.columns.get_values().tolist() # list with names of funds\n",
    "factors = X_raw.columns.get_values().tolist() # list with names of global factors\n",
    "\n",
    "# remove RF since we already differenced it in Y\n",
    "factors_remove = ['RF'] # remove these factors from list of factors\n",
    "for items in factors_remove:\n",
    "    factors.remove(items)\n",
    "\n",
    "Y_all.shape, len(factors)"
   ]
  },
  {
   "cell_type": "code",
   "execution_count": 75,
   "metadata": {
    "colab": {
     "base_uri": "https://localhost:8080/",
     "height": 255
    },
    "colab_type": "code",
    "id": "8OJ6adGjQQUF",
    "outputId": "7e1f8f22-6a11-42bd-dacc-f7221627150d"
   },
   "outputs": [
    {
     "name": "stdout",
     "output_type": "stream",
     "text": [
      "<class 'pandas.core.frame.DataFrame'>\n",
      "DatetimeIndex: 240 entries, 1999-01-31 to 2018-12-31\n",
      "Data columns (total 4 columns):\n",
      "const     240 non-null float64\n",
      "Mkt-RF    240 non-null float64\n",
      "SMB       240 non-null float64\n",
      "HML       240 non-null float64\n",
      "dtypes: float64(4)\n",
      "memory usage: 9.4 KB\n"
     ]
    }
   ],
   "source": [
    "# create matrix of regressors for regression analysis\n",
    "X_mat=X_raw[factors].copy()\n",
    "X_mat.insert(0, 'const', float(1)) # insert column of ones for the constant in regression\n",
    "X_mat.rename({'WLRF':'Mkt-RF'},axis='columns',inplace=True)\n",
    "\n",
    "# Data Type and Shape information\n",
    "X_mat.info()\n"
   ]
  },
  {
   "cell_type": "markdown",
   "metadata": {
    "colab_type": "text",
    "id": "wyQWTzPCqq6y"
   },
   "source": [
    "## 1. Constructing matrix of dependent variables (fund returns) and explanatory variables (factor returns)"
   ]
  },
  {
   "cell_type": "code",
   "execution_count": 76,
   "metadata": {
    "colab": {},
    "colab_type": "code",
    "id": "7VTn3WbmA9QD"
   },
   "outputs": [],
   "source": [
    "# Parameters of Simulations\n",
    "np.random.seed(2) \n",
    "n_obs = X_mat.shape[0]  # number of observations\n",
    "n_funds = Y_all.shape[1]  # number of funds with return series\n",
    "n_factors = X_mat.shape[1]-1 # risk factors\n",
    "n_simulations = 1000 # number of simulations\n",
    "\n",
    "# Variable Names\n",
    "factor_names=['Alpha','Mkt-RF','SMB','HML']\n",
    "sim_factors=['Mkt-RF', 'SMB', 'HML']\n",
    "one_name=['Alpha']\n",
    "\n",
    "# Empty coefficient and standard error matrices (fill with results later)\n",
    "orig_coeffs = pd.DataFrame(np.zeros(shape = (n_factors+1, n_funds)), index=factor_names, columns = funds)/0\n",
    "orig_SE_coeffs = pd.DataFrame(np.zeros(shape = (n_factors+1, n_funds)), index=factor_names, columns = funds)/0\n"
   ]
  },
  {
   "cell_type": "markdown",
   "metadata": {
    "colab_type": "text",
    "id": "ilbRwQUPrQ8-"
   },
   "source": [
    "## 2. Perform initial regressions on actual fund returns"
   ]
  },
  {
   "cell_type": "code",
   "execution_count": 77,
   "metadata": {
    "colab": {
     "base_uri": "https://localhost:8080/",
     "height": 170
    },
    "colab_type": "code",
    "id": "hll8XBzIB1u-",
    "outputId": "b2372dd9-243c-41b2-d468-bc04c09e68df",
    "scrolled": true
   },
   "outputs": [
    {
     "name": "stdout",
     "output_type": "stream",
     "text": [
      "coefficients\n",
      "------------\n",
      "const     0.154505\n",
      "Mkt-RF    0.928434\n",
      "SMB      -0.006721\n",
      "HML       0.127987\n",
      "dtype: float64 \n",
      "\n",
      "standard errors\n",
      "---------------\n",
      "const     0.067194\n",
      "Mkt-RF    0.016006\n",
      "SMB       0.047993\n",
      "HML       0.048858\n",
      "dtype: float64 \n",
      "\n",
      "# observations\n",
      "--------------\n",
      "240.0 \n",
      "\n"
     ]
    }
   ],
   "source": [
    "# Calculate number of observations per fund per simulation for future\n",
    "# reference:\n",
    "n_i = (~np.isnan(Y_all)).sum(axis=0) # number of observations of each fund in data\n",
    "\n",
    "# Test ols function\n",
    "test_fund = 0\n",
    "y_sample = Y_all.iloc[:,test_fund]         # y_sample is just one column of Y_all\n",
    "lm = ols(y_sample, X_mat, n_i.iloc[test_fund]) \n",
    "\n",
    "# Check Sample Regression Results\n",
    "for name,result in zip(['coefficients','standard errors','# observations'],\n",
    "                       [lm.params, lm.bse, lm.nobs]):\n",
    "    print(name)\n",
    "    print(\"-\"*len(name))\n",
    "    print(result,\"\\n\")"
   ]
  },
  {
   "cell_type": "code",
   "execution_count": 78,
   "metadata": {
    "colab": {
     "base_uri": "https://localhost:8080/",
     "height": 714
    },
    "colab_type": "code",
    "id": "bbfz86SBf_ES",
    "outputId": "3e3a8fa7-3697-462b-bba5-8810e6c06ff0"
   },
   "outputs": [],
   "source": [
    "#Perform initial regressions on fund returns\n",
    "for fund in range(n_funds):\n",
    "    y_sample = Y_all.iloc[:,fund] # choose fund\n",
    "    lm = ols(y_sample,X_mat, n_i[fund]) # run OLS\n",
    "    \n",
    "    for factor in range(n_factors+1):   \n",
    "        orig_coeffs.iloc[factor, fund] = lm.params.iloc[factor]\n",
    "        orig_SE_coeffs.iloc[factor, fund] = lm.bse.iloc[factor]"
   ]
  },
  {
   "cell_type": "markdown",
   "metadata": {},
   "source": [
    "### TODO\n",
    "Checkout a plotly representation of the coefficient and standard error data. Possibly four histograms."
   ]
  },
  {
   "cell_type": "code",
   "execution_count": 79,
   "metadata": {
    "scrolled": false
   },
   "outputs": [
    {
     "name": "stdout",
     "output_type": "stream",
     "text": [
      "<class 'pandas.core.frame.DataFrame'>\n",
      "Index: 4 entries, Alpha to HML\n",
      "Columns: 125 entries, CWIAX to WIMVX\n",
      "dtypes: float64(125)\n",
      "memory usage: 3.9+ KB\n",
      "None\n"
     ]
    },
    {
     "data": {
      "text/plain": [
       "CWIAX    0.154505\n",
       "CNPAX    0.218319\n",
       "TEDIX    0.233386\n",
       "VTWSX   -0.046309\n",
       "OWLSX   -0.148419\n",
       "Name: Alpha, dtype: float64"
      ]
     },
     "execution_count": 79,
     "metadata": {},
     "output_type": "execute_result"
    }
   ],
   "source": [
    "# Regression coefficient dataframe preview\n",
    "print(orig_coeffs.info())\n",
    "orig_coeffs.T.Alpha.head()"
   ]
  },
  {
   "cell_type": "code",
   "execution_count": 80,
   "metadata": {},
   "outputs": [
    {
     "name": "stdout",
     "output_type": "stream",
     "text": [
      "<class 'pandas.core.frame.DataFrame'>\n",
      "Index: 4 entries, Alpha to HML\n",
      "Columns: 125 entries, CWIAX to WIMVX\n",
      "dtypes: float64(125)\n",
      "memory usage: 3.9+ KB\n"
     ]
    },
    {
     "data": {
      "text/plain": [
       "CWIAX    0.067194\n",
       "CNPAX    0.064061\n",
       "TEDIX    0.099452\n",
       "VTWSX    0.036009\n",
       "OWLSX    0.103827\n",
       "Name: Alpha, dtype: float64"
      ]
     },
     "execution_count": 80,
     "metadata": {},
     "output_type": "execute_result"
    }
   ],
   "source": [
    "# Coefficient Standard Error preview\n",
    "orig_SE_coeffs.info()\n",
    "orig_SE_coeffs.T.Alpha.head()"
   ]
  },
  {
   "cell_type": "markdown",
   "metadata": {},
   "source": [
    "Added this chart, to help visualize alphas and standard errors"
   ]
  },
  {
   "cell_type": "code",
   "execution_count": 81,
   "metadata": {},
   "outputs": [
    {
     "data": {
      "image/png": "[encoded data removed]",
      "text/plain": [
       "<Figure size 1440x288 with 1 Axes>"
      ]
     },
     "metadata": {},
     "output_type": "display_data"
    }
   ],
   "source": [
    "# sort by alpha (descending order)\n",
    "funds_by_alpha = np.argsort(orig_coeffs.iloc[0,:])[::-1] \n",
    "\n",
    "# Bar Chart\n",
    "plt.figure(figsize=(20,4))\n",
    "plt.bar(x=range(n_funds),\n",
    "        height=orig_coeffs.iloc[0,:][funds_by_alpha],\n",
    "        tick_label=orig_coeffs.columns[funds_by_alpha],\n",
    "        yerr=orig_SE_coeffs.iloc[0,:][funds_by_alpha])\n",
    "plt.xticks(rotation=90)\n",
    "plt.xlim((-1,n_funds))\n",
    "plt.suptitle(r\"Fund $\\alpha$'s (S.E.'s in black)\")\n",
    "\n",
    "plt.show()"
   ]
  },
  {
   "cell_type": "code",
   "execution_count": 82,
   "metadata": {
    "colab": {
     "base_uri": "https://localhost:8080/",
     "height": 442
    },
    "colab_type": "code",
    "id": "8zmQOpWeCJuQ",
    "outputId": "d66ad4e0-8eba-41f1-ab5f-9c346c1d185a",
    "scrolled": true
   },
   "outputs": [
    {
     "data": {
      "text/html": [
       "<div>\n",
       "<style scoped>\n",
       "    .dataframe tbody tr th:only-of-type {\n",
       "        vertical-align: middle;\n",
       "    }\n",
       "\n",
       "    .dataframe tbody tr th {\n",
       "        vertical-align: top;\n",
       "    }\n",
       "\n",
       "    .dataframe thead th {\n",
       "        text-align: right;\n",
       "    }\n",
       "</style>\n",
       "<table border=\"1\" class=\"dataframe\">\n",
       "  <thead>\n",
       "    <tr style=\"text-align: right;\">\n",
       "      <th></th>\n",
       "      <th>CWIAX</th>\n",
       "      <th>CNPAX</th>\n",
       "      <th>TEDIX</th>\n",
       "      <th>VTWSX</th>\n",
       "      <th>OWLSX</th>\n",
       "      <th>TEPLX</th>\n",
       "      <th>OPPAX</th>\n",
       "      <th>DODWX</th>\n",
       "      <th>DGEIX</th>\n",
       "      <th>VHGEX</th>\n",
       "      <th>...</th>\n",
       "      <th>CGVIX</th>\n",
       "      <th>CAMAX</th>\n",
       "      <th>IGEIX</th>\n",
       "      <th>COGZX</th>\n",
       "      <th>BGVIX</th>\n",
       "      <th>ENTIX</th>\n",
       "      <th>GGESX</th>\n",
       "      <th>APGRX</th>\n",
       "      <th>TRGSX</th>\n",
       "      <th>WIMVX</th>\n",
       "    </tr>\n",
       "  </thead>\n",
       "  <tbody>\n",
       "    <tr>\n",
       "      <th>t(Alpha)</th>\n",
       "      <td>2.299372</td>\n",
       "      <td>3.407998</td>\n",
       "      <td>2.346720</td>\n",
       "      <td>-1.286024</td>\n",
       "      <td>-1.429483</td>\n",
       "      <td>-1.433317</td>\n",
       "      <td>1.516646</td>\n",
       "      <td>0.307831</td>\n",
       "      <td>-0.092684</td>\n",
       "      <td>0.855138</td>\n",
       "      <td>...</td>\n",
       "      <td>-0.467519</td>\n",
       "      <td>0.426026</td>\n",
       "      <td>-1.643792</td>\n",
       "      <td>-0.267552</td>\n",
       "      <td>-1.453064</td>\n",
       "      <td>0.843345</td>\n",
       "      <td>-1.887231</td>\n",
       "      <td>-0.597369</td>\n",
       "      <td>0.016179</td>\n",
       "      <td>-0.477360</td>\n",
       "    </tr>\n",
       "    <tr>\n",
       "      <th>t(Mkt-RF)</th>\n",
       "      <td>58.006242</td>\n",
       "      <td>57.385411</td>\n",
       "      <td>16.040320</td>\n",
       "      <td>86.071662</td>\n",
       "      <td>23.118600</td>\n",
       "      <td>47.816327</td>\n",
       "      <td>50.164448</td>\n",
       "      <td>33.579313</td>\n",
       "      <td>56.576723</td>\n",
       "      <td>52.540700</td>\n",
       "      <td>...</td>\n",
       "      <td>24.968206</td>\n",
       "      <td>15.572290</td>\n",
       "      <td>45.918663</td>\n",
       "      <td>24.960339</td>\n",
       "      <td>34.931681</td>\n",
       "      <td>17.129575</td>\n",
       "      <td>43.434728</td>\n",
       "      <td>40.258584</td>\n",
       "      <td>20.124354</td>\n",
       "      <td>31.588523</td>\n",
       "    </tr>\n",
       "    <tr>\n",
       "      <th>t(SMB)</th>\n",
       "      <td>-0.140036</td>\n",
       "      <td>-1.220435</td>\n",
       "      <td>1.166670</td>\n",
       "      <td>-2.626950</td>\n",
       "      <td>1.962605</td>\n",
       "      <td>-1.965159</td>\n",
       "      <td>2.486946</td>\n",
       "      <td>-0.597266</td>\n",
       "      <td>2.088864</td>\n",
       "      <td>1.345255</td>\n",
       "      <td>...</td>\n",
       "      <td>0.144403</td>\n",
       "      <td>1.074823</td>\n",
       "      <td>-5.877479</td>\n",
       "      <td>0.621983</td>\n",
       "      <td>-2.341202</td>\n",
       "      <td>2.008583</td>\n",
       "      <td>-2.347630</td>\n",
       "      <td>2.379146</td>\n",
       "      <td>0.567885</td>\n",
       "      <td>-4.845417</td>\n",
       "    </tr>\n",
       "    <tr>\n",
       "      <th>t(HML)</th>\n",
       "      <td>2.619575</td>\n",
       "      <td>-2.100086</td>\n",
       "      <td>3.063157</td>\n",
       "      <td>-0.541205</td>\n",
       "      <td>1.781287</td>\n",
       "      <td>7.732469</td>\n",
       "      <td>-1.211126</td>\n",
       "      <td>5.890446</td>\n",
       "      <td>3.068588</td>\n",
       "      <td>6.513494</td>\n",
       "      <td>...</td>\n",
       "      <td>4.299664</td>\n",
       "      <td>1.828101</td>\n",
       "      <td>5.955161</td>\n",
       "      <td>-5.585127</td>\n",
       "      <td>6.292898</td>\n",
       "      <td>-1.374715</td>\n",
       "      <td>4.434818</td>\n",
       "      <td>-5.302437</td>\n",
       "      <td>-6.923101</td>\n",
       "      <td>1.366821</td>\n",
       "    </tr>\n",
       "  </tbody>\n",
       "</table>\n",
       "<p>4 rows × 125 columns</p>\n",
       "</div>"
      ],
      "text/plain": [
       "               CWIAX      CNPAX      TEDIX      VTWSX      OWLSX      TEPLX  \\\n",
       "t(Alpha)    2.299372   3.407998   2.346720  -1.286024  -1.429483  -1.433317   \n",
       "t(Mkt-RF)  58.006242  57.385411  16.040320  86.071662  23.118600  47.816327   \n",
       "t(SMB)     -0.140036  -1.220435   1.166670  -2.626950   1.962605  -1.965159   \n",
       "t(HML)      2.619575  -2.100086   3.063157  -0.541205   1.781287   7.732469   \n",
       "\n",
       "               OPPAX      DODWX      DGEIX      VHGEX    ...          CGVIX  \\\n",
       "t(Alpha)    1.516646   0.307831  -0.092684   0.855138    ...      -0.467519   \n",
       "t(Mkt-RF)  50.164448  33.579313  56.576723  52.540700    ...      24.968206   \n",
       "t(SMB)      2.486946  -0.597266   2.088864   1.345255    ...       0.144403   \n",
       "t(HML)     -1.211126   5.890446   3.068588   6.513494    ...       4.299664   \n",
       "\n",
       "               CAMAX      IGEIX      COGZX      BGVIX      ENTIX      GGESX  \\\n",
       "t(Alpha)    0.426026  -1.643792  -0.267552  -1.453064   0.843345  -1.887231   \n",
       "t(Mkt-RF)  15.572290  45.918663  24.960339  34.931681  17.129575  43.434728   \n",
       "t(SMB)      1.074823  -5.877479   0.621983  -2.341202   2.008583  -2.347630   \n",
       "t(HML)      1.828101   5.955161  -5.585127   6.292898  -1.374715   4.434818   \n",
       "\n",
       "               APGRX      TRGSX      WIMVX  \n",
       "t(Alpha)   -0.597369   0.016179  -0.477360  \n",
       "t(Mkt-RF)  40.258584  20.124354  31.588523  \n",
       "t(SMB)      2.379146   0.567885  -4.845417  \n",
       "t(HML)     -5.302437  -6.923101   1.366821  \n",
       "\n",
       "[4 rows x 125 columns]"
      ]
     },
     "execution_count": 82,
     "metadata": {},
     "output_type": "execute_result"
    }
   ],
   "source": [
    "# rename all coefficients with t(.)\n",
    "rename_dict = {}\n",
    "for coeff in orig_coeffs.index:\n",
    "    rename_dict[coeff] = 't({})'.format(coeff) \n",
    "\n",
    "# Calculate t-statistics with nans creating other nans (fill_value=None)\n",
    "orig_t_stats = orig_coeffs.divide(orig_SE_coeffs, axis='columns', fill_value=None).rename(rename_dict,axis='index')\n",
    "orig_t_stats"
   ]
  },
  {
   "cell_type": "code",
   "execution_count": 83,
   "metadata": {
    "colab": {
     "base_uri": "https://localhost:8080/",
     "height": 1071
    },
    "colab_type": "code",
    "id": "LFTEk8hLDTtr",
    "outputId": "61ba9134-aaa2-4f3d-cef2-7a28613c9dfa"
   },
   "outputs": [
    {
     "name": "stdout",
     "output_type": "stream",
     "text": [
      "(125,)\n"
     ]
    },
    {
     "data": {
      "text/plain": [
       "CWIAX    0.063785\n",
       "CNPAX    0.061459\n",
       "TEDIX    0.086532\n",
       "VTWSX    0.042760\n",
       "OWLSX    0.089743\n",
       "dtype: float64"
      ]
     },
     "execution_count": 83,
     "metadata": {},
     "output_type": "execute_result"
    }
   ],
   "source": [
    "# Calculated predictions, residuals, and sum of squared residuals (SSR) \n",
    "# and standard errors (SE )from X inputs and orig_coeffs\n",
    "Y_pred = np.dot(X_mat.values,orig_coeffs.values) # fitted values\n",
    "orig_resids = Y_all.values - Y_pred              # residuals\n",
    "orig_SSR = np.nansum(orig_resids**2,0)           # sum squared residuals\n",
    "orig_SE_resid = np.divide(orig_SSR**.5, (n_i-n_factors)) # standard errors\n",
    "\n",
    "# \n",
    "print(orig_SE_resid.shape)\n",
    "orig_SE_resid.head()"
   ]
  },
  {
   "cell_type": "code",
   "execution_count": 84,
   "metadata": {
    "colab": {
     "base_uri": "https://localhost:8080/",
     "height": 1969
    },
    "colab_type": "code",
    "id": "jPGjTSkuGMhh",
    "outputId": "c10b6abe-a35a-4c4b-c31b-e5e7168df630"
   },
   "outputs": [
    {
     "name": "stdout",
     "output_type": "stream",
     "text": [
      "Ten Most Positive Alphas\n",
      "                 Alpha    Mkt-RF       SMB       HML  Rank_a\n",
      "MSFBX         0.427591  0.714611 -0.266890  0.038603     1.0\n",
      "MGGPX         0.423748  1.150749  0.302729 -0.573910     2.0\n",
      "MAGCX         0.392557  1.039371  0.750257 -0.230193     3.0\n",
      "TEQAX         0.321823  0.920811  0.251732 -0.751767     4.0\n",
      "AXAGE         0.296094  1.239881  0.350411 -0.266739     5.0\n",
      "IGFAX         0.287707  0.730322 -0.333441 -0.107715     6.0\n",
      "APHGX         0.274649  0.868930 -0.247148  0.201847     7.0\n",
      "Unnamed: 129  0.270221  1.001486  0.136358 -0.394302     8.0\n",
      "AGGIX         0.263983  0.989996  0.200862 -0.345853     9.0\n",
      "TEDIX         0.233386  0.635116  0.063753  0.178474    10.0 \n",
      "\n",
      "Ten Most Negative Alphas\n",
      "                Alpha    Mkt-RF       SMB       HML  Rank_a\n",
      "JNLTEMP     -0.161314  1.020641 -0.153533  0.280705   116.0\n",
      "TMUIX       -0.167947  1.091462  0.062179 -0.177965   117.0\n",
      "IIGZX       -0.170155  1.025652 -0.343237  0.147015   118.0\n",
      "Unnamed: 68 -0.174744  0.976101 -0.173313  0.146628   119.0\n",
      "ATWAX       -0.187117  0.985060 -0.170201 -0.043986   120.0\n",
      "AWAAX       -0.188634  1.012334 -0.086737 -0.015583   121.0\n",
      "SERNX       -0.190659  1.011361  0.103164 -0.043462   122.0\n",
      "ADVDX       -0.219048  1.010564 -0.051937 -0.121079   123.0\n",
      "ICVIX       -0.222565  0.832435  0.222620  0.513179   124.0\n",
      "IVNCX       -0.229878  1.022188  0.030975 -0.059712   125.0\n"
     ]
    }
   ],
   "source": [
    "# Rank funds by alpha\n",
    "rank_a = orig_coeffs.transpose(copy=True)\n",
    "rank_a['Rank_a'] = rank_a['Alpha'].rank(ascending=False)\n",
    "orig_coeffs_rank_a = rank_a.sort_values(by='Alpha', axis=0, ascending=False)\n",
    "\n",
    "# Print Previews\n",
    "print(\"Ten Most Positive Alphas\")\n",
    "print(orig_coeffs_rank_a.head(10),\"\\n\")\n",
    "print(\"Ten Most Negative Alphas\")\n",
    "print(orig_coeffs_rank_a.tail(10))"
   ]
  },
  {
   "cell_type": "code",
   "execution_count": 85,
   "metadata": {
    "colab": {
     "base_uri": "https://localhost:8080/",
     "height": 1969
    },
    "colab_type": "code",
    "id": "1FTG2mGgGP_0",
    "outputId": "6965363f-f866-492a-a366-c9dc9bb98890"
   },
   "outputs": [
    {
     "name": "stdout",
     "output_type": "stream",
     "text": [
      "Ten Most Significant Positive Alphas\n",
      "              t(Alpha)  t(Mkt-RF)    t(SMB)    t(HML)  Rank_t\n",
      "CNPAX         3.407998  57.385411 -1.220435 -2.100086     1.0\n",
      "MSFBX         3.149317  18.404386 -2.043943  0.271595     2.0\n",
      "Unnamed: 129  2.634869  46.619731  1.758379 -5.178336     3.0\n",
      "APHGX         2.596955  31.674597 -3.150700  3.167546     4.0\n",
      "IGFAX         2.417043  17.852991 -2.598018 -0.921890     5.0\n",
      "TEDIX         2.346720  16.040320  1.166670  3.063157     6.0\n",
      "CWIAX         2.299372  58.006242 -0.140036  2.619575     7.0\n",
      "MGGPX         2.181862  28.819273  2.152420 -5.480641     8.0\n",
      "FWIFX         2.055572  53.997903  1.129708 -1.682369     9.0\n",
      "MWOIX         1.948472  43.720206  1.149368 -3.659001    10.0 \n",
      "\n",
      "Ten Most Significant Negative Alphas\n",
      "             t(Alpha)  t(Mkt-RF)    t(SMB)    t(HML)  Rank_t\n",
      "GAPIX       -1.727903  89.597109  1.349512  4.732440   116.0\n",
      "ICVIX       -1.771677  18.645418  2.614154  7.407417   117.0\n",
      "GGESX       -1.887231  43.434728 -2.347630  4.434818   118.0\n",
      "JNLTEMP     -1.973791  50.704241 -2.925601  5.175661   119.0\n",
      "ADVDX       -1.991552  25.675707 -0.684070 -1.755965   120.0\n",
      "TMUIX       -2.070504  62.521948  1.293736 -3.680556   121.0\n",
      "IVNCX       -2.432716  41.302390  0.564469 -1.041304   122.0\n",
      "Unnamed: 68 -2.998788  61.045115 -4.003020  3.865765   123.0\n",
      "ATWAX       -3.702615  66.965828 -3.973252 -1.348761   124.0\n",
      "AWAAX       -3.787495  61.354211 -1.906329 -0.427019   125.0\n"
     ]
    }
   ],
   "source": [
    "#Rank funds by t(alpha)\n",
    "rank_t = orig_t_stats.transpose(copy=True)\n",
    "rank_t['Rank_t'] = rank_t['t(Alpha)'].rank(ascending=False)\n",
    "orig_coeffs_rank_t = rank_t.sort_values(by='t(Alpha)', axis=0, ascending=False)\n",
    "\n",
    "# Print Previews\n",
    "print(\"Ten Most Significant Positive Alphas\")\n",
    "print(orig_coeffs_rank_t.head(10),\"\\n\")\n",
    "print(\"Ten Most Significant Negative Alphas\")\n",
    "print(orig_coeffs_rank_t.tail(10))\n"
   ]
  },
  {
   "cell_type": "markdown",
   "metadata": {
    "colab_type": "text",
    "id": "PFzjkbpisKSD"
   },
   "source": [
    "## 3. Constructing series of simulated returns"
   ]
  },
  {
   "cell_type": "code",
   "execution_count": 86,
   "metadata": {
    "colab": {
     "base_uri": "https://localhost:8080/",
     "height": 34
    },
    "colab_type": "code",
    "id": "RdOBlVUsJqxt",
    "outputId": "c2c010d1-b8d2-432e-ef72-131751dc652c"
   },
   "outputs": [
    {
     "data": {
      "text/plain": [
       "(0, 0.0)"
      ]
     },
     "execution_count": 86,
     "metadata": {},
     "output_type": "execute_result"
    }
   ],
   "source": [
    "# Construct simulated series based on \"sim_indices\"\n",
    "# This script used the simulated index numbers to:\n",
    "# 1) Pick corresponding numbers from factors and residuals, and\n",
    "# 2) Construct series of fund returns (potentially including injected alpha)\n",
    "# 3) Series are \"alpha free\" if 'std_alpha' below is set to '0'.\n",
    "\n",
    "# The constructed returns will be the basis for new regressions to\n",
    "# calculate simulated alphas.\n",
    "\n",
    "# From before: n = total number of funds\n",
    "# * h = total number of factors\n",
    "# * m = total number of time periods\n",
    "# * s = total number of simulations, s = 1 here refers sim #1\n",
    "\n",
    "# Check if the value for annual \"average\" standard deviation is already\n",
    "# defined. If it is, dont't touch it. If it isn't, define a chosen\n",
    "# value (usually '0') below. We do this to avoid overriding the std of alpha\n",
    "# in the loop running through different values of std of alpha\n",
    "\n",
    "annual_std_alpha = 0 # Set it's value\n",
    "\n",
    "std_alpha = annual_std_alpha/np.sqrt(12)  \n",
    "annual_std_alpha, std_alpha\n",
    "  "
   ]
  },
  {
   "cell_type": "code",
   "execution_count": 87,
   "metadata": {
    "colab": {
     "base_uri": "https://localhost:8080/",
     "height": 1071
    },
    "colab_type": "code",
    "id": "_sKR6PJofOhg",
    "outputId": "bdefeaff-c038-4e9f-bd2c-ff24b2c12273"
   },
   "outputs": [
    {
     "data": {
      "text/plain": [
       "CWIAX    0.620337\n",
       "CNPAX    0.597716\n",
       "TEDIX    0.841560\n",
       "VTWSX    0.415856\n",
       "OWLSX    0.872787\n",
       "dtype: float64"
      ]
     },
     "execution_count": 87,
     "metadata": {},
     "output_type": "execute_result"
    }
   ],
   "source": [
    "temp_std_resid_ratio = np.divide(orig_SE_resid,orig_SE_resid.mean())\n",
    "temp_std_resid_ratio.head()"
   ]
  },
  {
   "cell_type": "code",
   "execution_count": 88,
   "metadata": {
    "colab": {
     "base_uri": "https://localhost:8080/",
     "height": 136
    },
    "colab_type": "code",
    "id": "EdspyHnOgD1j",
    "outputId": "6ca47d14-d99e-43b2-8a45-521a0d072ccc"
   },
   "outputs": [
    {
     "data": {
      "text/plain": [
       "(240, 125, 1000)"
      ]
     },
     "execution_count": 88,
     "metadata": {},
     "output_type": "execute_result"
    }
   ],
   "source": [
    "# Construct series of alphas for injection (constant over time, scaled per\n",
    "# fund, independent per simulation). These numbers become zero when we set\n",
    "# desired injection of average annual alpha to zero above.\n",
    "# np.random.seed(0)\n",
    "temp_alpha = std_alpha * np.tile(np.random.randn(1,n_funds,n_simulations) * \n",
    "                                 np.tile(temp_std_resid_ratio,(1,1,n_simulations))\\\n",
    "                                 .reshape((1,n_funds,n_simulations), order='F'),(n_obs,1,1))\n",
    "# A collection of 1000 individual 240 by 125 arrays\n",
    "temp_alpha.shape\n"
   ]
  },
  {
   "cell_type": "code",
   "execution_count": 89,
   "metadata": {
    "colab": {
     "base_uri": "https://localhost:8080/",
     "height": 1360
    },
    "colab_type": "code",
    "id": "Sxlhi7cISSfH",
    "outputId": "6df92553-0a31-4746-c0ea-2ce8ddcc0859"
   },
   "outputs": [
    {
     "data": {
      "text/plain": [
       "((3, 125), (240, 125, 1000))"
      ]
     },
     "execution_count": 89,
     "metadata": {},
     "output_type": "execute_result"
    }
   ],
   "source": [
    "# Construct matrix of betas from coefficient matrix (excluding alphas)\n",
    "orig_betas = orig_coeffs_rank_a.transpose().values[1:4,:]\n",
    "orig_betas.shape, temp_alpha.shape"
   ]
  },
  {
   "cell_type": "markdown",
   "metadata": {},
   "source": [
    "## TODO\n",
    "Consider changing variable names to something cleaner"
   ]
  },
  {
   "cell_type": "code",
   "execution_count": 90,
   "metadata": {
    "colab": {
     "base_uri": "https://localhost:8080/",
     "height": 527
    },
    "colab_type": "code",
    "id": "o-epVl22jJCv",
    "outputId": "0b0db657-1ac0-46b8-e41a-6ccaeba0506f"
   },
   "outputs": [
    {
     "data": {
      "text/plain": [
       "((240, 3, 1000), (240, 125, 1000), (240, 125, 1000))"
      ]
     },
     "execution_count": 90,
     "metadata": {},
     "output_type": "execute_result"
    }
   ],
   "source": [
    "# Construct matrices of all simulated factor and fund returns:\n",
    "constructed_X_mat = np.empty((n_obs,n_factors,n_simulations))*np.nan # X_mats for each simulation\n",
    "constructed_resids = np.empty((n_obs,n_funds,n_simulations))*np.nan  # resids for each simulation\n",
    "constructed_Y_all = np.empty((n_obs,n_funds,n_simulations))*np.nan   # n_funds fund returns for each sim\n",
    "sim_indices = np.random.randint(0, n_obs, size=(n_obs,n_simulations))    # randomized simulations\n",
    "\n",
    "# run simulations and fill matrices\n",
    "for simulation in range(n_simulations):\n",
    "    # randomized simulations of Fama-French risk factors: Mkt-RF, SMB, HML\n",
    "    constructed_X_mat[:,:,simulation] = X_mat.values[:,1:4][sim_indices[:,simulation],:] \n",
    "    \n",
    "    # randomized simulations of residuals from Fama-French equations\n",
    "    constructed_resids[:,:,simulation] = orig_resids[sim_indices[:,simulation],:]  \n",
    "    \n",
    "    #simulated returns based on fund betas, randomized resids and alphas (0?)\n",
    "    constructed_Y_all[:,:,simulation] = temp_alpha[:,:,simulation] + \\\n",
    "                                        np.matmul(constructed_X_mat[:,:,simulation], orig_betas) + \\\n",
    "                                        constructed_resids[:,:,simulation] \n",
    "# Check shapes\n",
    "constructed_X_mat.shape, constructed_resids.shape, constructed_Y_all.shape\n"
   ]
  },
  {
   "cell_type": "markdown",
   "metadata": {
    "colab_type": "text",
    "id": "FVnjuk5PtSoI"
   },
   "source": [
    "## 4. Performing regressions on simulated series"
   ]
  },
  {
   "cell_type": "code",
   "execution_count": 91,
   "metadata": {
    "colab": {
     "base_uri": "https://localhost:8080/",
     "height": 34
    },
    "colab_type": "code",
    "id": "4oTLAmaNPMIA",
    "outputId": "f50a908e-1916-457e-e8bc-10186ccaf002"
   },
   "outputs": [
    {
     "data": {
      "text/plain": [
       "((4, 125, 1000), array([nan, nan, nan, nan]))"
      ]
     },
     "execution_count": 91,
     "metadata": {},
     "output_type": "execute_result"
    }
   ],
   "source": [
    "# Script that does bootstrap regression results for all funds.\n",
    "\n",
    "# Set minumum number of observations(n) required in simulation for the\n",
    "# regression to be valid:\n",
    "sim_cutoff = 15\n",
    "\n",
    "# Populate target output vectors to be filled in with loop:\n",
    "sim_coeffs = np.empty((n_factors+1,n_funds,n_simulations))*np.nan\n",
    "sim_SE_coeffs = np.empty((n_factors+1,n_funds,n_simulations))*np.nan\n",
    "\n",
    "#sim_coeffs.shape, sim_coeffs\n",
    "sim_coeffs.shape, sim_coeffs[:,1,1]"
   ]
  },
  {
   "cell_type": "code",
   "execution_count": 92,
   "metadata": {
    "colab": {
     "base_uri": "https://localhost:8080/",
     "height": 34
    },
    "colab_type": "code",
    "id": "juWbXIoKQXrL",
    "outputId": "0d64ac3f-f05d-4b4a-90bb-ea459f255231"
   },
   "outputs": [
    {
     "data": {
      "text/plain": [
       "((125, 1000), 240)"
      ]
     },
     "execution_count": 92,
     "metadata": {},
     "output_type": "execute_result"
    }
   ],
   "source": [
    "# Calculate number of observations per fund per simulation for future\n",
    "# reference:\n",
    "n_i_s = (~np.isnan(constructed_Y_all)).sum(0)\n",
    "n_i_s.shape, n_i_s[0,99]"
   ]
  },
  {
   "cell_type": "code",
   "execution_count": 93,
   "metadata": {
    "colab": {
     "base_uri": "https://localhost:8080/",
     "height": 2142
    },
    "colab_type": "code",
    "id": "ifTu0rGImmgH",
    "outputId": "360ca3ac-1752-4142-a6d9-ca6714a8adc1"
   },
   "outputs": [
    {
     "data": {
      "text/plain": [
       "((125, 1000), numpy.int64)"
      ]
     },
     "execution_count": 93,
     "metadata": {},
     "output_type": "execute_result"
    }
   ],
   "source": [
    "# Calculate the lag selection parameter for the standard Newey-West HAC\n",
    "# estimate (Andrews and Monohan, 1992), one number per fund per simulation:\n",
    "maxLag_s = np.floor((4*(n_i_s/100)**(2/9))).astype(int)\n",
    "maxLag_s.shape, type(maxLag_s[1,1])"
   ]
  },
  {
   "cell_type": "code",
   "execution_count": 94,
   "metadata": {
    "colab": {
     "base_uri": "https://localhost:8080/",
     "height": 1394
    },
    "colab_type": "code",
    "id": "VS6uFyQlm3C6",
    "outputId": "6b4793bd-626c-429d-b93d-c45919bdeb9d"
   },
   "outputs": [
    {
     "name": "stdout",
     "output_type": "stream",
     "text": [
      "                            OLS Regression Results                            \n",
      "==============================================================================\n",
      "Dep. Variable:                      y   R-squared:                       0.928\n",
      "Model:                            OLS   Adj. R-squared:                  0.927\n",
      "Method:                 Least Squares   F-statistic:                     762.3\n",
      "Date:                Fri, 01 Mar 2019   Prob (F-statistic):          4.47e-121\n",
      "Time:                        05:28:39   Log-Likelihood:                -321.41\n",
      "No. Observations:                 240   AIC:                             650.8\n",
      "Df Residuals:                     236   BIC:                             664.7\n",
      "Df Model:                           3                                         \n",
      "Covariance Type:                  HAC                                         \n",
      "==============================================================================\n",
      "                 coef    std err          z      P>|z|      [0.025      0.975]\n",
      "------------------------------------------------------------------------------\n",
      "const          0.0664      0.058      1.145      0.252      -0.047       0.180\n",
      "x1             0.7507      0.016     46.721      0.000       0.719       0.782\n",
      "x2            -0.3250      0.048     -6.788      0.000      -0.419      -0.231\n",
      "x3             0.0788      0.048      1.628      0.104      -0.016       0.174\n",
      "==============================================================================\n",
      "Omnibus:                       20.688   Durbin-Watson:                   2.097\n",
      "Prob(Omnibus):                  0.000   Jarque-Bera (JB):               33.264\n",
      "Skew:                           0.517   Prob(JB):                     5.98e-08\n",
      "Kurtosis:                       4.503   Cond. No.                         4.51\n",
      "==============================================================================\n",
      "\n",
      "Warnings:\n",
      "[1] Standard Errors are heteroscedasticity and autocorrelation robust (HAC) using 2 lags and without small sample correction\n"
     ]
    }
   ],
   "source": [
    "xa = sm.add_constant(constructed_X_mat[:,:,0])\n",
    "ya_sample = constructed_Y_all[:,0,0]\n",
    "lma = ols_s(ya_sample, xa,2)\n",
    "print(lma.summary())"
   ]
  },
  {
   "cell_type": "markdown",
   "metadata": {},
   "source": [
    "This one takes a bit. 1000 simulations * 125 funds = 125,000 regressions to run"
   ]
  },
  {
   "cell_type": "code",
   "execution_count": 95,
   "metadata": {
    "colab": {
     "base_uri": "https://localhost:8080/",
     "height": 238
    },
    "colab_type": "code",
    "id": "1oP26kTqq4dy",
    "outputId": "5755518e-ec1b-4240-edd6-ebcf644ab269"
   },
   "outputs": [
    {
     "data": {
      "text/plain": [
       "((4, 125, 1000), (4, 125, 1000), (4, 125, 1000))"
      ]
     },
     "execution_count": 95,
     "metadata": {},
     "output_type": "execute_result"
    }
   ],
   "source": [
    "# Loop through each simulation run:\n",
    "for sim in range(n_simulations):\n",
    "    \n",
    "    #Loop through each fund:\n",
    "    for fund in range(n_funds):\n",
    "        \n",
    "        if n_i_s[fund,sim]>= sim_cutoff:\n",
    "            \n",
    "            xa = sm.add_constant(constructed_X_mat[:,:,sim])\n",
    "            ya_sample = constructed_Y_all[:,fund,sim]\n",
    "            maxLag_temp = maxLag_s[fund,sim]\n",
    "\n",
    "            # linear regression\n",
    "            lma = ols_s(ya_sample, xa, maxLag_temp)\n",
    "            sim_SE_coeffs[:,fund,sim] = lma.bse\n",
    "            sim_coeffs[:,fund,sim] = lma.params\n",
    "\n",
    "sim_t_stats = np.divide(sim_coeffs,sim_SE_coeffs)\n",
    "sim_t_stats.shape, sim_coeffs.shape, sim_SE_coeffs.shape"
   ]
  },
  {
   "cell_type": "markdown",
   "metadata": {
    "colab_type": "text",
    "id": "SltFk8WjzDkW"
   },
   "source": [
    "## 5. Estimating/constructing the bootstrapping results/tables"
   ]
  },
  {
   "cell_type": "code",
   "execution_count": 96,
   "metadata": {
    "colab": {
     "base_uri": "https://localhost:8080/",
     "height": 34
    },
    "colab_type": "code",
    "id": "65v5Q6btzPzl",
    "outputId": "5fb4bb60-8294-442a-8177-c6a77b8e3f82"
   },
   "outputs": [
    {
     "data": {
      "text/plain": [
       "([0.1, 0.2, 0.3, 0.4, 0.5, 0.6, 0.7, 0.8, 0.9], list)"
      ]
     },
     "execution_count": 96,
     "metadata": {},
     "output_type": "execute_result"
    }
   ],
   "source": [
    "# This script calculates the averages of alphas/t-stat in different\n",
    "# ranks/percentiles of the simulation runs. Additionally, it estimates the\n",
    "# percent of simulated alphas/t-stats of each rank/percentile, that are\n",
    "# lower than the 'actual' (historically observed) alpha/t-stat at the same\n",
    "# rank/percentile.\n",
    "\n",
    "# NOTE: With 100 funds to calculate percentiles from, for the low and high\n",
    "# percentiles, we rather use the value of funds with rank #1-5 and 97-101.\n",
    "# For the 'middle' percentiles, we use matlab's 'prctile(___)'-function\n",
    "# which interpolates linearly between observations.\n",
    "\n",
    "# Construct matrix of relevant percentages (10 through 90);\n",
    "percentages = [.10, .20, .30, .40, .50, .60, .70, .80, .90]\n",
    "percentages, type(percentages)"
   ]
  },
  {
   "cell_type": "code",
   "execution_count": 97,
   "metadata": {
    "colab": {
     "base_uri": "https://localhost:8080/",
     "height": 476
    },
    "colab_type": "code",
    "id": "cP3vPg5EzBDj",
    "outputId": "dec66c04-28cb-4551-f058-db952ab68d99",
    "scrolled": true
   },
   "outputs": [
    {
     "data": {
      "text/plain": [
       "((125, 1), (125, 1))"
      ]
     },
     "execution_count": 97,
     "metadata": {},
     "output_type": "execute_result"
    }
   ],
   "source": [
    "# Sort original alphas and t-values in order to extract top/bottom ranked values:\n",
    "temp_sorted_orig_a = orig_coeffs.take([0], axis=0).sort_values(by=['Alpha'], axis=1, ascending = [0]).T\n",
    "temp_sorted_orig_t = orig_t_stats.take([0], axis=0).sort_values(by=['t(Alpha)'], axis=1, ascending = [0]).T\n",
    "temp_sorted_orig_a.shape, temp_sorted_orig_t.shape "
   ]
  },
  {
   "cell_type": "code",
   "execution_count": 98,
   "metadata": {
    "colab": {
     "base_uri": "https://localhost:8080/",
     "height": 357
    },
    "colab_type": "code",
    "id": "Sjtwiz0tnnYx",
    "outputId": "12ca358e-47e4-4e41-914a-acd686ada33d"
   },
   "outputs": [
    {
     "data": {
      "text/plain": [
       "[          Alpha\n",
       " IVNCX -0.229878\n",
       " ICVIX -0.222565\n",
       " ADVDX -0.219048\n",
       " SERNX -0.190659\n",
       " AWAAX -0.188634,         Alpha\n",
       " 0.1 -0.138338\n",
       " 0.2 -0.089291\n",
       " 0.3 -0.058700\n",
       " 0.4 -0.028486\n",
       " 0.5  0.008053\n",
       " 0.6  0.042440\n",
       " 0.7  0.093222\n",
       " 0.8  0.140291\n",
       " 0.9  0.205200,           Alpha\n",
       " AXAGE  0.296094\n",
       " TEQAX  0.321823\n",
       " MAGCX  0.392557\n",
       " MGGPX  0.423748\n",
       " MSFBX  0.427591]"
      ]
     },
     "execution_count": 98,
     "metadata": {},
     "output_type": "execute_result"
    }
   ],
   "source": [
    "percentiles_orig_a = [temp_sorted_orig_a.tail(5).iloc[::-1], \\\n",
    "                       temp_sorted_orig_a.quantile(percentages),\\\n",
    "                       temp_sorted_orig_a.head(5).iloc[::-1]]\n",
    "percentiles_orig_a"
   ]
  },
  {
   "cell_type": "code",
   "execution_count": 99,
   "metadata": {
    "colab": {
     "base_uri": "https://localhost:8080/",
     "height": 357
    },
    "colab_type": "code",
    "id": "AT_IErbH6sjp",
    "outputId": "d62a4f5e-85c5-4863-a913-125565799bfc"
   },
   "outputs": [
    {
     "data": {
      "text/plain": [
       "[             t(Alpha)\n",
       " AWAAX       -3.787495\n",
       " ATWAX       -3.702615\n",
       " Unnamed: 68 -2.998788\n",
       " IVNCX       -2.432716\n",
       " TMUIX       -2.070504,      t(Alpha)\n",
       " 0.1 -1.634098\n",
       " 0.2 -1.227415\n",
       " 0.3 -0.609360\n",
       " 0.4 -0.300439\n",
       " 0.5  0.053437\n",
       " 0.6  0.398654\n",
       " 0.7  0.784608\n",
       " 0.8  1.261662\n",
       " 0.9  1.754968,               t(Alpha)\n",
       " IGFAX         2.417043\n",
       " APHGX         2.596955\n",
       " Unnamed: 129  2.634869\n",
       " MSFBX         3.149317\n",
       " CNPAX         3.407998]"
      ]
     },
     "execution_count": 99,
     "metadata": {},
     "output_type": "execute_result"
    }
   ],
   "source": [
    "# temp_sorted_orig_t = orig_t_stats.take([0], axis=0).sort_values(by=['t(alpha)'], axis=1, ascending = [0])\n",
    "temp1t = temp_sorted_orig_t.tail(5)[::-1]\n",
    "temp2t = temp_sorted_orig_t.quantile(percentages)\n",
    "temp3t = temp_sorted_orig_t.head(5)[::-1]\n",
    "percentiles_orig_t = [temp1t, temp2t, temp3t]\n",
    "percentiles_orig_t"
   ]
  },
  {
   "cell_type": "code",
   "execution_count": 100,
   "metadata": {
    "colab": {
     "base_uri": "https://localhost:8080/",
     "height": 238
    },
    "colab_type": "code",
    "id": "k5ctO5M0CcrG",
    "outputId": "44821881-08ef-482d-b208-af1d1079fb14"
   },
   "outputs": [
    {
     "data": {
      "text/plain": [
       "(1000, 125)"
      ]
     },
     "execution_count": 100,
     "metadata": {},
     "output_type": "execute_result"
    }
   ],
   "source": [
    "# Find averages of simulated ranks/percentiles for alphas and t-values:\n",
    "# NOTE: For each simulation run, we find the percentiles corresponding to the\n",
    "# percentages above and the top/bottom 5 ranked values. For each\n",
    "# rank/percentile, we then take the average of the alphas/t-stats over\n",
    "# all simulation runs with ('prctile'-formula treats 'NaN' values as\n",
    "# missing and removes them, so this is not a problem). Some simulation runs\n",
    "# may have less than 101 valid regressions (due to some funds with short\n",
    "# original series and our required number of observations for a regression\n",
    "# to be valid).\n",
    "\n",
    "# Ascending sort of simulated alphas per simulation:\n",
    "temp_sort_asc_sim_a = np.sort(sim_coeffs[0,:,:].T, axis=1)\n",
    "temp_sort_asc_sim_a.shape"
   ]
  },
  {
   "cell_type": "code",
   "execution_count": 101,
   "metadata": {
    "colab": {
     "base_uri": "https://localhost:8080/",
     "height": 238
    },
    "colab_type": "code",
    "id": "Tp1IIaHMjQY4",
    "outputId": "d4d02a57-3919-41c0-98ce-eae844ad3cf6"
   },
   "outputs": [
    {
     "data": {
      "text/plain": [
       "(1000, 125)"
      ]
     },
     "execution_count": 101,
     "metadata": {},
     "output_type": "execute_result"
    }
   ],
   "source": [
    "# Ascending sort of simulated t-stats per simulation:\n",
    "temp_sort_asc_sim_t = np.sort(sim_t_stats[0,:,:].T, axis=1)\n",
    "temp_sort_asc_sim_t.shape"
   ]
  },
  {
   "cell_type": "code",
   "execution_count": 102,
   "metadata": {
    "colab": {
     "base_uri": "https://localhost:8080/",
     "height": 561
    },
    "colab_type": "code",
    "id": "w16fk8H0jw1J",
    "outputId": "245e76cb-c937-49be-f485-1422359e1fc7",
    "scrolled": false
   },
   "outputs": [
    {
     "data": {
      "text/plain": [
       "(array([[-0.33069475, -0.432406  , -0.64057257, ..., -0.24090948,\n",
       "         -0.19967462, -0.21833285],\n",
       "        [-0.32715669, -0.32211423, -0.44697157, ..., -0.23871477,\n",
       "         -0.19453009, -0.1652183 ],\n",
       "        [-0.32196142, -0.24266279, -0.38823532, ..., -0.21619164,\n",
       "         -0.18527851, -0.1562586 ],\n",
       "        ...,\n",
       "        [ 0.19224458,  0.30926222,  0.19909153, ...,  0.21175083,\n",
       "          0.16074012,  0.26778408],\n",
       "        [ 0.22162131,  0.32321224,  0.31729144, ...,  0.23001626,\n",
       "          0.20509799,  0.28805307],\n",
       "        [ 0.27755787,  0.37958882,  0.35801643, ...,  0.27869392,\n",
       "          0.25570994,  0.43363582]]), [          Alpha\n",
       "  IVNCX -0.229878\n",
       "  ICVIX -0.222565\n",
       "  ADVDX -0.219048\n",
       "  SERNX -0.190659\n",
       "  AWAAX -0.188634,         Alpha\n",
       "  0.1 -0.138338\n",
       "  0.2 -0.089291\n",
       "  0.3 -0.058700\n",
       "  0.4 -0.028486\n",
       "  0.5  0.008053\n",
       "  0.6  0.042440\n",
       "  0.7  0.093222\n",
       "  0.8  0.140291\n",
       "  0.9  0.205200,           Alpha\n",
       "  AXAGE  0.296094\n",
       "  TEQAX  0.321823\n",
       "  MAGCX  0.392557\n",
       "  MGGPX  0.423748\n",
       "  MSFBX  0.427591])"
      ]
     },
     "execution_count": 102,
     "metadata": {},
     "output_type": "execute_result"
    }
   ],
   "source": [
    "# Construct matrix containing the top/bottom 5 ranks and 9 different\n",
    "# percentiles of alpha each simulation (result is a 21 x 10000 matrix):\n",
    "percentages1 = [10,20,30,40,50,60,70,80,90]\n",
    "temp_percentiles_sim_a = np.concatenate((temp_sort_asc_sim_a.T[0:5,:],\\\n",
    "                                         np.percentile(sim_coeffs[0,:,:].T,\\\n",
    "                                                       percentages1, axis = 1),\\\n",
    "                                         temp_sort_asc_sim_a.T[-5:,:]))\n",
    "temp_percentiles_sim_a, percentiles_orig_a"
   ]
  },
  {
   "cell_type": "code",
   "execution_count": 103,
   "metadata": {
    "colab": {
     "base_uri": "https://localhost:8080/",
     "height": 3417
    },
    "colab_type": "code",
    "id": "qbNleDmmj79M",
    "outputId": "1b583ebe-909a-4392-df0e-fae71399ff37"
   },
   "outputs": [
    {
     "data": {
      "text/plain": [
       "(19, 1000)"
      ]
     },
     "execution_count": 103,
     "metadata": {},
     "output_type": "execute_result"
    }
   ],
   "source": [
    "# Construct matrix containing the top/bottom 5 ranks and 9 different\n",
    "# percentiles of t-stat in each simulation (result is a 21 x 10000 matrix):\n",
    "temp_percentiles_sim_t = np.concatenate((temp_sort_asc_sim_t.T[0:5,:],\\\n",
    "                                         np.percentile(sim_t_stats[0,:,:].T, percentages1, axis = 1),\\\n",
    "                                         temp_sort_asc_sim_t.T[-5:,:]))\n",
    "temp_percentiles_sim_t.shape"
   ]
  },
  {
   "cell_type": "code",
   "execution_count": 104,
   "metadata": {
    "colab": {
     "base_uri": "https://localhost:8080/",
     "height": 153
    },
    "colab_type": "code",
    "id": "HqqzqU298kW1",
    "outputId": "bec0f3d2-4619-4373-ca5a-04be48610c12"
   },
   "outputs": [
    {
     "data": {
      "text/plain": [
       "(array([-0.34310666, -0.27296273, -0.23888768, -0.21564007, -0.19841547,\n",
       "        -0.12729646, -0.07916084, -0.04804982, -0.02368782, -0.00155476,\n",
       "         0.02076954,  0.04529866,  0.07584696,  0.12357731,  0.19431594,\n",
       "         0.21088631,  0.23348083,  0.26499421,  0.33247528]),\n",
       " array([-2.68468305, -2.32981962, -2.12829424, -1.97648348, -1.85753604,\n",
       "        -1.30116267, -0.85515645, -0.5399585 , -0.27227603, -0.02065919,\n",
       "         0.23051772,  0.49767483,  0.80997824,  1.23125195,  1.75438105,\n",
       "         1.86826327,  2.00139296,  2.19226153,  2.53998096]))"
      ]
     },
     "execution_count": 104,
     "metadata": {},
     "output_type": "execute_result"
    }
   ],
   "source": [
    "#Take the means across each rank/percentile:\n",
    "mean_percentiles_sim_a = np.nanmean(temp_percentiles_sim_a, axis=1)\n",
    "mean_percentiles_sim_t = np.nanmean(temp_percentiles_sim_t, axis=1)\n",
    "mean_percentiles_sim_a, mean_percentiles_sim_t\n"
   ]
  },
  {
   "cell_type": "code",
   "execution_count": 105,
   "metadata": {
    "colab": {
     "base_uri": "https://localhost:8080/",
     "height": 85
    },
    "colab_type": "code",
    "id": "Aw7OwDi-8vcI",
    "outputId": "9cdd3858-1237-4f01-9dc2-bd94bdda36ed"
   },
   "outputs": [
    {
     "data": {
      "text/plain": [
       "(array([87.7, 75.1, 60. , 66. , 54.8, 35.9, 36.2, 36.2, 44.4, 63.2, 77.8,\n",
       "        93.2, 96.7, 96.9, 96.5, 96.6, 98.8, 97. , 83.9]),\n",
       " array([ 7. ,  1.9,  5.9, 16.3, 30.3, 19.2, 16.4, 41.8, 46.4, 58.7, 70.7,\n",
       "        81.2, 90. , 91.5, 93.3, 94.7, 91. , 96.7, 92.3]))"
      ]
     },
     "execution_count": 105,
     "metadata": {},
     "output_type": "execute_result"
    }
   ],
   "source": [
    "# Calculate the percentage of simulated alphas in each rank/percentile that \n",
    "# are smaller than actual alpha (and same for t-values):  \n",
    "sim_smaller_a = np.sum(temp_percentiles_sim_a < np.tile(np.vstack(percentiles_orig_a),\n",
    "                                                        (1,n_simulations)), axis=1)/n_simulations*100\n",
    "sim_smaller_t = np.sum(temp_percentiles_sim_t < np.tile(np.vstack(percentiles_orig_t),\n",
    "                                                        (1,n_simulations)), axis=1)/n_simulations*100\n",
    "sim_smaller_a, sim_smaller_t\n"
   ]
  },
  {
   "cell_type": "code",
   "execution_count": 106,
   "metadata": {
    "colab": {
     "base_uri": "https://localhost:8080/",
     "height": 669
    },
    "colab_type": "code",
    "id": "fsn9CB8980tB",
    "outputId": "34ebdda4-e133-40be-bb7c-d43ef94e960f"
   },
   "outputs": [
    {
     "data": {
      "text/html": [
       "<div>\n",
       "<style scoped>\n",
       "    .dataframe tbody tr th:only-of-type {\n",
       "        vertical-align: middle;\n",
       "    }\n",
       "\n",
       "    .dataframe tbody tr th {\n",
       "        vertical-align: top;\n",
       "    }\n",
       "\n",
       "    .dataframe thead th {\n",
       "        text-align: right;\n",
       "    }\n",
       "</style>\n",
       "<table border=\"1\" class=\"dataframe\">\n",
       "  <thead>\n",
       "    <tr style=\"text-align: right;\">\n",
       "      <th></th>\n",
       "      <th>Actual</th>\n",
       "      <th>Sim Avg</th>\n",
       "      <th>%&lt;Act</th>\n",
       "    </tr>\n",
       "    <tr>\n",
       "      <th>Rank/pctl</th>\n",
       "      <th></th>\n",
       "      <th></th>\n",
       "      <th></th>\n",
       "    </tr>\n",
       "  </thead>\n",
       "  <tbody>\n",
       "    <tr>\n",
       "      <th>Worst</th>\n",
       "      <td>-0.229878</td>\n",
       "      <td>-0.343107</td>\n",
       "      <td>87.7</td>\n",
       "    </tr>\n",
       "    <tr>\n",
       "      <th>2nd</th>\n",
       "      <td>-0.222565</td>\n",
       "      <td>-0.272963</td>\n",
       "      <td>75.1</td>\n",
       "    </tr>\n",
       "    <tr>\n",
       "      <th>3rd</th>\n",
       "      <td>-0.219048</td>\n",
       "      <td>-0.238888</td>\n",
       "      <td>60.0</td>\n",
       "    </tr>\n",
       "    <tr>\n",
       "      <th>4th</th>\n",
       "      <td>-0.190659</td>\n",
       "      <td>-0.215640</td>\n",
       "      <td>66.0</td>\n",
       "    </tr>\n",
       "    <tr>\n",
       "      <th>5th</th>\n",
       "      <td>-0.188634</td>\n",
       "      <td>-0.198415</td>\n",
       "      <td>54.8</td>\n",
       "    </tr>\n",
       "    <tr>\n",
       "      <th>10%</th>\n",
       "      <td>-0.138338</td>\n",
       "      <td>-0.127296</td>\n",
       "      <td>35.9</td>\n",
       "    </tr>\n",
       "    <tr>\n",
       "      <th>20%</th>\n",
       "      <td>-0.089291</td>\n",
       "      <td>-0.079161</td>\n",
       "      <td>36.2</td>\n",
       "    </tr>\n",
       "    <tr>\n",
       "      <th>30%</th>\n",
       "      <td>-0.058700</td>\n",
       "      <td>-0.048050</td>\n",
       "      <td>36.2</td>\n",
       "    </tr>\n",
       "    <tr>\n",
       "      <th>40%</th>\n",
       "      <td>-0.028486</td>\n",
       "      <td>-0.023688</td>\n",
       "      <td>44.4</td>\n",
       "    </tr>\n",
       "    <tr>\n",
       "      <th>50%</th>\n",
       "      <td>0.008053</td>\n",
       "      <td>-0.001555</td>\n",
       "      <td>63.2</td>\n",
       "    </tr>\n",
       "    <tr>\n",
       "      <th>60%</th>\n",
       "      <td>0.042440</td>\n",
       "      <td>0.020770</td>\n",
       "      <td>77.8</td>\n",
       "    </tr>\n",
       "    <tr>\n",
       "      <th>70%</th>\n",
       "      <td>0.093222</td>\n",
       "      <td>0.045299</td>\n",
       "      <td>93.2</td>\n",
       "    </tr>\n",
       "    <tr>\n",
       "      <th>80%</th>\n",
       "      <td>0.140291</td>\n",
       "      <td>0.075847</td>\n",
       "      <td>96.7</td>\n",
       "    </tr>\n",
       "    <tr>\n",
       "      <th>90%</th>\n",
       "      <td>0.205200</td>\n",
       "      <td>0.123577</td>\n",
       "      <td>96.9</td>\n",
       "    </tr>\n",
       "    <tr>\n",
       "      <th>5th</th>\n",
       "      <td>0.296094</td>\n",
       "      <td>0.194316</td>\n",
       "      <td>96.5</td>\n",
       "    </tr>\n",
       "    <tr>\n",
       "      <th>4th</th>\n",
       "      <td>0.321823</td>\n",
       "      <td>0.210886</td>\n",
       "      <td>96.6</td>\n",
       "    </tr>\n",
       "    <tr>\n",
       "      <th>3rd</th>\n",
       "      <td>0.392557</td>\n",
       "      <td>0.233481</td>\n",
       "      <td>98.8</td>\n",
       "    </tr>\n",
       "    <tr>\n",
       "      <th>2nd</th>\n",
       "      <td>0.423748</td>\n",
       "      <td>0.264994</td>\n",
       "      <td>97.0</td>\n",
       "    </tr>\n",
       "    <tr>\n",
       "      <th>Best</th>\n",
       "      <td>0.427591</td>\n",
       "      <td>0.332475</td>\n",
       "      <td>83.9</td>\n",
       "    </tr>\n",
       "  </tbody>\n",
       "</table>\n",
       "</div>"
      ],
      "text/plain": [
       "             Actual   Sim Avg  %<Act\n",
       "Rank/pctl                           \n",
       "Worst     -0.229878 -0.343107   87.7\n",
       "2nd       -0.222565 -0.272963   75.1\n",
       "3rd       -0.219048 -0.238888   60.0\n",
       "4th       -0.190659 -0.215640   66.0\n",
       "5th       -0.188634 -0.198415   54.8\n",
       "10%       -0.138338 -0.127296   35.9\n",
       "20%       -0.089291 -0.079161   36.2\n",
       "30%       -0.058700 -0.048050   36.2\n",
       "40%       -0.028486 -0.023688   44.4\n",
       "50%        0.008053 -0.001555   63.2\n",
       "60%        0.042440  0.020770   77.8\n",
       "70%        0.093222  0.045299   93.2\n",
       "80%        0.140291  0.075847   96.7\n",
       "90%        0.205200  0.123577   96.9\n",
       "5th        0.296094  0.194316   96.5\n",
       "4th        0.321823  0.210886   96.6\n",
       "3rd        0.392557  0.233481   98.8\n",
       "2nd        0.423748  0.264994   97.0\n",
       "Best       0.427591  0.332475   83.9"
      ]
     },
     "execution_count": 106,
     "metadata": {},
     "output_type": "execute_result"
    }
   ],
   "source": [
    "# Combine the above in one table (one for alpha and one for t-stat): \n",
    "table_a1=pd.DataFrame(data=np.vstack(percentiles_orig_a))\n",
    "table_a2=pd.DataFrame(data=mean_percentiles_sim_a)\n",
    "table_a3=pd.DataFrame(data=sim_smaller_a)\n",
    "table_a4=pd.concat([table_a1, table_a2, table_a3], axis=1)\n",
    "table_a4.columns=['Actual','Sim Avg', '%<Act']\n",
    "idx = ['Worst','2nd','3rd','4th','5th','10%','20%','30%','40%','50%',\n",
    "       '60%','70%','80%','90%','5th','4th','3rd','2nd','Best']\n",
    "se=pd.Series(idx)\n",
    "table_a4['Rank/pctl']=se.values\n",
    "table_a = table_a4.set_index('Rank/pctl')\n",
    "table_a"
   ]
  },
  {
   "cell_type": "code",
   "execution_count": 107,
   "metadata": {
    "colab": {
     "base_uri": "https://localhost:8080/",
     "height": 669
    },
    "colab_type": "code",
    "id": "k1rsdsYr9Jx_",
    "outputId": "818c7929-c31b-4850-d658-a0b3cd4b4a2a"
   },
   "outputs": [
    {
     "data": {
      "text/html": [
       "<div>\n",
       "<style scoped>\n",
       "    .dataframe tbody tr th:only-of-type {\n",
       "        vertical-align: middle;\n",
       "    }\n",
       "\n",
       "    .dataframe tbody tr th {\n",
       "        vertical-align: top;\n",
       "    }\n",
       "\n",
       "    .dataframe thead th {\n",
       "        text-align: right;\n",
       "    }\n",
       "</style>\n",
       "<table border=\"1\" class=\"dataframe\">\n",
       "  <thead>\n",
       "    <tr style=\"text-align: right;\">\n",
       "      <th></th>\n",
       "      <th>Actual</th>\n",
       "      <th>Sim Avg</th>\n",
       "      <th>%&lt;Act</th>\n",
       "    </tr>\n",
       "    <tr>\n",
       "      <th>Rank/pctl</th>\n",
       "      <th></th>\n",
       "      <th></th>\n",
       "      <th></th>\n",
       "    </tr>\n",
       "  </thead>\n",
       "  <tbody>\n",
       "    <tr>\n",
       "      <th>Worst</th>\n",
       "      <td>-3.787495</td>\n",
       "      <td>-2.684683</td>\n",
       "      <td>7.0</td>\n",
       "    </tr>\n",
       "    <tr>\n",
       "      <th>2nd</th>\n",
       "      <td>-3.702615</td>\n",
       "      <td>-2.329820</td>\n",
       "      <td>1.9</td>\n",
       "    </tr>\n",
       "    <tr>\n",
       "      <th>3rd</th>\n",
       "      <td>-2.998788</td>\n",
       "      <td>-2.128294</td>\n",
       "      <td>5.9</td>\n",
       "    </tr>\n",
       "    <tr>\n",
       "      <th>4th</th>\n",
       "      <td>-2.432716</td>\n",
       "      <td>-1.976483</td>\n",
       "      <td>16.3</td>\n",
       "    </tr>\n",
       "    <tr>\n",
       "      <th>5th</th>\n",
       "      <td>-2.070504</td>\n",
       "      <td>-1.857536</td>\n",
       "      <td>30.3</td>\n",
       "    </tr>\n",
       "    <tr>\n",
       "      <th>10%</th>\n",
       "      <td>-1.634098</td>\n",
       "      <td>-1.301163</td>\n",
       "      <td>19.2</td>\n",
       "    </tr>\n",
       "    <tr>\n",
       "      <th>20%</th>\n",
       "      <td>-1.227415</td>\n",
       "      <td>-0.855156</td>\n",
       "      <td>16.4</td>\n",
       "    </tr>\n",
       "    <tr>\n",
       "      <th>30%</th>\n",
       "      <td>-0.609360</td>\n",
       "      <td>-0.539959</td>\n",
       "      <td>41.8</td>\n",
       "    </tr>\n",
       "    <tr>\n",
       "      <th>40%</th>\n",
       "      <td>-0.300439</td>\n",
       "      <td>-0.272276</td>\n",
       "      <td>46.4</td>\n",
       "    </tr>\n",
       "    <tr>\n",
       "      <th>50%</th>\n",
       "      <td>0.053437</td>\n",
       "      <td>-0.020659</td>\n",
       "      <td>58.7</td>\n",
       "    </tr>\n",
       "    <tr>\n",
       "      <th>60%</th>\n",
       "      <td>0.398654</td>\n",
       "      <td>0.230518</td>\n",
       "      <td>70.7</td>\n",
       "    </tr>\n",
       "    <tr>\n",
       "      <th>70%</th>\n",
       "      <td>0.784608</td>\n",
       "      <td>0.497675</td>\n",
       "      <td>81.2</td>\n",
       "    </tr>\n",
       "    <tr>\n",
       "      <th>80%</th>\n",
       "      <td>1.261662</td>\n",
       "      <td>0.809978</td>\n",
       "      <td>90.0</td>\n",
       "    </tr>\n",
       "    <tr>\n",
       "      <th>90%</th>\n",
       "      <td>1.754968</td>\n",
       "      <td>1.231252</td>\n",
       "      <td>91.5</td>\n",
       "    </tr>\n",
       "    <tr>\n",
       "      <th>5th</th>\n",
       "      <td>2.417043</td>\n",
       "      <td>1.754381</td>\n",
       "      <td>93.3</td>\n",
       "    </tr>\n",
       "    <tr>\n",
       "      <th>4th</th>\n",
       "      <td>2.596955</td>\n",
       "      <td>1.868263</td>\n",
       "      <td>94.7</td>\n",
       "    </tr>\n",
       "    <tr>\n",
       "      <th>3rd</th>\n",
       "      <td>2.634869</td>\n",
       "      <td>2.001393</td>\n",
       "      <td>91.0</td>\n",
       "    </tr>\n",
       "    <tr>\n",
       "      <th>2nd</th>\n",
       "      <td>3.149317</td>\n",
       "      <td>2.192262</td>\n",
       "      <td>96.7</td>\n",
       "    </tr>\n",
       "    <tr>\n",
       "      <th>Best</th>\n",
       "      <td>3.407998</td>\n",
       "      <td>2.539981</td>\n",
       "      <td>92.3</td>\n",
       "    </tr>\n",
       "  </tbody>\n",
       "</table>\n",
       "</div>"
      ],
      "text/plain": [
       "             Actual   Sim Avg  %<Act\n",
       "Rank/pctl                           \n",
       "Worst     -3.787495 -2.684683    7.0\n",
       "2nd       -3.702615 -2.329820    1.9\n",
       "3rd       -2.998788 -2.128294    5.9\n",
       "4th       -2.432716 -1.976483   16.3\n",
       "5th       -2.070504 -1.857536   30.3\n",
       "10%       -1.634098 -1.301163   19.2\n",
       "20%       -1.227415 -0.855156   16.4\n",
       "30%       -0.609360 -0.539959   41.8\n",
       "40%       -0.300439 -0.272276   46.4\n",
       "50%        0.053437 -0.020659   58.7\n",
       "60%        0.398654  0.230518   70.7\n",
       "70%        0.784608  0.497675   81.2\n",
       "80%        1.261662  0.809978   90.0\n",
       "90%        1.754968  1.231252   91.5\n",
       "5th        2.417043  1.754381   93.3\n",
       "4th        2.596955  1.868263   94.7\n",
       "3rd        2.634869  2.001393   91.0\n",
       "2nd        3.149317  2.192262   96.7\n",
       "Best       3.407998  2.539981   92.3"
      ]
     },
     "execution_count": 107,
     "metadata": {},
     "output_type": "execute_result"
    }
   ],
   "source": [
    "# % Combine the above in one table (one for alpha and one for t-stat): \n",
    "table_t1=pd.DataFrame(data=np.vstack(percentiles_orig_t))\n",
    "table_t2=pd.DataFrame(data=mean_percentiles_sim_t)\n",
    "table_t3=pd.DataFrame(data=sim_smaller_t)\n",
    "table_t4=pd.concat([table_t1, table_t2, table_t3], axis=1)\n",
    "table_t4.columns=['Actual','Sim Avg', '%<Act']\n",
    "setn=pd.Series(idx)\n",
    "table_t4['Rank/pctl']=setn.values\n",
    "table_t = table_t4.set_index('Rank/pctl')\n",
    "table_t"
   ]
  },
  {
   "cell_type": "markdown",
   "metadata": {
    "colab_type": "text",
    "id": "9pM6X8hE39Qm"
   },
   "source": [
    "## 6. Generating CDF Plots"
   ]
  },
  {
   "cell_type": "code",
   "execution_count": 108,
   "metadata": {
    "colab": {},
    "colab_type": "code",
    "id": "pderE2wV9lgV"
   },
   "outputs": [],
   "source": [
    "# Generate CDF plot for alphas: \n",
    "prct = np.arange(1,100,1)\n",
    "\n",
    "# arrays for plots\n",
    "alphas_orig = orig_coeffs.transpose()['Alpha']\n",
    "alphas_sim  = sim_coeffs[0,:,:].flatten()\n",
    "tstats_orig = orig_t_stats.transpose()['t(Alpha)']\n",
    "tstats_sim  = sim_t_stats[0,:,:].flatten()\n",
    "alphas_sim_prct = np.nanmean(np.percentile(sim_coeffs[0,:,:], prct, axis=0), axis=1)\n",
    "tstats_sim_prct = np.nanmean(np.percentile(sim_t_stats[0,:,:], prct, axis=0), axis=1)\n"
   ]
  },
  {
   "cell_type": "code",
   "execution_count": 109,
   "metadata": {
    "colab": {
     "base_uri": "https://localhost:8080/",
     "height": 426
    },
    "colab_type": "code",
    "id": "1R1x7u9f9t7R",
    "outputId": "d4558b26-996c-4a45-98e1-efce6886fd00"
   },
   "outputs": [
    {
     "data": {
      "image/png": "[encoded data removed]",
      "text/plain": [
       "<Figure size 576x432 with 1 Axes>"
      ]
     },
     "metadata": {},
     "output_type": "display_data"
    }
   ],
   "source": [
    "# Generate CDF plot for alphas: \n",
    "\n",
    "# compute the ECDF of the samples\n",
    "qe, pe = ecdf(alphas_sim_prct)\n",
    "q, p = ecdf(alphas_orig)\n",
    "\n",
    "# plot\n",
    "fig, ax = plt.subplots(1, 1, figsize=(8,6))\n",
    "ax.plot(q, p, '-k', lw=2, label='Actual CDF')\n",
    "ax.plot(qe, pe, '-r', lw=2, label='Simulated alpha CDF')\n",
    "ax.set_xlabel('alpha')\n",
    "ax.set_ylabel('Cumulative probability')\n",
    "ax.legend(fancybox=True, loc='right')\n",
    "plt.title('\\n\\nEmpirical CDF for actual and simulated alpha', fontsize=15,fontweight='bold')\n",
    "plt.show()"
   ]
  },
  {
   "cell_type": "code",
   "execution_count": 110,
   "metadata": {
    "colab": {
     "base_uri": "https://localhost:8080/",
     "height": 426
    },
    "colab_type": "code",
    "id": "hkQgQtqQ-ims",
    "outputId": "17d59936-8285-411b-818f-40cb92b660bd"
   },
   "outputs": [
    {
     "data": {
      "image/png": "[encoded data removed]",
      "text/plain": [
       "<Figure size 576x432 with 1 Axes>"
      ]
     },
     "metadata": {},
     "output_type": "display_data"
    }
   ],
   "source": [
    "# Generate CDF plot for t(alphas): \n",
    "# compute the ECDF of the samples\n",
    "qe, pe = ecdf(tstats_sim_prct)\n",
    "qt, pt = ecdf(tstats_orig)\n",
    "\n",
    "# plot\n",
    "fig, ax = plt.subplots(1, 1, figsize=(8,6))\n",
    "ax.plot(qt, pt, '-k', lw=2, label='Actual CDF')\n",
    "ax.plot(qe, pe, '-r', lw=2, label='Simulated t(alpha) CDF')\n",
    "ax.set_xlabel('t(alpha)')\n",
    "ax.set_ylabel('Cumulative probability')\n",
    "ax.legend(fancybox=True, loc='right')\n",
    "plt.title('\\n\\nEmpirical CDF for actual and simulated t(alpha)', fontsize=15,fontweight='bold')\n",
    "plt.show()"
   ]
  },
  {
   "cell_type": "markdown",
   "metadata": {
    "colab_type": "text",
    "id": "4mGUeuG-3U4d"
   },
   "source": [
    "## 7. Generating Kernel smoothing density estimate plots"
   ]
  },
  {
   "cell_type": "code",
   "execution_count": 111,
   "metadata": {
    "colab": {
     "base_uri": "https://localhost:8080/",
     "height": 410
    },
    "colab_type": "code",
    "id": "3Wchfamw-9Us",
    "outputId": "9a0b77d6-7c93-4f32-f12b-7988dd3cc773"
   },
   "outputs": [
    {
     "data": {
      "image/png": "[encoded data removed]",
      "text/plain": [
       "<Figure size 648x432 with 1 Axes>"
      ]
     },
     "metadata": {},
     "output_type": "display_data"
    }
   ],
   "source": [
    "#   Generate Kernel smoothing density estimate plot for alphas: \n",
    "\n",
    "kde1 = stats.gaussian_kde(alphas_orig)\n",
    "kde2 = stats.gaussian_kde(alphas_sim_prct)\n",
    "x1 = np.linspace(alphas_orig.min(), alphas_orig.max(), 100)\n",
    "x2 = np.linspace(alphas_sim_prct.min(), alphas_sim_prct.max(), 100)\n",
    "p1 = kde1(x1)\n",
    "p2 = kde2(x2)\n",
    "\n",
    "fig, ax = plt.subplots(1, 1, figsize=(9,6))\n",
    "ax.plot(x1, p1, '-k', lw=2, label='Actual')\n",
    "ax.plot(x2, p2, '-r', lw=2, label='Simulated')\n",
    "ax.set_xlabel('Alpha %')\n",
    "ax.set_ylabel('Frequency')\n",
    "ax.legend(fancybox=True, loc='right')\n",
    "plt.title('\\n\\nKernel smoothing density estimate for actual and simulated alpha', \n",
    "          fontsize=15,fontweight='bold')\n",
    "plt.show()"
   ]
  },
  {
   "cell_type": "code",
   "execution_count": 112,
   "metadata": {
    "colab": {
     "base_uri": "https://localhost:8080/",
     "height": 410
    },
    "colab_type": "code",
    "id": "baKWJTVAkcUX",
    "outputId": "11e7f916-41d5-4665-db15-45c55fdf5a84"
   },
   "outputs": [
    {
     "data": {
      "image/png": "[encoded data removed]",
      "text/plain": [
       "<Figure size 648x432 with 1 Axes>"
      ]
     },
     "metadata": {},
     "output_type": "display_data"
    }
   ],
   "source": [
    "# Generate Kernel smoothing density estimate plot for t-stats of alpha\n",
    "kde3 = stats.gaussian_kde(tstats_orig)\n",
    "kde4 = stats.gaussian_kde(tstats_sim_prct)\n",
    "x3 = np.linspace(tstats_orig.min(), tstats_orig.max(), 100)\n",
    "x4 = np.linspace(tstats_sim_prct.min(), tstats_sim_prct.max(), 100)\n",
    "p3 = kde3(x3)\n",
    "p4 = kde4(x4)\n",
    "\n",
    "# plot\n",
    "fig, ax = plt.subplots(1, 1, figsize=(9,6))\n",
    "ax.plot(x3, p3, '-k', lw=2, label='Actual')\n",
    "ax.plot(x4, p4, '-r', lw=2, label='Simulated')\n",
    "ax.set_xlabel('t(-alpha)')\n",
    "ax.set_ylabel('Frequency')\n",
    "ax.legend(fancybox=True, loc='right')\n",
    "plt.title('\\n\\nKernel smoothing density estimate for actual and simulated t(alpha)', \n",
    "          fontsize=15,fontweight='bold')\n",
    "plt.show()"
   ]
  },
  {
   "cell_type": "markdown",
   "metadata": {
    "colab_type": "text",
    "id": "aHRnCjye2jYh"
   },
   "source": [
    "## 8. Generating histograms"
   ]
  },
  {
   "cell_type": "code",
   "execution_count": 113,
   "metadata": {
    "colab": {
     "base_uri": "https://localhost:8080/",
     "height": 429
    },
    "colab_type": "code",
    "id": "rYo5wZPxJsEq",
    "outputId": "75341bf1-8de7-402e-c427-a5ad0b8a3b26"
   },
   "outputs": [
    {
     "data": {
      "image/png": "[encoded data removed]",
      "text/plain": [
       "<Figure size 648x432 with 1 Axes>"
      ]
     },
     "metadata": {},
     "output_type": "display_data"
    }
   ],
   "source": [
    "temp_input = -1\n",
    "temp_t = np.vstack(percentiles_orig_t)[temp_input]\n",
    "\n",
    "plt.figure(figsize=(9,6))\n",
    "result = plt.hist(temp_percentiles_sim_t[temp_input,:][~np.isnan(temp_percentiles_sim_t[temp_input,:])],\n",
    "                  bins=25, color='c', edgecolor='k', alpha=0.65)\n",
    "plt.axvline(np.vstack(percentiles_orig_t)[temp_input], color='k', linestyle='dashed', linewidth=1)\n",
    "plt.title('\\n\\nBootstrapped t-statistics of t(alpha): Best fund', fontsize=15, fontweight='bold')\n",
    "labels= ['$Actual: t(alpha) = {0:.2f}$'.format(float(temp_t)), 'Simulated t(alpha)']\n",
    "plt.legend(labels)\n",
    "plt.show()\n"
   ]
  },
  {
   "cell_type": "code",
   "execution_count": 114,
   "metadata": {
    "colab": {
     "base_uri": "https://localhost:8080/",
     "height": 429
    },
    "colab_type": "code",
    "id": "FWMuuLzIm0sl",
    "outputId": "ea05c98e-02b0-4086-d8c9-2ae13938824b"
   },
   "outputs": [
    {
     "data": {
      "image/png": "[encoded data removed]",
      "text/plain": [
       "<Figure size 648x432 with 1 Axes>"
      ]
     },
     "metadata": {},
     "output_type": "display_data"
    }
   ],
   "source": [
    "temp_input = 0\n",
    "temp_t = np.vstack(percentiles_orig_t)[temp_input]\n",
    "\n",
    "plt.figure(figsize=(9,6))\n",
    "result = plt.hist(temp_percentiles_sim_t[temp_input,:][~np.isnan(temp_percentiles_sim_t[temp_input,:])], \n",
    "                  bins=25, color='c', edgecolor='k', alpha=0.65)\n",
    "plt.axvline(np.vstack(percentiles_orig_t)[temp_input], color='k', linestyle='dashed', linewidth=1)\n",
    "plt.title('\\n\\nBootstrapped t-statistics of t(alpha): Worst fund', fontsize=15, fontweight='bold')\n",
    "labels= ['$Actual: t(alpha) = {0:.2f}$'.format(float(temp_t)), 'Simulated t(alpha)']\n",
    "plt.legend(labels)\n",
    "plt.show()\n"
   ]
  },
  {
   "cell_type": "code",
   "execution_count": 0,
   "metadata": {
    "colab": {},
    "colab_type": "code",
    "id": "8tNNGJ3qTy45"
   },
   "outputs": [],
   "source": [
    "#Generate histogram of simulated t(alpha)'s for various ranks/percentiles:\n",
    "#Includes vertical line representing the actual performance of fund at\n",
    "#equivalent rank/percentile:\n",
    "#Different index INPUTS used to make histograms from\n",
    "#'temp_percentiles_sim_t' and vertical lines from 'percentiles_orig_t'\n",
    "#represent different ranks/percentiles to extract, as specified below:\n",
    "#input: 1:5 - represents ranks: 101(worst):-1:97\n",
    "#input: 6:14 - represents percentiles 10:10:90\n",
    "#input: 15:19 - represents ranks 5:-1:1(best))\n",
    "\n",
    "#BEST FUND"
   ]
  },
  {
   "cell_type": "markdown",
   "metadata": {
    "colab_type": "text",
    "id": "eZiLNLItWmR-"
   },
   "source": [
    "## 9. Loop through simulation program to inject alpha with different standard deviation assumptions"
   ]
  },
  {
   "cell_type": "code",
   "execution_count": 22,
   "metadata": {
    "colab": {
     "base_uri": "https://localhost:8080/",
     "height": 130
    },
    "colab_type": "code",
    "id": "q49EbH609Tg8",
    "outputId": "f62d598f-0314-4c40-8f6d-2589163ccbd3",
    "scrolled": false
   },
   "outputs": [
    {
     "name": "stdout",
     "output_type": "stream",
     "text": [
      "--------------------------\n",
      "Standard Deviation 1 of 15\n",
      "--------------------------\n",
      "Annual standard deviation: 0.00, Standard deviation alpha: 0.00\n",
      "Simulation X and Y matrices populated! Now regressions...\n",
      "Regressions finished! Making percentiles...\n",
      "Populating data tables...\n",
      "DONE! (127.94 seconds for this iteration)\n",
      "\n",
      "--------------------------\n",
      "Standard Deviation 2 of 15\n",
      "--------------------------\n",
      "Annual standard deviation: 0.25, Standard deviation alpha: 0.07\n",
      "Simulation X and Y matrices populated! Now regressions...\n",
      "Regressions finished! Making percentiles...\n",
      "Populating data tables...\n",
      "DONE! (117.08 seconds for this iteration)\n",
      "\n",
      "--------------------------\n",
      "Standard Deviation 3 of 15\n",
      "--------------------------\n",
      "Annual standard deviation: 0.50, Standard deviation alpha: 0.14\n",
      "Simulation X and Y matrices populated! Now regressions...\n",
      "Regressions finished! Making percentiles...\n",
      "Populating data tables...\n",
      "DONE! (116.52 seconds for this iteration)\n",
      "\n",
      "--------------------------\n",
      "Standard Deviation 4 of 15\n",
      "--------------------------\n",
      "Annual standard deviation: 0.75, Standard deviation alpha: 0.22\n",
      "Simulation X and Y matrices populated! Now regressions...\n",
      "Regressions finished! Making percentiles...\n",
      "Populating data tables...\n",
      "DONE! (113.71 seconds for this iteration)\n",
      "\n",
      "--------------------------\n",
      "Standard Deviation 5 of 15\n",
      "--------------------------\n",
      "Annual standard deviation: 1.00, Standard deviation alpha: 0.29\n",
      "Simulation X and Y matrices populated! Now regressions...\n",
      "Regressions finished! Making percentiles...\n",
      "Populating data tables...\n",
      "DONE! (118.62 seconds for this iteration)\n",
      "\n",
      "--------------------------\n",
      "Standard Deviation 6 of 15\n",
      "--------------------------\n",
      "Annual standard deviation: 1.25, Standard deviation alpha: 0.36\n",
      "Simulation X and Y matrices populated! Now regressions...\n",
      "Regressions finished! Making percentiles...\n",
      "Populating data tables...\n",
      "DONE! (116.86 seconds for this iteration)\n",
      "\n",
      "--------------------------\n",
      "Standard Deviation 7 of 15\n",
      "--------------------------\n",
      "Annual standard deviation: 1.50, Standard deviation alpha: 0.43\n",
      "Simulation X and Y matrices populated! Now regressions...\n",
      "Regressions finished! Making percentiles...\n",
      "Populating data tables...\n",
      "DONE! (113.32 seconds for this iteration)\n",
      "\n",
      "--------------------------\n",
      "Standard Deviation 8 of 15\n",
      "--------------------------\n",
      "Annual standard deviation: 1.75, Standard deviation alpha: 0.51\n",
      "Simulation X and Y matrices populated! Now regressions...\n",
      "Regressions finished! Making percentiles...\n",
      "Populating data tables...\n",
      "DONE! (114.95 seconds for this iteration)\n",
      "\n",
      "--------------------------\n",
      "Standard Deviation 9 of 15\n",
      "--------------------------\n",
      "Annual standard deviation: 2.00, Standard deviation alpha: 0.58\n",
      "Simulation X and Y matrices populated! Now regressions...\n",
      "Regressions finished! Making percentiles...\n",
      "Populating data tables...\n",
      "DONE! (115.98 seconds for this iteration)\n",
      "\n",
      "---------------------------\n",
      "Standard Deviation 10 of 15\n",
      "---------------------------\n",
      "Annual standard deviation: 2.25, Standard deviation alpha: 0.65\n",
      "Simulation X and Y matrices populated! Now regressions...\n",
      "Regressions finished! Making percentiles...\n",
      "Populating data tables...\n",
      "DONE! (122.23 seconds for this iteration)\n",
      "\n",
      "---------------------------\n",
      "Standard Deviation 11 of 15\n",
      "---------------------------\n",
      "Annual standard deviation: 2.50, Standard deviation alpha: 0.72\n",
      "Simulation X and Y matrices populated! Now regressions...\n",
      "Regressions finished! Making percentiles...\n",
      "Populating data tables...\n",
      "DONE! (130.53 seconds for this iteration)\n",
      "\n",
      "---------------------------\n",
      "Standard Deviation 12 of 15\n",
      "---------------------------\n",
      "Annual standard deviation: 2.75, Standard deviation alpha: 0.79\n",
      "Simulation X and Y matrices populated! Now regressions...\n",
      "Regressions finished! Making percentiles...\n",
      "Populating data tables...\n",
      "DONE! (123.46 seconds for this iteration)\n",
      "\n",
      "---------------------------\n",
      "Standard Deviation 13 of 15\n",
      "---------------------------\n",
      "Annual standard deviation: 3.00, Standard deviation alpha: 0.87\n",
      "Simulation X and Y matrices populated! Now regressions...\n",
      "Regressions finished! Making percentiles...\n",
      "Populating data tables...\n",
      "DONE! (129.59 seconds for this iteration)\n",
      "\n",
      "---------------------------\n",
      "Standard Deviation 14 of 15\n",
      "---------------------------\n",
      "Annual standard deviation: 3.25, Standard deviation alpha: 0.94\n",
      "Simulation X and Y matrices populated! Now regressions...\n",
      "Regressions finished! Making percentiles...\n",
      "Populating data tables...\n",
      "DONE! (112.69 seconds for this iteration)\n",
      "\n",
      "---------------------------\n",
      "Standard Deviation 15 of 15\n",
      "---------------------------\n",
      "Annual standard deviation: 3.50, Standard deviation alpha: 1.01\n",
      "Simulation X and Y matrices populated! Now regressions...\n",
      "Regressions finished! Making percentiles...\n",
      "Populating data tables...\n",
      "DONE! (112.62 seconds for this iteration)\n",
      "\n",
      "Total time elapsed = 29 minutes and 46.11 seconds.\n"
     ]
    }
   ],
   "source": [
    "# Construct simulated series based on \"sim_indices\"\n",
    "# tic; % Begin timer\n",
    "# This script used the simulated index numbers to:\n",
    "# 1) Pick corresponding numbers from factors and residuals, and\n",
    "# 2) Construct series of fund returns (potentially including injected alpha)\n",
    "# 3) Series are \"alpha free\" if 'std_alpha' below is set to '0'.\n",
    "\n",
    "# The constructed returns will be the basis for new regressions to\n",
    "# calculate simulated alphas.\n",
    "\n",
    "# From before: n = total number of funds\n",
    "# % h = total number of factors\n",
    "# % m = total number of time periods\n",
    "# % s = total number of simulations, s = 1 here refers sim #1\n",
    "\n",
    "# Check if the value for annual \"average\" standard deviation is already\n",
    "# defined. If it is, dont't touch it. If it isn't, define a chosen\n",
    "# value (usually '0') below. We do this to avoid overriding the std of alpha\n",
    "# in the loop running through different values of std of alpha\n",
    "\n",
    "import time\n",
    "\n",
    "# indices for data\n",
    "idx = ['Worst','2nd','3rd','4th','5th','10%','20%','30%','40%','50%',\n",
    "       '60%','70%','80%','90%','5th','4th','3rd','2nd','Best']\n",
    "idx_series = pd.Series(idx)\n",
    "t_index = [stdev/4 for stdev in range(0,15)] # testing 15 different standard deviations for simulation\n",
    "\n",
    "# data to store results\n",
    "data_cols = ['Actual']\n",
    "for std in t_index:\n",
    "    data_cols.append('Sim Avg ({:.2f})'.format(std))\n",
    "    data_cols.append('%<Act ({:.2f})'.format(std))\n",
    "\n",
    "data_a = pd.DataFrame([], index=idx, columns=data_cols) # alphas\n",
    "data_t = pd.DataFrame([], index=idx, columns=data_cols) # t-statistics\n",
    "\n",
    "\n",
    "# Sort original alphas and t-values in order to extract top/bottom ranked values:\n",
    "temp_sorted_orig_a =  orig_coeffs.take([0], axis=0).sort_values(by=['Alpha'], axis=1, ascending = [0])\n",
    "temp_sorted_orig_t = orig_t_stats.take([0], axis=0).sort_values(by=['t(Alpha)'], axis=1, ascending = [0])\n",
    "\n",
    "# percentiles: alphas and t-stats\n",
    "percentages = [.10, .20, .30, .40, .50, .60, .70, .80, .90]\n",
    "percentages1 = [10,20,30,40,50,60,70,80,90]\n",
    "percentiles_orig_a = [temp_sorted_orig_a.T.tail(5).iloc[::-1],\n",
    "                      temp_sorted_orig_a.T.quantile(percentages),\n",
    "                      temp_sorted_orig_a.T.head(5).iloc[::-1]]\n",
    "data_a['Actual'] = np.vstack(percentiles_orig_a)\n",
    "\n",
    "percentiles_orig_t = [temp_sorted_orig_t.T.tail(5).iloc[::-1],\n",
    "                      temp_sorted_orig_t.T.quantile(percentages),\n",
    "                      temp_sorted_orig_t.T.head(5).iloc[::-1]]\n",
    "data_t['Actual'] = np.vstack(percentiles_orig_t)\n",
    "\n",
    "\n",
    "# OTHER PARAMETERS \n",
    "# Set minumum number of observations(n) required in simulation for the\n",
    "# regression to be valid:\n",
    "sim_cutoff = 15\n",
    "\n",
    "# Construct matrices of all simulated factor and fund returns:\n",
    "constructed_X_mat = np.empty((n_obs,n_factors,n_simulations))*np.nan # X_mats for each simulation\n",
    "constructed_resids = np.empty((n_obs,n_funds,n_simulations))*np.nan  # resids for each simulation\n",
    "constructed_Y_all = np.empty((n_obs,n_funds,n_simulations))*np.nan   # n_funds fund returns for each sim\n",
    "sim_indices = np.random.randint(0, n_obs, size=(n_obs,n_simulations))    # randomized simulations\n",
    "\n",
    "# timing program\n",
    "start_time = time.time()\n",
    "for std_i,std in enumerate(t_index):\n",
    "    loop_start = time.time()\n",
    "    annual_std_alpha = std\n",
    "    std_alpha = annual_std_alpha/np.sqrt(12)\n",
    "    \n",
    "    #-----------------------------------------------------------------------------------\n",
    "    # print statements in order to keep track of program\n",
    "    title = \"Standard Deviation {} of {}\".format(std_i+1,len(t_index))\n",
    "    print(\"-\"*len(title))\n",
    "    print(title)\n",
    "    print(\"-\"*len(title))\n",
    "    print(\"Annual standard deviation: {:.2f}, Standard deviation alpha: {:.2f}\"\\\n",
    "          .format(annual_std_alpha, std_alpha))\n",
    "    #-----------------------------------------------------------------------------------\n",
    "    \n",
    "    temp_avg_orig_std_resid = np.nanmean(orig_SE_resid.values)\n",
    "    temp_std_resid_ratio = np.divide(orig_SE_resid,temp_avg_orig_std_resid)\n",
    "    \n",
    "    temp_alpha = std_alpha*np.tile(\\\n",
    "                     np.random.randn(1,n_funds,n_simulations) * np.tile(temp_std_resid_ratio, \\\n",
    "                     (1,1,n_simulations)).reshape((1,n_funds,n_simulations), order='F'),(n_obs,1,1))\n",
    "    \n",
    "    orig_betas = orig_coeffs_rank_a.transpose().values[1:4,:]\n",
    "    constructed_resids = np.empty((n_obs,n_funds,n_simulations))*np.nan\n",
    "    constructed_Y_all = np.empty((n_obs,n_funds,n_simulations))*np.nan\n",
    "    for ss in range(n_simulations):\n",
    "        # randomized simulations of Fama-French risk factors: Mkt-RF, SMB, HML\n",
    "        constructed_X_mat[:,:,ss] = X_mat.values[:,1:4][sim_indices[:,ss],:]  \n",
    "        \n",
    "        # randomized simulations of residuals from Fama-French equations\n",
    "        constructed_resids[:,:,ss] = orig_resids[sim_indices[:,ss],:]  \n",
    "        \n",
    "        #simulated returns based on fund betas, randomized resids and alphas (0?)\n",
    "        constructed_Y_all[:,:,ss] = temp_alpha[:,:,ss] \\\n",
    "                                   +np.matmul(constructed_X_mat[:,:,ss], orig_betas) \\\n",
    "                                   +constructed_resids[:,:,ss]\n",
    "    \n",
    "    #-----------------------------------------------------------------------------------\n",
    "    print(\"Simulation X and Y matrices populated! Now regressions...\")\n",
    "    #-----------------------------------------------------------------------------------\n",
    "    \n",
    "    # Populate target output vectors to be filled in with loop:\n",
    "    sim_SE_resid = np.empty((n_factors+1,n_funds,n_simulations))*np.nan\n",
    "    sim_coeffs = np.empty((n_factors+1,n_funds,n_simulations))*np.nan\n",
    "\n",
    "    # Calculate number of observations per fund per simulation for future\n",
    "    # reference:\n",
    "    n_i_s = (~np.isnan(constructed_Y_all)).sum(0)\n",
    "\n",
    "    # Calculate the lag selection parameter for the standard Newey-West HAC\n",
    "    # estimate (Andrews and Monohan, 1992), one number per fund per simulation:\n",
    "    maxLag_s = np.floor((4*(n_i_s/100)**(2/9))).astype(int)\n",
    "    \n",
    "    # Loop through each simulation run:\n",
    "    for ss in range(n_simulations):\n",
    "        #Loop through each fund:\n",
    "        for jj in range(n_funds):\n",
    "            if n_i_s[jj,ss]>= sim_cutoff:\n",
    "                xa = sm.add_constant(constructed_X_mat[:,:,ss])\n",
    "                ya_sample = constructed_Y_all[:,jj,ss]\n",
    "                maxLag_temp = maxLag_s[jj,ss]\n",
    "\n",
    "                # linear regression\n",
    "                lma = ols_s(ya_sample, xa, maxLag_temp)\n",
    "                sim_SE_resid[:,jj,ss] = lma.bse\n",
    "                sim_coeffs[:,jj,ss] = lma.params\n",
    "\n",
    "    sim_t_stats = np.divide(sim_coeffs,sim_SE_resid)\n",
    "    \n",
    "    #-----------------------------------------------------------------------------------\n",
    "    print('Regressions finished! Making percentiles...')\n",
    "    #-----------------------------------------------------------------------------------\n",
    "\n",
    "    # sorted simulations by alphas and t-stats\n",
    "    temp_sort_asc_sim_a = np.sort(sim_coeffs[0,:,:].T, axis=1)\n",
    "    temp_sort_asc_sim_t = np.sort(sim_t_stats[0,:,:].T, axis=1)\n",
    "    temp_percentiles_sim_a = np.concatenate((temp_sort_asc_sim_a.T[0:5,:], \\\n",
    "                             np.percentile(sim_coeffs[0,:,:].T, percentages1, axis = 1), \\\n",
    "                             temp_sort_asc_sim_a.T[-5:,:]))\n",
    "    temp_percentiles_sim_t = np.concatenate((temp_sort_asc_sim_t.T[0:5,:], \\\n",
    "                             np.percentile(sim_t_stats[0,:,:].T, percentages1, axis = 1), \\\n",
    "                             temp_sort_asc_sim_t.T[-5:,:]))\n",
    "    mean_percentiles_sim_a = np.nanmean(temp_percentiles_sim_a, axis=1)\n",
    "    mean_percentiles_sim_t = np.nanmean(temp_percentiles_sim_t, axis=1)\n",
    "\n",
    "    sim_smaller_a = np.sum(temp_percentiles_sim_a < \\\n",
    "                           np.tile(np.vstack(percentiles_orig_a),\n",
    "                                   (1,n_simulations)), axis=1)/n_simulations*100\n",
    "    sim_smaller_t = np.sum(temp_percentiles_sim_t < \\\n",
    "                           np.tile(np.vstack(percentiles_orig_t),\n",
    "                                   (1,n_simulations)), axis=1)/n_simulations*100\n",
    "    \n",
    "    #-----------------------------------------------------------------------------------\n",
    "    print(\"Populating data tables...\")\n",
    "    #-----------------------------------------------------------------------------------\n",
    "    \n",
    "    # Collecting alpha data\n",
    "    data_a['Sim Avg ({:.2f})'.format(std)] = mean_percentiles_sim_a\n",
    "    data_a['%<Act ({:.2f})'.format(std)] = sim_smaller_a\n",
    "\n",
    "    # Collecting t-stat data\n",
    "    data_t['Sim Avg ({:.2f})'.format(std)] = mean_percentiles_sim_t\n",
    "    data_t['%<Act ({:.2f})'.format(std)] = sim_smaller_t\n",
    "    \n",
    "    #-----------------------------------------------------------------------------------\n",
    "    print(\"DONE! ({:.2f} seconds for this iteration)\\n\".format(time.time()-loop_start))\n",
    "    #-----------------------------------------------------------------------------------\n",
    "    \n",
    "total_time = time.time() - start_time\n",
    "total_min = int(np.floor(total_time/60))\n",
    "total_sec = total_time % 60\n",
    "print(\"Total time elapsed = {} minutes and {:.2f} seconds.\".format(total_min,total_sec))"
   ]
  },
  {
   "cell_type": "code",
   "execution_count": 70,
   "metadata": {},
   "outputs": [],
   "source": [
    "data_a.to_csv('../luck_vs_skill_alpha15.csv')\n",
    "data_t.to_csv('../luck_vs_skill_tstat15.csv')"
   ]
  },
  {
   "cell_type": "code",
   "execution_count": 118,
   "metadata": {},
   "outputs": [
    {
     "data": {
      "text/html": [
       "<div>\n",
       "<style scoped>\n",
       "    .dataframe tbody tr th:only-of-type {\n",
       "        vertical-align: middle;\n",
       "    }\n",
       "\n",
       "    .dataframe tbody tr th {\n",
       "        vertical-align: top;\n",
       "    }\n",
       "\n",
       "    .dataframe thead th {\n",
       "        text-align: right;\n",
       "    }\n",
       "</style>\n",
       "<table border=\"1\" class=\"dataframe\">\n",
       "  <thead>\n",
       "    <tr style=\"text-align: right;\">\n",
       "      <th></th>\n",
       "      <th>Actual</th>\n",
       "      <th>Sim Avg (0.00)</th>\n",
       "      <th>%&lt;Act (0.00)</th>\n",
       "      <th>Sim Avg (0.25)</th>\n",
       "      <th>%&lt;Act (0.25)</th>\n",
       "      <th>Sim Avg (0.50)</th>\n",
       "      <th>%&lt;Act (0.50)</th>\n",
       "      <th>Sim Avg (0.75)</th>\n",
       "      <th>%&lt;Act (0.75)</th>\n",
       "      <th>Sim Avg (1.00)</th>\n",
       "      <th>%&lt;Act (1.00)</th>\n",
       "    </tr>\n",
       "  </thead>\n",
       "  <tbody>\n",
       "    <tr>\n",
       "      <th>Worst</th>\n",
       "      <td>-0.229878</td>\n",
       "      <td>-0.351381</td>\n",
       "      <td>89.7</td>\n",
       "      <td>-0.430168</td>\n",
       "      <td>99.0</td>\n",
       "      <td>-0.611262</td>\n",
       "      <td>99.9</td>\n",
       "      <td>-0.828656</td>\n",
       "      <td>100.0</td>\n",
       "      <td>-1.045590</td>\n",
       "      <td>100.0</td>\n",
       "    </tr>\n",
       "    <tr>\n",
       "      <th>2nd</th>\n",
       "      <td>-0.222565</td>\n",
       "      <td>-0.275564</td>\n",
       "      <td>73.7</td>\n",
       "      <td>-0.337513</td>\n",
       "      <td>95.5</td>\n",
       "      <td>-0.475979</td>\n",
       "      <td>99.9</td>\n",
       "      <td>-0.640906</td>\n",
       "      <td>100.0</td>\n",
       "      <td>-0.829173</td>\n",
       "      <td>100.0</td>\n",
       "    </tr>\n",
       "    <tr>\n",
       "      <th>3rd</th>\n",
       "      <td>-0.219048</td>\n",
       "      <td>-0.240082</td>\n",
       "      <td>60.2</td>\n",
       "      <td>-0.295178</td>\n",
       "      <td>88.8</td>\n",
       "      <td>-0.416882</td>\n",
       "      <td>99.8</td>\n",
       "      <td>-0.560457</td>\n",
       "      <td>100.0</td>\n",
       "      <td>-0.720930</td>\n",
       "      <td>100.0</td>\n",
       "    </tr>\n",
       "    <tr>\n",
       "      <th>4th</th>\n",
       "      <td>-0.190659</td>\n",
       "      <td>-0.217293</td>\n",
       "      <td>67.0</td>\n",
       "      <td>-0.266688</td>\n",
       "      <td>92.2</td>\n",
       "      <td>-0.375967</td>\n",
       "      <td>99.9</td>\n",
       "      <td>-0.508498</td>\n",
       "      <td>100.0</td>\n",
       "      <td>-0.650546</td>\n",
       "      <td>100.0</td>\n",
       "    </tr>\n",
       "    <tr>\n",
       "      <th>5th</th>\n",
       "      <td>-0.188634</td>\n",
       "      <td>-0.200034</td>\n",
       "      <td>57.1</td>\n",
       "      <td>-0.245667</td>\n",
       "      <td>86.1</td>\n",
       "      <td>-0.345483</td>\n",
       "      <td>99.7</td>\n",
       "      <td>-0.468934</td>\n",
       "      <td>100.0</td>\n",
       "      <td>-0.598225</td>\n",
       "      <td>100.0</td>\n",
       "    </tr>\n",
       "    <tr>\n",
       "      <th>10%</th>\n",
       "      <td>-0.138338</td>\n",
       "      <td>-0.127884</td>\n",
       "      <td>36.1</td>\n",
       "      <td>-0.156624</td>\n",
       "      <td>67.5</td>\n",
       "      <td>-0.220720</td>\n",
       "      <td>98.0</td>\n",
       "      <td>-0.299076</td>\n",
       "      <td>99.9</td>\n",
       "      <td>-0.382783</td>\n",
       "      <td>100.0</td>\n",
       "    </tr>\n",
       "    <tr>\n",
       "      <th>20%</th>\n",
       "      <td>-0.089291</td>\n",
       "      <td>-0.080046</td>\n",
       "      <td>36.7</td>\n",
       "      <td>-0.097123</td>\n",
       "      <td>58.3</td>\n",
       "      <td>-0.137509</td>\n",
       "      <td>92.1</td>\n",
       "      <td>-0.185204</td>\n",
       "      <td>98.6</td>\n",
       "      <td>-0.237416</td>\n",
       "      <td>100.0</td>\n",
       "    </tr>\n",
       "    <tr>\n",
       "      <th>30%</th>\n",
       "      <td>-0.058700</td>\n",
       "      <td>-0.049376</td>\n",
       "      <td>36.9</td>\n",
       "      <td>-0.059279</td>\n",
       "      <td>48.9</td>\n",
       "      <td>-0.084097</td>\n",
       "      <td>78.3</td>\n",
       "      <td>-0.112233</td>\n",
       "      <td>92.6</td>\n",
       "      <td>-0.143722</td>\n",
       "      <td>98.0</td>\n",
       "    </tr>\n",
       "    <tr>\n",
       "      <th>40%</th>\n",
       "      <td>-0.028486</td>\n",
       "      <td>-0.024250</td>\n",
       "      <td>43.8</td>\n",
       "      <td>-0.029067</td>\n",
       "      <td>49.3</td>\n",
       "      <td>-0.040476</td>\n",
       "      <td>65.6</td>\n",
       "      <td>-0.054506</td>\n",
       "      <td>77.9</td>\n",
       "      <td>-0.068755</td>\n",
       "      <td>84.6</td>\n",
       "    </tr>\n",
       "    <tr>\n",
       "      <th>50%</th>\n",
       "      <td>0.008053</td>\n",
       "      <td>-0.001717</td>\n",
       "      <td>63.5</td>\n",
       "      <td>-0.002086</td>\n",
       "      <td>63.7</td>\n",
       "      <td>-0.001632</td>\n",
       "      <td>61.7</td>\n",
       "      <td>-0.002100</td>\n",
       "      <td>61.7</td>\n",
       "      <td>-0.001662</td>\n",
       "      <td>59.9</td>\n",
       "    </tr>\n",
       "    <tr>\n",
       "      <th>60%</th>\n",
       "      <td>0.042440</td>\n",
       "      <td>0.020524</td>\n",
       "      <td>79.3</td>\n",
       "      <td>0.025409</td>\n",
       "      <td>73.4</td>\n",
       "      <td>0.037200</td>\n",
       "      <td>57.5</td>\n",
       "      <td>0.050542</td>\n",
       "      <td>40.2</td>\n",
       "      <td>0.064672</td>\n",
       "      <td>28.5</td>\n",
       "    </tr>\n",
       "    <tr>\n",
       "      <th>70%</th>\n",
       "      <td>0.093222</td>\n",
       "      <td>0.045198</td>\n",
       "      <td>94.3</td>\n",
       "      <td>0.055873</td>\n",
       "      <td>88.7</td>\n",
       "      <td>0.080182</td>\n",
       "      <td>66.2</td>\n",
       "      <td>0.109695</td>\n",
       "      <td>30.8</td>\n",
       "      <td>0.138240</td>\n",
       "      <td>14.1</td>\n",
       "    </tr>\n",
       "    <tr>\n",
       "      <th>80%</th>\n",
       "      <td>0.140291</td>\n",
       "      <td>0.075799</td>\n",
       "      <td>97.3</td>\n",
       "      <td>0.094228</td>\n",
       "      <td>92.1</td>\n",
       "      <td>0.133504</td>\n",
       "      <td>57.9</td>\n",
       "      <td>0.182605</td>\n",
       "      <td>14.4</td>\n",
       "      <td>0.230940</td>\n",
       "      <td>2.8</td>\n",
       "    </tr>\n",
       "    <tr>\n",
       "      <th>90%</th>\n",
       "      <td>0.205200</td>\n",
       "      <td>0.123911</td>\n",
       "      <td>97.4</td>\n",
       "      <td>0.152578</td>\n",
       "      <td>91.5</td>\n",
       "      <td>0.216673</td>\n",
       "      <td>38.9</td>\n",
       "      <td>0.292961</td>\n",
       "      <td>4.7</td>\n",
       "      <td>0.374051</td>\n",
       "      <td>0.0</td>\n",
       "    </tr>\n",
       "    <tr>\n",
       "      <th>5th</th>\n",
       "      <td>0.296094</td>\n",
       "      <td>0.194416</td>\n",
       "      <td>96.5</td>\n",
       "      <td>0.240609</td>\n",
       "      <td>84.6</td>\n",
       "      <td>0.338894</td>\n",
       "      <td>26.5</td>\n",
       "      <td>0.463405</td>\n",
       "      <td>1.2</td>\n",
       "      <td>0.591479</td>\n",
       "      <td>0.0</td>\n",
       "    </tr>\n",
       "    <tr>\n",
       "      <th>4th</th>\n",
       "      <td>0.321823</td>\n",
       "      <td>0.211535</td>\n",
       "      <td>96.5</td>\n",
       "      <td>0.261497</td>\n",
       "      <td>84.1</td>\n",
       "      <td>0.369817</td>\n",
       "      <td>27.8</td>\n",
       "      <td>0.503365</td>\n",
       "      <td>1.0</td>\n",
       "      <td>0.644683</td>\n",
       "      <td>0.0</td>\n",
       "    </tr>\n",
       "    <tr>\n",
       "      <th>3rd</th>\n",
       "      <td>0.392557</td>\n",
       "      <td>0.233923</td>\n",
       "      <td>99.1</td>\n",
       "      <td>0.289842</td>\n",
       "      <td>91.7</td>\n",
       "      <td>0.408935</td>\n",
       "      <td>44.1</td>\n",
       "      <td>0.557621</td>\n",
       "      <td>4.3</td>\n",
       "      <td>0.714676</td>\n",
       "      <td>0.0</td>\n",
       "    </tr>\n",
       "    <tr>\n",
       "      <th>2nd</th>\n",
       "      <td>0.423748</td>\n",
       "      <td>0.267977</td>\n",
       "      <td>97.4</td>\n",
       "      <td>0.333901</td>\n",
       "      <td>87.0</td>\n",
       "      <td>0.470492</td>\n",
       "      <td>35.8</td>\n",
       "      <td>0.638268</td>\n",
       "      <td>3.0</td>\n",
       "      <td>0.815558</td>\n",
       "      <td>0.0</td>\n",
       "    </tr>\n",
       "    <tr>\n",
       "      <th>Best</th>\n",
       "      <td>0.427591</td>\n",
       "      <td>0.343176</td>\n",
       "      <td>81.9</td>\n",
       "      <td>0.425545</td>\n",
       "      <td>57.9</td>\n",
       "      <td>0.603634</td>\n",
       "      <td>12.4</td>\n",
       "      <td>0.816883</td>\n",
       "      <td>1.0</td>\n",
       "      <td>1.032547</td>\n",
       "      <td>0.0</td>\n",
       "    </tr>\n",
       "  </tbody>\n",
       "</table>\n",
       "</div>"
      ],
      "text/plain": [
       "         Actual  Sim Avg (0.00)  %<Act (0.00)  Sim Avg (0.25)  %<Act (0.25)  \\\n",
       "Worst -0.229878       -0.351381          89.7       -0.430168          99.0   \n",
       "2nd   -0.222565       -0.275564          73.7       -0.337513          95.5   \n",
       "3rd   -0.219048       -0.240082          60.2       -0.295178          88.8   \n",
       "4th   -0.190659       -0.217293          67.0       -0.266688          92.2   \n",
       "5th   -0.188634       -0.200034          57.1       -0.245667          86.1   \n",
       "10%   -0.138338       -0.127884          36.1       -0.156624          67.5   \n",
       "20%   -0.089291       -0.080046          36.7       -0.097123          58.3   \n",
       "30%   -0.058700       -0.049376          36.9       -0.059279          48.9   \n",
       "40%   -0.028486       -0.024250          43.8       -0.029067          49.3   \n",
       "50%    0.008053       -0.001717          63.5       -0.002086          63.7   \n",
       "60%    0.042440        0.020524          79.3        0.025409          73.4   \n",
       "70%    0.093222        0.045198          94.3        0.055873          88.7   \n",
       "80%    0.140291        0.075799          97.3        0.094228          92.1   \n",
       "90%    0.205200        0.123911          97.4        0.152578          91.5   \n",
       "5th    0.296094        0.194416          96.5        0.240609          84.6   \n",
       "4th    0.321823        0.211535          96.5        0.261497          84.1   \n",
       "3rd    0.392557        0.233923          99.1        0.289842          91.7   \n",
       "2nd    0.423748        0.267977          97.4        0.333901          87.0   \n",
       "Best   0.427591        0.343176          81.9        0.425545          57.9   \n",
       "\n",
       "       Sim Avg (0.50)  %<Act (0.50)  Sim Avg (0.75)  %<Act (0.75)  \\\n",
       "Worst       -0.611262          99.9       -0.828656         100.0   \n",
       "2nd         -0.475979          99.9       -0.640906         100.0   \n",
       "3rd         -0.416882          99.8       -0.560457         100.0   \n",
       "4th         -0.375967          99.9       -0.508498         100.0   \n",
       "5th         -0.345483          99.7       -0.468934         100.0   \n",
       "10%         -0.220720          98.0       -0.299076          99.9   \n",
       "20%         -0.137509          92.1       -0.185204          98.6   \n",
       "30%         -0.084097          78.3       -0.112233          92.6   \n",
       "40%         -0.040476          65.6       -0.054506          77.9   \n",
       "50%         -0.001632          61.7       -0.002100          61.7   \n",
       "60%          0.037200          57.5        0.050542          40.2   \n",
       "70%          0.080182          66.2        0.109695          30.8   \n",
       "80%          0.133504          57.9        0.182605          14.4   \n",
       "90%          0.216673          38.9        0.292961           4.7   \n",
       "5th          0.338894          26.5        0.463405           1.2   \n",
       "4th          0.369817          27.8        0.503365           1.0   \n",
       "3rd          0.408935          44.1        0.557621           4.3   \n",
       "2nd          0.470492          35.8        0.638268           3.0   \n",
       "Best         0.603634          12.4        0.816883           1.0   \n",
       "\n",
       "       Sim Avg (1.00)  %<Act (1.00)  \n",
       "Worst       -1.045590         100.0  \n",
       "2nd         -0.829173         100.0  \n",
       "3rd         -0.720930         100.0  \n",
       "4th         -0.650546         100.0  \n",
       "5th         -0.598225         100.0  \n",
       "10%         -0.382783         100.0  \n",
       "20%         -0.237416         100.0  \n",
       "30%         -0.143722          98.0  \n",
       "40%         -0.068755          84.6  \n",
       "50%         -0.001662          59.9  \n",
       "60%          0.064672          28.5  \n",
       "70%          0.138240          14.1  \n",
       "80%          0.230940           2.8  \n",
       "90%          0.374051           0.0  \n",
       "5th          0.591479           0.0  \n",
       "4th          0.644683           0.0  \n",
       "3rd          0.714676           0.0  \n",
       "2nd          0.815558           0.0  \n",
       "Best         1.032547           0.0  "
      ]
     },
     "execution_count": 118,
     "metadata": {},
     "output_type": "execute_result"
    }
   ],
   "source": [
    "data_a.iloc[:,0:11]"
   ]
  },
  {
   "cell_type": "code",
   "execution_count": 117,
   "metadata": {},
   "outputs": [
    {
     "data": {
      "text/html": [
       "<div>\n",
       "<style scoped>\n",
       "    .dataframe tbody tr th:only-of-type {\n",
       "        vertical-align: middle;\n",
       "    }\n",
       "\n",
       "    .dataframe tbody tr th {\n",
       "        vertical-align: top;\n",
       "    }\n",
       "\n",
       "    .dataframe thead th {\n",
       "        text-align: right;\n",
       "    }\n",
       "</style>\n",
       "<table border=\"1\" class=\"dataframe\">\n",
       "  <thead>\n",
       "    <tr style=\"text-align: right;\">\n",
       "      <th></th>\n",
       "      <th>Actual</th>\n",
       "      <th>Sim Avg (0.00)</th>\n",
       "      <th>%&lt;Act (0.00)</th>\n",
       "      <th>Sim Avg (0.25)</th>\n",
       "      <th>%&lt;Act (0.25)</th>\n",
       "      <th>Sim Avg (0.50)</th>\n",
       "      <th>%&lt;Act (0.50)</th>\n",
       "      <th>Sim Avg (0.75)</th>\n",
       "      <th>%&lt;Act (0.75)</th>\n",
       "      <th>Sim Avg (1.00)</th>\n",
       "      <th>%&lt;Act (1.00)</th>\n",
       "    </tr>\n",
       "  </thead>\n",
       "  <tbody>\n",
       "    <tr>\n",
       "      <th>Worst</th>\n",
       "      <td>-3.787495</td>\n",
       "      <td>-2.711190</td>\n",
       "      <td>6.7</td>\n",
       "      <td>-3.394377</td>\n",
       "      <td>27.2</td>\n",
       "      <td>-4.822660</td>\n",
       "      <td>87.1</td>\n",
       "      <td>-6.491033</td>\n",
       "      <td>100.0</td>\n",
       "      <td>-8.312802</td>\n",
       "      <td>100.0</td>\n",
       "    </tr>\n",
       "    <tr>\n",
       "      <th>2nd</th>\n",
       "      <td>-3.702615</td>\n",
       "      <td>-2.335346</td>\n",
       "      <td>1.6</td>\n",
       "      <td>-2.883419</td>\n",
       "      <td>9.2</td>\n",
       "      <td>-4.075458</td>\n",
       "      <td>68.4</td>\n",
       "      <td>-5.533909</td>\n",
       "      <td>99.6</td>\n",
       "      <td>-7.083677</td>\n",
       "      <td>100.0</td>\n",
       "    </tr>\n",
       "    <tr>\n",
       "      <th>3rd</th>\n",
       "      <td>-2.998788</td>\n",
       "      <td>-2.126821</td>\n",
       "      <td>5.5</td>\n",
       "      <td>-2.613041</td>\n",
       "      <td>22.2</td>\n",
       "      <td>-3.696745</td>\n",
       "      <td>88.3</td>\n",
       "      <td>-5.031780</td>\n",
       "      <td>100.0</td>\n",
       "      <td>-6.419760</td>\n",
       "      <td>100.0</td>\n",
       "    </tr>\n",
       "    <tr>\n",
       "      <th>4th</th>\n",
       "      <td>-2.432716</td>\n",
       "      <td>-1.981262</td>\n",
       "      <td>15.6</td>\n",
       "      <td>-2.429271</td>\n",
       "      <td>45.6</td>\n",
       "      <td>-3.428987</td>\n",
       "      <td>96.7</td>\n",
       "      <td>-4.667112</td>\n",
       "      <td>100.0</td>\n",
       "      <td>-5.936049</td>\n",
       "      <td>100.0</td>\n",
       "    </tr>\n",
       "    <tr>\n",
       "      <th>5th</th>\n",
       "      <td>-2.070504</td>\n",
       "      <td>-1.864746</td>\n",
       "      <td>30.3</td>\n",
       "      <td>-2.280768</td>\n",
       "      <td>66.2</td>\n",
       "      <td>-3.230702</td>\n",
       "      <td>98.9</td>\n",
       "      <td>-4.381798</td>\n",
       "      <td>100.0</td>\n",
       "      <td>-5.584068</td>\n",
       "      <td>100.0</td>\n",
       "    </tr>\n",
       "    <tr>\n",
       "      <th>10%</th>\n",
       "      <td>-1.634098</td>\n",
       "      <td>-1.303296</td>\n",
       "      <td>18.2</td>\n",
       "      <td>-1.588539</td>\n",
       "      <td>41.9</td>\n",
       "      <td>-2.260801</td>\n",
       "      <td>93.6</td>\n",
       "      <td>-3.056295</td>\n",
       "      <td>99.9</td>\n",
       "      <td>-3.881512</td>\n",
       "      <td>100.0</td>\n",
       "    </tr>\n",
       "    <tr>\n",
       "      <th>20%</th>\n",
       "      <td>-1.227415</td>\n",
       "      <td>-0.861290</td>\n",
       "      <td>15.4</td>\n",
       "      <td>-1.050372</td>\n",
       "      <td>28.7</td>\n",
       "      <td>-1.482026</td>\n",
       "      <td>74.2</td>\n",
       "      <td>-1.994330</td>\n",
       "      <td>96.1</td>\n",
       "      <td>-2.555124</td>\n",
       "      <td>99.9</td>\n",
       "    </tr>\n",
       "    <tr>\n",
       "      <th>30%</th>\n",
       "      <td>-0.609360</td>\n",
       "      <td>-0.549581</td>\n",
       "      <td>41.3</td>\n",
       "      <td>-0.660080</td>\n",
       "      <td>54.6</td>\n",
       "      <td>-0.931418</td>\n",
       "      <td>81.7</td>\n",
       "      <td>-1.247365</td>\n",
       "      <td>93.8</td>\n",
       "      <td>-1.596778</td>\n",
       "      <td>98.2</td>\n",
       "    </tr>\n",
       "    <tr>\n",
       "      <th>40%</th>\n",
       "      <td>-0.300439</td>\n",
       "      <td>-0.276018</td>\n",
       "      <td>46.0</td>\n",
       "      <td>-0.331992</td>\n",
       "      <td>53.3</td>\n",
       "      <td>-0.458540</td>\n",
       "      <td>67.4</td>\n",
       "      <td>-0.614768</td>\n",
       "      <td>78.5</td>\n",
       "      <td>-0.780941</td>\n",
       "      <td>85.4</td>\n",
       "    </tr>\n",
       "    <tr>\n",
       "      <th>50%</th>\n",
       "      <td>0.053437</td>\n",
       "      <td>-0.021714</td>\n",
       "      <td>58.5</td>\n",
       "      <td>-0.022050</td>\n",
       "      <td>59.7</td>\n",
       "      <td>-0.018713</td>\n",
       "      <td>56.8</td>\n",
       "      <td>-0.022062</td>\n",
       "      <td>58.4</td>\n",
       "      <td>-0.021329</td>\n",
       "      <td>56.2</td>\n",
       "    </tr>\n",
       "    <tr>\n",
       "      <th>60%</th>\n",
       "      <td>0.398654</td>\n",
       "      <td>0.230763</td>\n",
       "      <td>70.9</td>\n",
       "      <td>0.285145</td>\n",
       "      <td>65.3</td>\n",
       "      <td>0.415734</td>\n",
       "      <td>49.1</td>\n",
       "      <td>0.562614</td>\n",
       "      <td>33.3</td>\n",
       "      <td>0.729495</td>\n",
       "      <td>22.8</td>\n",
       "    </tr>\n",
       "    <tr>\n",
       "      <th>70%</th>\n",
       "      <td>0.784608</td>\n",
       "      <td>0.497568</td>\n",
       "      <td>81.0</td>\n",
       "      <td>0.618820</td>\n",
       "      <td>70.1</td>\n",
       "      <td>0.884703</td>\n",
       "      <td>39.4</td>\n",
       "      <td>1.202687</td>\n",
       "      <td>14.1</td>\n",
       "      <td>1.529071</td>\n",
       "      <td>5.1</td>\n",
       "    </tr>\n",
       "    <tr>\n",
       "      <th>80%</th>\n",
       "      <td>1.261662</td>\n",
       "      <td>0.811801</td>\n",
       "      <td>90.3</td>\n",
       "      <td>1.003643</td>\n",
       "      <td>77.5</td>\n",
       "      <td>1.426570</td>\n",
       "      <td>31.8</td>\n",
       "      <td>1.957212</td>\n",
       "      <td>5.2</td>\n",
       "      <td>2.469591</td>\n",
       "      <td>0.8</td>\n",
       "    </tr>\n",
       "    <tr>\n",
       "      <th>90%</th>\n",
       "      <td>1.754968</td>\n",
       "      <td>1.239019</td>\n",
       "      <td>92.1</td>\n",
       "      <td>1.530107</td>\n",
       "      <td>72.9</td>\n",
       "      <td>2.179439</td>\n",
       "      <td>13.7</td>\n",
       "      <td>2.979299</td>\n",
       "      <td>0.6</td>\n",
       "      <td>3.804769</td>\n",
       "      <td>0.0</td>\n",
       "    </tr>\n",
       "    <tr>\n",
       "      <th>5th</th>\n",
       "      <td>2.417043</td>\n",
       "      <td>1.759507</td>\n",
       "      <td>93.8</td>\n",
       "      <td>2.198513</td>\n",
       "      <td>70.5</td>\n",
       "      <td>3.136750</td>\n",
       "      <td>6.8</td>\n",
       "      <td>4.281878</td>\n",
       "      <td>0.1</td>\n",
       "      <td>5.476937</td>\n",
       "      <td>0.0</td>\n",
       "    </tr>\n",
       "    <tr>\n",
       "      <th>4th</th>\n",
       "      <td>2.596955</td>\n",
       "      <td>1.875304</td>\n",
       "      <td>93.9</td>\n",
       "      <td>2.343242</td>\n",
       "      <td>72.4</td>\n",
       "      <td>3.349827</td>\n",
       "      <td>7.6</td>\n",
       "      <td>4.561179</td>\n",
       "      <td>0.1</td>\n",
       "      <td>5.835096</td>\n",
       "      <td>0.0</td>\n",
       "    </tr>\n",
       "    <tr>\n",
       "      <th>3rd</th>\n",
       "      <td>2.634869</td>\n",
       "      <td>2.018550</td>\n",
       "      <td>90.3</td>\n",
       "      <td>2.527638</td>\n",
       "      <td>60.2</td>\n",
       "      <td>3.602141</td>\n",
       "      <td>4.0</td>\n",
       "      <td>4.910419</td>\n",
       "      <td>0.0</td>\n",
       "      <td>6.302834</td>\n",
       "      <td>0.0</td>\n",
       "    </tr>\n",
       "    <tr>\n",
       "      <th>2nd</th>\n",
       "      <td>3.149317</td>\n",
       "      <td>2.215542</td>\n",
       "      <td>96.3</td>\n",
       "      <td>2.782640</td>\n",
       "      <td>76.2</td>\n",
       "      <td>3.978626</td>\n",
       "      <td>8.6</td>\n",
       "      <td>5.412625</td>\n",
       "      <td>0.1</td>\n",
       "      <td>6.934695</td>\n",
       "      <td>0.0</td>\n",
       "    </tr>\n",
       "    <tr>\n",
       "      <th>Best</th>\n",
       "      <td>3.407998</td>\n",
       "      <td>2.576376</td>\n",
       "      <td>91.6</td>\n",
       "      <td>3.252000</td>\n",
       "      <td>63.8</td>\n",
       "      <td>4.641173</td>\n",
       "      <td>5.8</td>\n",
       "      <td>6.312408</td>\n",
       "      <td>0.0</td>\n",
       "      <td>8.141316</td>\n",
       "      <td>0.0</td>\n",
       "    </tr>\n",
       "  </tbody>\n",
       "</table>\n",
       "</div>"
      ],
      "text/plain": [
       "         Actual  Sim Avg (0.00)  %<Act (0.00)  Sim Avg (0.25)  %<Act (0.25)  \\\n",
       "Worst -3.787495       -2.711190           6.7       -3.394377          27.2   \n",
       "2nd   -3.702615       -2.335346           1.6       -2.883419           9.2   \n",
       "3rd   -2.998788       -2.126821           5.5       -2.613041          22.2   \n",
       "4th   -2.432716       -1.981262          15.6       -2.429271          45.6   \n",
       "5th   -2.070504       -1.864746          30.3       -2.280768          66.2   \n",
       "10%   -1.634098       -1.303296          18.2       -1.588539          41.9   \n",
       "20%   -1.227415       -0.861290          15.4       -1.050372          28.7   \n",
       "30%   -0.609360       -0.549581          41.3       -0.660080          54.6   \n",
       "40%   -0.300439       -0.276018          46.0       -0.331992          53.3   \n",
       "50%    0.053437       -0.021714          58.5       -0.022050          59.7   \n",
       "60%    0.398654        0.230763          70.9        0.285145          65.3   \n",
       "70%    0.784608        0.497568          81.0        0.618820          70.1   \n",
       "80%    1.261662        0.811801          90.3        1.003643          77.5   \n",
       "90%    1.754968        1.239019          92.1        1.530107          72.9   \n",
       "5th    2.417043        1.759507          93.8        2.198513          70.5   \n",
       "4th    2.596955        1.875304          93.9        2.343242          72.4   \n",
       "3rd    2.634869        2.018550          90.3        2.527638          60.2   \n",
       "2nd    3.149317        2.215542          96.3        2.782640          76.2   \n",
       "Best   3.407998        2.576376          91.6        3.252000          63.8   \n",
       "\n",
       "       Sim Avg (0.50)  %<Act (0.50)  Sim Avg (0.75)  %<Act (0.75)  \\\n",
       "Worst       -4.822660          87.1       -6.491033         100.0   \n",
       "2nd         -4.075458          68.4       -5.533909          99.6   \n",
       "3rd         -3.696745          88.3       -5.031780         100.0   \n",
       "4th         -3.428987          96.7       -4.667112         100.0   \n",
       "5th         -3.230702          98.9       -4.381798         100.0   \n",
       "10%         -2.260801          93.6       -3.056295          99.9   \n",
       "20%         -1.482026          74.2       -1.994330          96.1   \n",
       "30%         -0.931418          81.7       -1.247365          93.8   \n",
       "40%         -0.458540          67.4       -0.614768          78.5   \n",
       "50%         -0.018713          56.8       -0.022062          58.4   \n",
       "60%          0.415734          49.1        0.562614          33.3   \n",
       "70%          0.884703          39.4        1.202687          14.1   \n",
       "80%          1.426570          31.8        1.957212           5.2   \n",
       "90%          2.179439          13.7        2.979299           0.6   \n",
       "5th          3.136750           6.8        4.281878           0.1   \n",
       "4th          3.349827           7.6        4.561179           0.1   \n",
       "3rd          3.602141           4.0        4.910419           0.0   \n",
       "2nd          3.978626           8.6        5.412625           0.1   \n",
       "Best         4.641173           5.8        6.312408           0.0   \n",
       "\n",
       "       Sim Avg (1.00)  %<Act (1.00)  \n",
       "Worst       -8.312802         100.0  \n",
       "2nd         -7.083677         100.0  \n",
       "3rd         -6.419760         100.0  \n",
       "4th         -5.936049         100.0  \n",
       "5th         -5.584068         100.0  \n",
       "10%         -3.881512         100.0  \n",
       "20%         -2.555124          99.9  \n",
       "30%         -1.596778          98.2  \n",
       "40%         -0.780941          85.4  \n",
       "50%         -0.021329          56.2  \n",
       "60%          0.729495          22.8  \n",
       "70%          1.529071           5.1  \n",
       "80%          2.469591           0.8  \n",
       "90%          3.804769           0.0  \n",
       "5th          5.476937           0.0  \n",
       "4th          5.835096           0.0  \n",
       "3rd          6.302834           0.0  \n",
       "2nd          6.934695           0.0  \n",
       "Best         8.141316           0.0  "
      ]
     },
     "execution_count": 117,
     "metadata": {},
     "output_type": "execute_result"
    }
   ],
   "source": [
    "data_t.iloc[:,0:11]"
   ]
  },
  {
   "cell_type": "code",
   "execution_count": null,
   "metadata": {},
   "outputs": [],
   "source": []
  }
 ],
 "metadata": {
  "colab": {
   "collapsed_sections": [],
   "name": "LuckSkillGlobal2.ipynb",
   "provenance": [],
   "version": "0.3.2"
  },
  "kernelspec": {
   "display_name": "Python 3",
   "language": "python",
   "name": "python3"
  },
  "language_info": {
   "codemirror_mode": {
    "name": "ipython",
    "version": 3
   },
   "file_extension": ".py",
   "mimetype": "text/x-python",
   "name": "python",
   "nbconvert_exporter": "python",
   "pygments_lexer": "ipython3",
   "version": "3.7.1"
  }
 },
 "nbformat": 4,
 "nbformat_minor": 1
}
