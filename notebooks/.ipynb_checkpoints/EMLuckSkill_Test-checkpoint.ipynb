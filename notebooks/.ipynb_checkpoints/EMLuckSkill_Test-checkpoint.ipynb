{
 "cells": [
  {
   "cell_type": "markdown",
   "metadata": {},
   "source": [
    "## Luck vs. Skill (Emerging Markets Edition)\n",
    "\n",
    "Goal of this notebook is to test out the tools I made in the python file `luck_v_skill.py`, as well as try out some new data."
   ]
  },
  {
   "cell_type": "code",
   "execution_count": 6,
   "metadata": {},
   "outputs": [],
   "source": [
    "import sys\n",
    "sys.path.insert(0, '/Users/danielsalas/Projects/Fama-French-Funds/src')\n",
    "\n",
    "from luck_v_skill import *\n",
    "%load_ext autoreload\n",
    "%autoreload 2"
   ]
  },
  {
   "cell_type": "code",
   "execution_count": 7,
   "metadata": {},
   "outputs": [
    {
     "data": {
      "text/plain": [
       "((214, 812), (214, 9))"
      ]
     },
     "execution_count": 7,
     "metadata": {},
     "output_type": "execute_result"
    }
   ],
   "source": [
    "# Load data from local files\n",
    "funds = pd.read_csv('../data/EM Funds.csv',parse_dates=['Dates'],index_col='Dates')\n",
    "factors = pd.read_csv('../data/EM Factors.csv',parse_dates=['Dates'],index_col='Dates')\n",
    "\n",
    "funds.shape, factors.shape"
   ]
  },
  {
   "cell_type": "code",
   "execution_count": 57,
   "metadata": {
    "scrolled": true
   },
   "outputs": [
    {
     "name": "stdout",
     "output_type": "stream",
     "text": [
      "Annual standard deviation: 0.00, Standard deviation alpha: 0.00\n",
      "Starting 206,000 regressions...\n",
      "Simulations complete in 320.03 seconds!\n",
      "Annual standard deviation: 0.25, Standard deviation alpha: 0.07\n",
      "Starting 206,000 regressions...\n",
      "Simulations complete in 327.41 seconds!\n",
      "Annual standard deviation: 0.50, Standard deviation alpha: 0.14\n",
      "Starting 206,000 regressions...\n",
      "Simulations complete in 314.98 seconds!\n",
      "Annual standard deviation: 0.75, Standard deviation alpha: 0.22\n",
      "Starting 206,000 regressions...\n",
      "Simulations complete in 304.25 seconds!\n",
      "Annual standard deviation: 1.00, Standard deviation alpha: 0.29\n",
      "Starting 206,000 regressions...\n",
      "Simulations complete in 308.59 seconds!\n",
      "Annual standard deviation: 1.25, Standard deviation alpha: 0.36\n",
      "Starting 206,000 regressions...\n",
      "Simulations complete in 304.44 seconds!\n",
      "Annual standard deviation: 1.50, Standard deviation alpha: 0.43\n",
      "Starting 206,000 regressions...\n",
      "Simulations complete in 1425.19 seconds!\n",
      "Annual standard deviation: 1.75, Standard deviation alpha: 0.51\n",
      "Starting 206,000 regressions...\n",
      "Simulations complete in 304.02 seconds!\n",
      "Annual standard deviation: 2.00, Standard deviation alpha: 0.58\n",
      "Starting 206,000 regressions...\n",
      "Simulations complete in 2806.33 seconds!\n",
      "Annual standard deviation: 2.25, Standard deviation alpha: 0.65\n",
      "Starting 206,000 regressions...\n",
      "Simulations complete in 19004.16 seconds!\n",
      "Annual standard deviation: 2.50, Standard deviation alpha: 0.72\n",
      "Starting 206,000 regressions...\n",
      "Simulations complete in 329.97 seconds!\n",
      "Annual standard deviation: 2.75, Standard deviation alpha: 0.79\n",
      "Starting 206,000 regressions...\n",
      "Simulations complete in 303.20 seconds!\n",
      "Annual standard deviation: 3.00, Standard deviation alpha: 0.87\n",
      "Starting 206,000 regressions...\n",
      "Simulations complete in 300.59 seconds!\n",
      "Annual standard deviation: 3.25, Standard deviation alpha: 0.94\n",
      "Starting 206,000 regressions...\n",
      "Simulations complete in 304.73 seconds!\n",
      "Annual standard deviation: 3.50, Standard deviation alpha: 1.01\n",
      "Starting 206,000 regressions...\n",
      "Simulations complete in 303.63 seconds!\n"
     ]
    }
   ],
   "source": [
    "# Start counting how long this program takes\n",
    "start_time = time.time()\n",
    "\n",
    "# initialize instance of the AlphaEvaluator with fund and factor data\n",
    "AEV = AlphaEvaluator(fund_data=funds,factor_data=factors)\n",
    "\n",
    "# Leave all the factors in for now.\n",
    "# factors = ['EMRF','HML','SMB','RF']\n",
    "AEV.fit(min_obs=120)\n",
    "AEV.simulate(n_simulations=1000,random_seed=2,sim_std=0,sim_cutoff=15,verbose=True)\n",
    "AEV.get_percentiles()\n",
    "data_a, data_t = AEV.data_a.copy(), AEV.data_t.copy()\n",
    "\n",
    "# Rename data columns\n",
    "data_a.columns = ['Actual','Sim Avg (0.00)', '%<Act (0.00)']\n",
    "data_t.columns = ['Actual','Sim Avg (0.00)', '%<Act (0.00)']\n",
    "\n",
    "for stdev in np.arange(1,15)/4:\n",
    "    # Rerun simulation with new standard deviation injection for alpha\n",
    "    AEV.simulate(n_simulations=1000,random_seed=2,sim_std=stdev,sim_cutoff=15,verbose=True)\n",
    "    \n",
    "    # Update Percentile Data\n",
    "    AEV.get_percentiles()\n",
    "    \n",
    "    # Alphas\n",
    "    data_a['Sim Avg ({:.2f})'.format(stdev)] = AEV.data_a['Sim Avg']\n",
    "    data_a['%<Act ({:.2f})'.format(stdev)] = AEV.data_a['%<Act']\n",
    "    \n",
    "    # t-statistics for Alpha\n",
    "    data_t['Sim Avg ({:.2f})'.format(stdev)] = AEV.data_t['Sim Avg']\n",
    "    data_t['%<Act ({:.2f})'.format(stdev)] = AEV.data_t['%<Act']\n",
    "    \n",
    "data_a.to_csv('../EM-luck-vs-skill-alphas.csv')\n",
    "data_t.to_csv('../EM-luck-vs-skill-tstats.csv')"
   ]
  },
  {
   "cell_type": "code",
   "execution_count": 58,
   "metadata": {},
   "outputs": [
    {
     "name": "stdout",
     "output_type": "stream",
     "text": [
      "450 minutes and 7.05 seconds elapsed for this program\n"
     ]
    }
   ],
   "source": [
    "t_diff = time.time()-start_time\n",
    "minutes = int(np.floor(t_diff/60))\n",
    "seconds = t_diff - 60*minutes\n",
    "print(\"{} minutes and {:.2f} seconds elapsed for this program\".format(minutes,seconds))"
   ]
  },
  {
   "cell_type": "markdown",
   "metadata": {},
   "source": [
    "In the above cells, I left my computer and it went to sleep, which paused the machine. Should only take about 65 to 75 minutes total to run. "
   ]
  },
  {
   "cell_type": "code",
   "execution_count": null,
   "metadata": {},
   "outputs": [],
   "source": []
  }
 ],
 "metadata": {
  "kernelspec": {
   "display_name": "Python 3",
   "language": "python",
   "name": "python3"
  },
  "language_info": {
   "codemirror_mode": {
    "name": "ipython",
    "version": 3
   },
   "file_extension": ".py",
   "mimetype": "text/x-python",
   "name": "python",
   "nbconvert_exporter": "python",
   "pygments_lexer": "ipython3",
   "version": "3.7.1"
  }
 },
 "nbformat": 4,
 "nbformat_minor": 2
}
