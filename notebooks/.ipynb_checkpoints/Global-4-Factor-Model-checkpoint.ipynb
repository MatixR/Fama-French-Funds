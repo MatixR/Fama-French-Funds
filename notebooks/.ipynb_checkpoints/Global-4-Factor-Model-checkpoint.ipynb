{
 "cells": [
  {
   "cell_type": "markdown",
   "metadata": {},
   "source": [
    "Repeat global fund analysis but consider momentum as an additional factor"
   ]
  },
  {
   "cell_type": "code",
   "execution_count": 28,
   "metadata": {},
   "outputs": [
    {
     "name": "stdout",
     "output_type": "stream",
     "text": [
      "The autoreload extension is already loaded. To reload it, use:\n",
      "  %reload_ext autoreload\n"
     ]
    }
   ],
   "source": [
    "import sys\n",
    "sys.path.insert(0, '../src')\n",
    "\n",
    "from luck_v_skill import AlphaEvaluator\n",
    "from AlphaEvaluator_MP import *\n",
    "%load_ext autoreload\n",
    "%autoreload 2"
   ]
  },
  {
   "cell_type": "code",
   "execution_count": 26,
   "metadata": {},
   "outputs": [],
   "source": [
    "funds = pd.read_csv('../data/global_funds.csv',parse_dates=['Dates'],index_col='Dates')\n",
    "factors = pd.read_csv('../data/global_4factors.csv',parse_dates=['Dates'],index_col='Dates')"
   ]
  },
  {
   "cell_type": "markdown",
   "metadata": {},
   "source": [
    "Compare one round of global alpha calculations from `luck_v_skill.py` module to `AlphaEvaluator_MP.py` module."
   ]
  },
  {
   "cell_type": "code",
   "execution_count": 49,
   "metadata": {},
   "outputs": [],
   "source": [
    "# parameters\n",
    "n_sim = 200\n",
    "sim_cutoff = 15\n",
    "min_obs = 120\n",
    "prct_rng = np.arange(1,10)/10\n",
    "random_seed = 2\n",
    "verbose = True\n",
    "top_n = 5"
   ]
  },
  {
   "cell_type": "code",
   "execution_count": 50,
   "metadata": {},
   "outputs": [
    {
     "name": "stdout",
     "output_type": "stream",
     "text": [
      "Annual standard deviation: 0.00, Monthly standard deviation alpha: 0.00\n",
      "Starting 25,000 regressions...\n",
      "Simulations complete in 13.29 seconds!\n",
      "----------------------------------------------\n",
      "Total time for 200 simulations: 13.607 seconds\n",
      "----------------------------------------------\n"
     ]
    }
   ],
   "source": [
    "# luck_v_skill\n",
    "start_time = time.time()\n",
    "AEV = AlphaEvaluator(fund_data = funds, factor_data = factors)\n",
    "AEV.fit(min_obs=120,verbose=verbose)\n",
    "AEV.simulate(n_simulations=n_sim,sim_cutoff=sim_cutoff,\n",
    "             random_seed=random_seed,verbose=verbose,sim_std=0)\n",
    "AEV.get_percentiles(top_n=top_n,pct_range=prct_rng)\n",
    "data_a,data_t = AEV.data_a, AEV.data_t\n",
    "title_print(\"Total time for {} simulations: {:.3f} seconds\".format(n_sim,time.time()-start_time))"
   ]
  },
  {
   "cell_type": "code",
   "execution_count": 51,
   "metadata": {},
   "outputs": [
    {
     "name": "stdout",
     "output_type": "stream",
     "text": [
      "Total time elapsed 132.72 ms\n",
      "Annual standard deviation: 0.00, Monthly standard deviation alpha: 0.00\n",
      "Starting 25,000 regressions...\n",
      "Simulations complete in 9.692 seconds!\n",
      "Calculating percentiles of simulations... Populating data tables... Done!\n",
      "---------------------------------------------\n",
      "Total time for 200 simulations: 9.887 seconds\n",
      "---------------------------------------------\n"
     ]
    }
   ],
   "source": [
    "# AlphaEvaluator MP\n",
    "start_time = time.time()\n",
    "B,BSE,Y,X,txs = orig_stats(funds=funds,factors=factors)\n",
    "ALPH,A_SE = simulate_MP(n_sim=n_sim,Y=Y,X=X,betas=B,betas_se=BSE,\n",
    "                                random_seed=random_seed,verbose=verbose,\n",
    "                                sim_std=0,sim_cutoff=sim_cutoff)\n",
    "data_a,data_t,prct_sim_a,prct_sim_t = \\\n",
    "            get_percentiles(verbose=verbose,betas=B,betas_se=BSE,\n",
    "                            alphas_sim=ALPH,alphas_se_sim=A_SE,\n",
    "                            prct_range=prct_rng,top_n=top_n,tickers=txs)\n",
    "title_print(\"Total time for {} simulations: {:.3f} seconds\".format(n_sim,time.time()-start_time))"
   ]
  },
  {
   "cell_type": "code",
   "execution_count": null,
   "metadata": {},
   "outputs": [],
   "source": []
  }
 ],
 "metadata": {
  "kernelspec": {
   "display_name": "Python 3",
   "language": "python",
   "name": "python3"
  },
  "language_info": {
   "codemirror_mode": {
    "name": "ipython",
    "version": 3
   },
   "file_extension": ".py",
   "mimetype": "text/x-python",
   "name": "python",
   "nbconvert_exporter": "python",
   "pygments_lexer": "ipython3",
   "version": "3.7.1"
  }
 },
 "nbformat": 4,
 "nbformat_minor": 2
}
