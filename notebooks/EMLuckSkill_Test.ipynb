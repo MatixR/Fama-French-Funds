{
 "cells": [
  {
   "cell_type": "markdown",
   "metadata": {},
   "source": [
    "## Luck vs. Skill (Emerging Markets Edition)\n",
    "\n",
    "Goal of this notebook is to test out the tools I made in the python file `luck_v_skill.py`, as well as try out some new data."
   ]
  },
  {
   "cell_type": "code",
   "execution_count": 1,
   "metadata": {},
   "outputs": [],
   "source": [
    "import sys\n",
    "sys.path.insert(0, '../src')\n",
    "\n",
    "from luck_v_skill import *\n",
    "%load_ext autoreload\n",
    "%autoreload 2"
   ]
  },
  {
   "cell_type": "code",
   "execution_count": 2,
   "metadata": {},
   "outputs": [],
   "source": [
    "# let's me save a jupyter notebook from a code cell\n",
    "from IPython.display import Javascript\n",
    "\n",
    "script = '''\n",
    "require([\"base/js/namespace\"],function(Jupyter) {\n",
    "    Jupyter.notebook.save_checkpoint();\n",
    "});\n",
    "'''\n",
    "\n",
    "def notebook_save():\n",
    "    Javascript(script)\n",
    "    print('This notebook has been saved')"
   ]
  },
  {
   "cell_type": "code",
   "execution_count": 3,
   "metadata": {},
   "outputs": [
    {
     "data": {
      "text/plain": [
       "((214, 812), (214, 9))"
      ]
     },
     "execution_count": 3,
     "metadata": {},
     "output_type": "execute_result"
    }
   ],
   "source": [
    "# Load data from local files\n",
    "funds = pd.read_csv('../data/EM Funds.csv',parse_dates=['Dates'],index_col='Dates')\n",
    "factors = pd.read_csv('../data/EM Factors.csv',parse_dates=['Dates'],index_col='Dates')\n",
    "\n",
    "funds.shape, factors.shape"
   ]
  },
  {
   "cell_type": "code",
   "execution_count": 4,
   "metadata": {},
   "outputs": [],
   "source": [
    "# select columns of interest\n",
    "# CAREFUL picking factors...multicollinearity is not fun\n",
    "factor_cols = ['EMRF','HML','SMB','RF'] \n",
    "factors = factors[factor_cols]"
   ]
  },
  {
   "cell_type": "code",
   "execution_count": 5,
   "metadata": {
    "scrolled": false
   },
   "outputs": [
    {
     "name": "stdout",
     "output_type": "stream",
     "text": [
      "--------------------------\n",
      "Standard Deviation 1 of 21\n",
      "--------------------------\n",
      "Annual standard deviation: 0.00, Standard deviation alpha: 0.00\n",
      "Starting 206,000 regressions...\n",
      "Simulations complete in 83.10 seconds!\n",
      "Calculating percentiles of simulations... Populating data tables... Done!\n",
      "--------------------------\n",
      "Standard Deviation 2 of 21\n",
      "--------------------------\n",
      "Annual standard deviation: 0.05, Standard deviation alpha: 0.01\n",
      "Starting 206,000 regressions...\n",
      "Simulations complete in 82.32 seconds!\n",
      "Calculating percentiles of simulations... Populating data tables... Done!\n",
      "--------------------------\n",
      "Standard Deviation 3 of 21\n",
      "--------------------------\n",
      "Annual standard deviation: 0.10, Standard deviation alpha: 0.03\n",
      "Starting 206,000 regressions...\n",
      "Simulations complete in 88.11 seconds!\n",
      "Calculating percentiles of simulations... Populating data tables... Done!\n",
      "--------------------------\n",
      "Standard Deviation 4 of 21\n",
      "--------------------------\n",
      "Annual standard deviation: 0.15, Standard deviation alpha: 0.04\n",
      "Starting 206,000 regressions...\n",
      "Simulations complete in 81.48 seconds!\n",
      "Calculating percentiles of simulations... Populating data tables... Done!\n",
      "--------------------------\n",
      "Standard Deviation 5 of 21\n",
      "--------------------------\n",
      "Annual standard deviation: 0.20, Standard deviation alpha: 0.06\n",
      "Starting 206,000 regressions...\n",
      "Simulations complete in 84.09 seconds!\n",
      "Calculating percentiles of simulations... Populating data tables... Done!\n",
      "--------------------------\n",
      "Standard Deviation 6 of 21\n",
      "--------------------------\n",
      "Annual standard deviation: 0.25, Standard deviation alpha: 0.07\n",
      "Starting 206,000 regressions...\n",
      "Simulations complete in 84.56 seconds!\n",
      "Calculating percentiles of simulations... Populating data tables... Done!\n",
      "--------------------------\n",
      "Standard Deviation 7 of 21\n",
      "--------------------------\n",
      "Annual standard deviation: 0.30, Standard deviation alpha: 0.09\n",
      "Starting 206,000 regressions...\n",
      "Simulations complete in 87.39 seconds!\n",
      "Calculating percentiles of simulations... Populating data tables... Done!\n",
      "--------------------------\n",
      "Standard Deviation 8 of 21\n",
      "--------------------------\n",
      "Annual standard deviation: 0.35, Standard deviation alpha: 0.10\n",
      "Starting 206,000 regressions...\n",
      "Simulations complete in 78.10 seconds!\n",
      "Calculating percentiles of simulations... Populating data tables... Done!\n",
      "--------------------------\n",
      "Standard Deviation 9 of 21\n",
      "--------------------------\n",
      "Annual standard deviation: 0.40, Standard deviation alpha: 0.12\n",
      "Starting 206,000 regressions...\n",
      "Simulations complete in 80.71 seconds!\n",
      "Calculating percentiles of simulations... Populating data tables... Done!\n",
      "---------------------------\n",
      "Standard Deviation 10 of 21\n",
      "---------------------------\n",
      "Annual standard deviation: 0.45, Standard deviation alpha: 0.13\n",
      "Starting 206,000 regressions...\n",
      "Simulations complete in 85.96 seconds!\n",
      "Calculating percentiles of simulations... Populating data tables... Done!\n",
      "---------------------------\n",
      "Standard Deviation 11 of 21\n",
      "---------------------------\n",
      "Annual standard deviation: 0.50, Standard deviation alpha: 0.14\n",
      "Starting 206,000 regressions...\n",
      "Simulations complete in 89.54 seconds!\n",
      "Calculating percentiles of simulations... Populating data tables... Done!\n",
      "---------------------------\n",
      "Standard Deviation 12 of 21\n",
      "---------------------------\n",
      "Annual standard deviation: 0.55, Standard deviation alpha: 0.16\n",
      "Starting 206,000 regressions...\n",
      "Simulations complete in 87.51 seconds!\n",
      "Calculating percentiles of simulations... Populating data tables... Done!\n",
      "---------------------------\n",
      "Standard Deviation 13 of 21\n",
      "---------------------------\n",
      "Annual standard deviation: 0.60, Standard deviation alpha: 0.17\n",
      "Starting 206,000 regressions...\n",
      "Simulations complete in 86.76 seconds!\n",
      "Calculating percentiles of simulations... Populating data tables... Done!\n",
      "---------------------------\n",
      "Standard Deviation 14 of 21\n",
      "---------------------------\n",
      "Annual standard deviation: 0.65, Standard deviation alpha: 0.19\n",
      "Starting 206,000 regressions...\n",
      "Simulations complete in 83.30 seconds!\n",
      "Calculating percentiles of simulations... Populating data tables... Done!\n",
      "---------------------------\n",
      "Standard Deviation 15 of 21\n",
      "---------------------------\n",
      "Annual standard deviation: 0.70, Standard deviation alpha: 0.20\n",
      "Starting 206,000 regressions...\n",
      "Simulations complete in 81.80 seconds!\n",
      "Calculating percentiles of simulations... Populating data tables... Done!\n",
      "---------------------------\n",
      "Standard Deviation 16 of 21\n",
      "---------------------------\n",
      "Annual standard deviation: 0.75, Standard deviation alpha: 0.22\n",
      "Starting 206,000 regressions...\n",
      "Simulations complete in 81.03 seconds!\n",
      "Calculating percentiles of simulations... Populating data tables... Done!\n",
      "---------------------------\n",
      "Standard Deviation 17 of 21\n",
      "---------------------------\n",
      "Annual standard deviation: 0.80, Standard deviation alpha: 0.23\n",
      "Starting 206,000 regressions...\n",
      "Simulations complete in 79.50 seconds!\n",
      "Calculating percentiles of simulations... Populating data tables... Done!\n",
      "---------------------------\n",
      "Standard Deviation 18 of 21\n",
      "---------------------------\n",
      "Annual standard deviation: 0.85, Standard deviation alpha: 0.25\n",
      "Starting 206,000 regressions...\n",
      "Simulations complete in 80.62 seconds!\n",
      "Calculating percentiles of simulations... Populating data tables... Done!\n",
      "---------------------------\n",
      "Standard Deviation 19 of 21\n",
      "---------------------------\n",
      "Annual standard deviation: 0.90, Standard deviation alpha: 0.26\n",
      "Starting 206,000 regressions...\n",
      "Simulations complete in 77.27 seconds!\n",
      "Calculating percentiles of simulations... Populating data tables... Done!\n",
      "---------------------------\n",
      "Standard Deviation 20 of 21\n",
      "---------------------------\n",
      "Annual standard deviation: 0.95, Standard deviation alpha: 0.27\n",
      "Starting 206,000 regressions...\n",
      "Simulations complete in 77.71 seconds!\n",
      "Calculating percentiles of simulations... Populating data tables... Done!\n",
      "---------------------------\n",
      "Standard Deviation 21 of 21\n",
      "---------------------------\n",
      "Annual standard deviation: 1.00, Standard deviation alpha: 0.29\n",
      "Starting 206,000 regressions...\n",
      "Simulations complete in 77.63 seconds!\n",
      "Calculating percentiles of simulations... Populating data tables... Done!\n",
      "DONE!\n",
      "29 minutes and 5.55 seconds elapsed for this program\n"
     ]
    }
   ],
   "source": [
    "# This code cell runs the data through the AlphaEvaluator object found in\n",
    "# the luck_v_skill.py file. Creates tables of actual alpha percentiles vs\n",
    "# simulated alpha percentiles with increasing standard deviation asssumptions\n",
    "# about injected alpha. The first operation assumes std_alpha = 0.\n",
    "\n",
    "#----------------------------------------------------------------------------\n",
    "# OUTPUT PARAMETERS\n",
    "#----------------------------------------------------------------------------\n",
    "top_n = 10 # look at top 10 and bottom ten funds, in addition to percentiles\n",
    "pct_range = np.arange(1,10)/10 # percentiles to consider.  0 < x < 1\n",
    "verbose = True # keep track of where in program we are at\n",
    "min_obs = 120 # funds must have at least this many obs to be considered\n",
    "sim_cutoff = 50 # minimum non-NaN obs in sim_matrix obs for regression\n",
    "n_simulations = 1000 # number of simulations to run\n",
    "random_seed = 2 # seed the random number generator here\n",
    "std_range = np.arange(1,21)/20 # standard deviations of alpha to simulate\n",
    "n_std = len(std_range) + 1 # number of extra standard deviations evaluating\n",
    "\n",
    "\n",
    "#----------------------------------------------------------------------------\n",
    "# START\n",
    "#----------------------------------------------------------------------------\n",
    "# Time the program\n",
    "start_time = time.time()\n",
    "if verbose:\n",
    "    title_print(\"Standard Deviation {} of {}\".format(1,n_std))\n",
    "\n",
    "# initialize instance of the AlphaEvaluator with fund and factor data\n",
    "AEV = AlphaEvaluator(fund_data=funds,factor_data=factors)\n",
    "\n",
    "# calculates original coefficients, standard errors, and t-stats\n",
    "AEV.fit(min_obs=min_obs)\n",
    "\n",
    "# runs simulations and populates simulated coeff, SE, and tstat matrices\n",
    "AEV.simulate(n_simulations=n_simulations,random_seed=random_seed,sim_std=0,\n",
    "             sim_cutoff=sim_cutoff,verbose=verbose)\n",
    "\n",
    "# populates percentile tables for alpha and t(alpha)\n",
    "AEV.get_percentiles(pct_range=pct_range,verbose=verbose,top_n=top_n)\n",
    "data_a, data_t = AEV.data_a.copy(), AEV.data_t.copy()\n",
    "\n",
    "# Rename data columns\n",
    "data_a.columns = ['Actual','Sim Avg (0.00)', '%<Act (0.00)']\n",
    "data_t.columns = ['Actual','Sim Avg (0.00)', '%<Act (0.00)']\n",
    "\n",
    "# fill data with more simulations\n",
    "for i,stdev in enumerate(std_range):\n",
    "    if verbose:\n",
    "        title_print(\"Standard Deviation {} of {}\".format(i+2,n_std))\n",
    "    \n",
    "    # Rerun simulation with new standard deviation injection for alpha\n",
    "    AEV.simulate(n_simulations=n_simulations,random_seed=random_seed,\n",
    "                 sim_std=stdev,sim_cutoff=sim_cutoff,verbose=verbose)\n",
    "    \n",
    "    # Update Percentile Data\n",
    "    AEV.get_percentiles(pct_range=pct_range,verbose=True,top_n=top_n)\n",
    "    \n",
    "    # Populate Alpha Percentile Table\n",
    "    data_a['Sim Avg ({:.2f})'.format(stdev)] = AEV.data_a['Sim Avg']\n",
    "    data_a['%<Act ({:.2f})'.format(stdev)] = AEV.data_a['%<Act']\n",
    "    \n",
    "    # Populate t-statistics Percentile Table\n",
    "    data_t['Sim Avg ({:.2f})'.format(stdev)] = AEV.data_t['Sim Avg']\n",
    "    data_t['%<Act ({:.2f})'.format(stdev)] = AEV.data_t['%<Act']\n",
    "\n",
    "\n",
    "#----------------------------------------------------------------------------\n",
    "# END\n",
    "#----------------------------------------------------------------------------\n",
    "\n",
    "# calculate time elapsed for program and print    \n",
    "t_diff = time.time()-start_time\n",
    "minutes = int(np.floor(t_diff/60))\n",
    "seconds = t_diff - 60*minutes\n",
    "if verbose:\n",
    "    print(\"DONE!\")\n",
    "    print(\"{} minutes and {:.2f} seconds elapsed for this program\".format(minutes,seconds))"
   ]
  },
  {
   "cell_type": "code",
   "execution_count": 6,
   "metadata": {
    "scrolled": true
   },
   "outputs": [],
   "source": [
    "data_a.to_csv('../EM-luck-vs-skill-alphas.csv')\n",
    "data_t.to_csv('../EM-luck-vs-skill-tstats.csv')"
   ]
  },
  {
   "cell_type": "code",
   "execution_count": 7,
   "metadata": {},
   "outputs": [
    {
     "data": {
      "text/plain": [
       "((29, 43), (29, 43))"
      ]
     },
     "execution_count": 7,
     "metadata": {},
     "output_type": "execute_result"
    }
   ],
   "source": [
    "data_a.shape, data_t.shape"
   ]
  },
  {
   "cell_type": "code",
   "execution_count": 8,
   "metadata": {},
   "outputs": [
    {
     "name": "stdout",
     "output_type": "stream",
     "text": [
      "This notebook has been saved\n"
     ]
    }
   ],
   "source": [
    "notebook_save()"
   ]
  },
  {
   "cell_type": "code",
   "execution_count": null,
   "metadata": {},
   "outputs": [],
   "source": []
  },
  {
   "cell_type": "code",
   "execution_count": null,
   "metadata": {},
   "outputs": [],
   "source": []
  },
  {
   "cell_type": "code",
   "execution_count": null,
   "metadata": {},
   "outputs": [],
   "source": []
  },
  {
   "cell_type": "code",
   "execution_count": null,
   "metadata": {},
   "outputs": [],
   "source": []
  },
  {
   "cell_type": "code",
   "execution_count": null,
   "metadata": {},
   "outputs": [],
   "source": []
  },
  {
   "cell_type": "code",
   "execution_count": null,
   "metadata": {},
   "outputs": [],
   "source": []
  },
  {
   "cell_type": "code",
   "execution_count": null,
   "metadata": {},
   "outputs": [],
   "source": []
  },
  {
   "cell_type": "code",
   "execution_count": null,
   "metadata": {},
   "outputs": [],
   "source": []
  },
  {
   "cell_type": "code",
   "execution_count": null,
   "metadata": {},
   "outputs": [],
   "source": []
  }
 ],
 "metadata": {
  "kernelspec": {
   "display_name": "Python 3",
   "language": "python",
   "name": "python3"
  },
  "language_info": {
   "codemirror_mode": {
    "name": "ipython",
    "version": 3
   },
   "file_extension": ".py",
   "mimetype": "text/x-python",
   "name": "python",
   "nbconvert_exporter": "python",
   "pygments_lexer": "ipython3",
   "version": "3.7.1"
  }
 },
 "nbformat": 4,
 "nbformat_minor": 2
}
