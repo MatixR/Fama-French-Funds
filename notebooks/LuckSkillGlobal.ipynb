{
 "cells": [
  {
   "cell_type": "code",
   "execution_count": 93,
   "metadata": {
    "colab": {
     "base_uri": "https://localhost:8080/",
     "height": 71
    },
    "colab_type": "code",
    "id": "7RVqSfGA8G-9",
    "outputId": "c8a0c970-737d-439a-97ee-3fee6f2ff232"
   },
   "outputs": [],
   "source": [
    "#Preliminaries\n",
    "import numpy as np\n",
    "import pandas as pd\n",
    "import random\n",
    "import statsmodels.api as sm\n",
    "import math\n",
    "from sklearn.utils import resample\n",
    "from scipy import percentile\n",
    "from scipy import stats\n",
    "from matplotlib import pyplot as plt\n",
    "import requests\n",
    "import io\n",
    "import seaborn as sns\n",
    "from matplotlib.patches import Rectangle\n",
    "sns.set()"
   ]
  },
  {
   "cell_type": "markdown",
   "metadata": {},
   "source": [
    "## TODO\n",
    "Replace all variable names with longer names that are easier to remember"
   ]
  },
  {
   "cell_type": "markdown",
   "metadata": {},
   "source": [
    "### Load Data"
   ]
  },
  {
   "cell_type": "code",
   "execution_count": 2,
   "metadata": {},
   "outputs": [
    {
     "data": {
      "text/plain": [
       "((240, 193), (240, 4))"
      ]
     },
     "execution_count": 2,
     "metadata": {},
     "output_type": "execute_result"
    }
   ],
   "source": [
    "# Dataset is local, not on github\n",
    "Y_raw = pd.read_csv('../data/global_funds.csv',parse_dates=['Dates'],index_col=['Dates'])\n",
    "X_raw = pd.read_csv('../data/global_factors.csv',parse_dates=['Dates'],index_col=['Dates'])\n",
    "    \n",
    "Y_raw.shape,X_raw.shape\n"
   ]
  },
  {
   "cell_type": "code",
   "execution_count": 3,
   "metadata": {
    "colab": {
     "base_uri": "https://localhost:8080/",
     "height": 34
    },
    "colab_type": "code",
    "id": "T5SbG6458KDm",
    "outputId": "cc263774-68c4-4d04-80c0-d35664e09070"
   },
   "outputs": [
    {
     "data": {
      "text/plain": [
       "((240, 125), 3)"
      ]
     },
     "execution_count": 3,
     "metadata": {},
     "output_type": "execute_result"
    }
   ],
   "source": [
    "# Create lists of Fama-French factors and mutual fund symbols\n",
    "min_number_of_obs = 120\n",
    "Y_all = Y_raw.loc[:, (Y_raw.count().values > min_number_of_obs)] # discard funds with too many missing values\n",
    "Y_all = Y_all.sub(X_raw['RF'],axis=0) # subtract RF from fund returns\n",
    "funds = Y_all.columns.get_values().tolist() # list with names of funds\n",
    "factors = X_raw.columns.get_values().tolist() # list with names of global factors\n",
    "\n",
    "# remove RF since we already differenced it in Y\n",
    "factors_remove = ['RF'] # remove these factors from list of factors\n",
    "for items in factors_remove:\n",
    "    factors.remove(items)\n",
    "\n",
    "Y_all.shape, len(factors)"
   ]
  },
  {
   "cell_type": "code",
   "execution_count": 4,
   "metadata": {
    "colab": {
     "base_uri": "https://localhost:8080/",
     "height": 255
    },
    "colab_type": "code",
    "id": "8OJ6adGjQQUF",
    "outputId": "7e1f8f22-6a11-42bd-dacc-f7221627150d"
   },
   "outputs": [
    {
     "name": "stdout",
     "output_type": "stream",
     "text": [
      "<class 'pandas.core.frame.DataFrame'>\n",
      "DatetimeIndex: 240 entries, 1999-01-31 to 2018-12-31\n",
      "Data columns (total 4 columns):\n",
      "const     240 non-null float64\n",
      "Mkt-RF    240 non-null float64\n",
      "SMB       240 non-null float64\n",
      "HML       240 non-null float64\n",
      "dtypes: float64(4)\n",
      "memory usage: 9.4 KB\n"
     ]
    }
   ],
   "source": [
    "# create matrix of regressors for regression analysis\n",
    "X_mat=X_raw[factors].copy()\n",
    "X_mat.insert(0, 'const', float(1)) # insert column of ones for the constant in regression\n",
    "X_mat.rename({'WLRF':'Mkt-RF'},axis='columns',inplace=True)\n",
    "# Data Type and Shape information\n",
    "X_mat.info()\n"
   ]
  },
  {
   "cell_type": "markdown",
   "metadata": {
    "colab_type": "text",
    "id": "wyQWTzPCqq6y"
   },
   "source": [
    "## 1. Constructing matrix of dependent variables (fund returns) and explanatory variables (factor returns)"
   ]
  },
  {
   "cell_type": "code",
   "execution_count": 5,
   "metadata": {
    "colab": {},
    "colab_type": "code",
    "id": "7VTn3WbmA9QD"
   },
   "outputs": [],
   "source": [
    "# Parameters of Simulations\n",
    "np.random.seed(2) \n",
    "n_obs = X_mat.shape[0]  # number of observations\n",
    "n_funds = Y_all.shape[1]  # number of funds with return series\n",
    "n_factors = X_mat.shape[1]-1 # risk factors\n",
    "n_simulations = 1000 # number of simulations\n",
    "\n",
    "# Variable Names\n",
    "factor_names=['Alpha','Mkt-RF','SMB','HML']\n",
    "sim_factors=['Mkt-RF', 'SMB', 'HML']\n",
    "one_name=['Alpha']\n",
    "\n",
    "# Empty coefficient and standard error matrices (fill with results later)\n",
    "orig_coeffs = pd.DataFrame(np.zeros(shape = (n_factors+1, n_funds)), index=factor_names, columns = funds)/0\n",
    "orig_SE_coeffs = pd.DataFrame(np.zeros(shape = (n_factors+1, n_funds)), index=factor_names, columns = funds)/0\n"
   ]
  },
  {
   "cell_type": "markdown",
   "metadata": {
    "colab_type": "text",
    "id": "ilbRwQUPrQ8-"
   },
   "source": [
    "## 2. Perform initial regressions on actual fund returns"
   ]
  },
  {
   "cell_type": "code",
   "execution_count": 6,
   "metadata": {
    "colab": {},
    "colab_type": "code",
    "id": "4HYjxnj03ZpD"
   },
   "outputs": [],
   "source": [
    "#Create function to calculate the lag selection parameter for the standard HAC Newey-West\n",
    "# (1994) plug-in procedure\n",
    "def mLag(no_obs):\n",
    "    result = math.floor(math.pow(4*no_obs/100,(2/9)))\n",
    "    return result\n",
    "\n",
    "#Set up regression function with Newey-West Standard Errors (HAC)\n",
    "def ols(dependent_var, regressors, no_obs):\n",
    "    result = sm.OLS(endog=dependent_var, exog=regressors, missing='drop').\\\n",
    "                fit(cov_type='HAC',cov_kwds={'maxlags':mLag(no_obs)+1})\n",
    "    return result\n"
   ]
  },
  {
   "cell_type": "code",
   "execution_count": 7,
   "metadata": {
    "colab": {
     "base_uri": "https://localhost:8080/",
     "height": 170
    },
    "colab_type": "code",
    "id": "hll8XBzIB1u-",
    "outputId": "b2372dd9-243c-41b2-d468-bc04c09e68df",
    "scrolled": true
   },
   "outputs": [
    {
     "name": "stdout",
     "output_type": "stream",
     "text": [
      "coefficients\n",
      "------------\n",
      "const     0.154505\n",
      "Mkt-RF    0.928434\n",
      "SMB      -0.006721\n",
      "HML       0.127987\n",
      "dtype: float64 \n",
      "\n",
      "standard errors\n",
      "---------------\n",
      "const     0.067194\n",
      "Mkt-RF    0.016006\n",
      "SMB       0.047993\n",
      "HML       0.048858\n",
      "dtype: float64 \n",
      "\n",
      "# observations\n",
      "--------------\n",
      "240.0 \n",
      "\n"
     ]
    }
   ],
   "source": [
    "# Calculate number of observations per fund per simulation for future\n",
    "# reference:\n",
    "n_i = (~np.isnan(Y_all)).sum(axis=0) # number of observations of each fund in data\n",
    "\n",
    "# Test ols function\n",
    "test_fund = 0\n",
    "y_sample = Y_all.iloc[:,test_fund]         # y_sample is just one column of Y_all\n",
    "lm = ols(y_sample, X_mat, n_i.iloc[test_fund]) \n",
    "\n",
    "# Check Sample Regression Results\n",
    "for name,result in zip(['coefficients','standard errors','# observations'],\n",
    "                       [lm.params, lm.bse, lm.nobs]):\n",
    "    print(name)\n",
    "    print(\"-\"*len(name))\n",
    "    print(result,\"\\n\")"
   ]
  },
  {
   "cell_type": "code",
   "execution_count": 8,
   "metadata": {
    "colab": {
     "base_uri": "https://localhost:8080/",
     "height": 714
    },
    "colab_type": "code",
    "id": "bbfz86SBf_ES",
    "outputId": "3e3a8fa7-3697-462b-bba5-8810e6c06ff0"
   },
   "outputs": [],
   "source": [
    "#Perform initial regressions on fund returns\n",
    "for fund in range(n_funds):\n",
    "    y_sample = Y_all.iloc[:,fund] # choose fund\n",
    "    lm = ols(y_sample,X_mat, n_i[fund]) # run OLS\n",
    "    \n",
    "    for factor in range(n_factors+1):   \n",
    "        orig_coeffs.iloc[factor, fund] = lm.params.iloc[factor]\n",
    "        orig_SE_coeffs.iloc[factor, fund] = lm.bse.iloc[factor]"
   ]
  },
  {
   "cell_type": "markdown",
   "metadata": {},
   "source": [
    "### TODO\n",
    "Checkout a plotly representation of the coefficient and standard error data. Possibly four histograms."
   ]
  },
  {
   "cell_type": "code",
   "execution_count": 9,
   "metadata": {
    "scrolled": false
   },
   "outputs": [
    {
     "name": "stdout",
     "output_type": "stream",
     "text": [
      "<class 'pandas.core.frame.DataFrame'>\n",
      "Index: 4 entries, Alpha to HML\n",
      "Columns: 125 entries, CWIAX to WIMVX\n",
      "dtypes: float64(125)\n",
      "memory usage: 3.9+ KB\n",
      "None\n"
     ]
    },
    {
     "data": {
      "text/html": [
       "<div>\n",
       "<style scoped>\n",
       "    .dataframe tbody tr th:only-of-type {\n",
       "        vertical-align: middle;\n",
       "    }\n",
       "\n",
       "    .dataframe tbody tr th {\n",
       "        vertical-align: top;\n",
       "    }\n",
       "\n",
       "    .dataframe thead th {\n",
       "        text-align: right;\n",
       "    }\n",
       "</style>\n",
       "<table border=\"1\" class=\"dataframe\">\n",
       "  <thead>\n",
       "    <tr style=\"text-align: right;\">\n",
       "      <th></th>\n",
       "      <th>CWIAX</th>\n",
       "      <th>CNPAX</th>\n",
       "      <th>TEDIX</th>\n",
       "      <th>VTWSX</th>\n",
       "      <th>OWLSX</th>\n",
       "      <th>TEPLX</th>\n",
       "      <th>OPPAX</th>\n",
       "      <th>DODWX</th>\n",
       "      <th>DGEIX</th>\n",
       "      <th>VHGEX</th>\n",
       "      <th>...</th>\n",
       "      <th>CGVIX</th>\n",
       "      <th>CAMAX</th>\n",
       "      <th>IGEIX</th>\n",
       "      <th>COGZX</th>\n",
       "      <th>BGVIX</th>\n",
       "      <th>ENTIX</th>\n",
       "      <th>GGESX</th>\n",
       "      <th>APGRX</th>\n",
       "      <th>TRGSX</th>\n",
       "      <th>WIMVX</th>\n",
       "    </tr>\n",
       "  </thead>\n",
       "  <tbody>\n",
       "    <tr>\n",
       "      <th>Alpha</th>\n",
       "      <td>0.154505</td>\n",
       "      <td>0.218319</td>\n",
       "      <td>0.233386</td>\n",
       "      <td>-0.046309</td>\n",
       "      <td>-0.148419</td>\n",
       "      <td>-0.115127</td>\n",
       "      <td>0.180215</td>\n",
       "      <td>0.032865</td>\n",
       "      <td>-0.004745</td>\n",
       "      <td>0.058377</td>\n",
       "      <td>...</td>\n",
       "      <td>-0.058347</td>\n",
       "      <td>0.128421</td>\n",
       "      <td>-0.114825</td>\n",
       "      <td>-0.045402</td>\n",
       "      <td>-0.108252</td>\n",
       "      <td>0.168479</td>\n",
       "      <td>-0.140284</td>\n",
       "      <td>-0.058788</td>\n",
       "      <td>0.002218</td>\n",
       "      <td>-0.053521</td>\n",
       "    </tr>\n",
       "    <tr>\n",
       "      <th>Mkt-RF</th>\n",
       "      <td>0.928434</td>\n",
       "      <td>0.956883</td>\n",
       "      <td>0.635116</td>\n",
       "      <td>1.018592</td>\n",
       "      <td>0.940250</td>\n",
       "      <td>1.025993</td>\n",
       "      <td>1.076128</td>\n",
       "      <td>1.176468</td>\n",
       "      <td>1.041001</td>\n",
       "      <td>1.043070</td>\n",
       "      <td>...</td>\n",
       "      <td>1.171983</td>\n",
       "      <td>1.327107</td>\n",
       "      <td>0.925567</td>\n",
       "      <td>1.090783</td>\n",
       "      <td>0.939282</td>\n",
       "      <td>1.101993</td>\n",
       "      <td>1.041232</td>\n",
       "      <td>1.143330</td>\n",
       "      <td>1.211893</td>\n",
       "      <td>0.863205</td>\n",
       "    </tr>\n",
       "    <tr>\n",
       "      <th>SMB</th>\n",
       "      <td>-0.006721</td>\n",
       "      <td>-0.046306</td>\n",
       "      <td>0.063753</td>\n",
       "      <td>-0.082902</td>\n",
       "      <td>0.099940</td>\n",
       "      <td>-0.086029</td>\n",
       "      <td>0.259808</td>\n",
       "      <td>-0.038668</td>\n",
       "      <td>0.081525</td>\n",
       "      <td>0.073279</td>\n",
       "      <td>...</td>\n",
       "      <td>0.016620</td>\n",
       "      <td>0.185925</td>\n",
       "      <td>-0.251603</td>\n",
       "      <td>0.070205</td>\n",
       "      <td>-0.158022</td>\n",
       "      <td>0.262646</td>\n",
       "      <td>-0.114851</td>\n",
       "      <td>0.126472</td>\n",
       "      <td>0.057608</td>\n",
       "      <td>-0.254508</td>\n",
       "    </tr>\n",
       "    <tr>\n",
       "      <th>HML</th>\n",
       "      <td>0.127987</td>\n",
       "      <td>-0.105683</td>\n",
       "      <td>0.178474</td>\n",
       "      <td>-0.013044</td>\n",
       "      <td>0.075871</td>\n",
       "      <td>0.412880</td>\n",
       "      <td>-0.129258</td>\n",
       "      <td>0.387016</td>\n",
       "      <td>0.132983</td>\n",
       "      <td>0.318419</td>\n",
       "      <td>...</td>\n",
       "      <td>0.266287</td>\n",
       "      <td>0.337161</td>\n",
       "      <td>0.310782</td>\n",
       "      <td>-0.504720</td>\n",
       "      <td>0.347489</td>\n",
       "      <td>-0.160079</td>\n",
       "      <td>0.223675</td>\n",
       "      <td>-0.231549</td>\n",
       "      <td>-0.495760</td>\n",
       "      <td>0.076776</td>\n",
       "    </tr>\n",
       "  </tbody>\n",
       "</table>\n",
       "<p>4 rows × 125 columns</p>\n",
       "</div>"
      ],
      "text/plain": [
       "           CWIAX     CNPAX     TEDIX     VTWSX     OWLSX     TEPLX     OPPAX  \\\n",
       "Alpha   0.154505  0.218319  0.233386 -0.046309 -0.148419 -0.115127  0.180215   \n",
       "Mkt-RF  0.928434  0.956883  0.635116  1.018592  0.940250  1.025993  1.076128   \n",
       "SMB    -0.006721 -0.046306  0.063753 -0.082902  0.099940 -0.086029  0.259808   \n",
       "HML     0.127987 -0.105683  0.178474 -0.013044  0.075871  0.412880 -0.129258   \n",
       "\n",
       "           DODWX     DGEIX     VHGEX    ...        CGVIX     CAMAX     IGEIX  \\\n",
       "Alpha   0.032865 -0.004745  0.058377    ...    -0.058347  0.128421 -0.114825   \n",
       "Mkt-RF  1.176468  1.041001  1.043070    ...     1.171983  1.327107  0.925567   \n",
       "SMB    -0.038668  0.081525  0.073279    ...     0.016620  0.185925 -0.251603   \n",
       "HML     0.387016  0.132983  0.318419    ...     0.266287  0.337161  0.310782   \n",
       "\n",
       "           COGZX     BGVIX     ENTIX     GGESX     APGRX     TRGSX     WIMVX  \n",
       "Alpha  -0.045402 -0.108252  0.168479 -0.140284 -0.058788  0.002218 -0.053521  \n",
       "Mkt-RF  1.090783  0.939282  1.101993  1.041232  1.143330  1.211893  0.863205  \n",
       "SMB     0.070205 -0.158022  0.262646 -0.114851  0.126472  0.057608 -0.254508  \n",
       "HML    -0.504720  0.347489 -0.160079  0.223675 -0.231549 -0.495760  0.076776  \n",
       "\n",
       "[4 rows x 125 columns]"
      ]
     },
     "execution_count": 9,
     "metadata": {},
     "output_type": "execute_result"
    }
   ],
   "source": [
    "# Regression coefficient dataframe preview\n",
    "print(orig_coeffs.info())\n",
    "orig_coeffs"
   ]
  },
  {
   "cell_type": "code",
   "execution_count": 10,
   "metadata": {},
   "outputs": [
    {
     "name": "stdout",
     "output_type": "stream",
     "text": [
      "<class 'pandas.core.frame.DataFrame'>\n",
      "Index: 4 entries, Alpha to HML\n",
      "Columns: 125 entries, CWIAX to WIMVX\n",
      "dtypes: float64(125)\n",
      "memory usage: 3.9+ KB\n"
     ]
    },
    {
     "data": {
      "text/html": [
       "<div>\n",
       "<style scoped>\n",
       "    .dataframe tbody tr th:only-of-type {\n",
       "        vertical-align: middle;\n",
       "    }\n",
       "\n",
       "    .dataframe tbody tr th {\n",
       "        vertical-align: top;\n",
       "    }\n",
       "\n",
       "    .dataframe thead th {\n",
       "        text-align: right;\n",
       "    }\n",
       "</style>\n",
       "<table border=\"1\" class=\"dataframe\">\n",
       "  <thead>\n",
       "    <tr style=\"text-align: right;\">\n",
       "      <th></th>\n",
       "      <th>CWIAX</th>\n",
       "      <th>CNPAX</th>\n",
       "      <th>TEDIX</th>\n",
       "      <th>VTWSX</th>\n",
       "      <th>OWLSX</th>\n",
       "      <th>TEPLX</th>\n",
       "      <th>OPPAX</th>\n",
       "      <th>DODWX</th>\n",
       "      <th>DGEIX</th>\n",
       "      <th>VHGEX</th>\n",
       "      <th>...</th>\n",
       "      <th>CGVIX</th>\n",
       "      <th>CAMAX</th>\n",
       "      <th>IGEIX</th>\n",
       "      <th>COGZX</th>\n",
       "      <th>BGVIX</th>\n",
       "      <th>ENTIX</th>\n",
       "      <th>GGESX</th>\n",
       "      <th>APGRX</th>\n",
       "      <th>TRGSX</th>\n",
       "      <th>WIMVX</th>\n",
       "    </tr>\n",
       "  </thead>\n",
       "  <tbody>\n",
       "    <tr>\n",
       "      <th>Alpha</th>\n",
       "      <td>0.067194</td>\n",
       "      <td>0.064061</td>\n",
       "      <td>0.099452</td>\n",
       "      <td>0.036009</td>\n",
       "      <td>0.103827</td>\n",
       "      <td>0.080322</td>\n",
       "      <td>0.118825</td>\n",
       "      <td>0.106762</td>\n",
       "      <td>0.051201</td>\n",
       "      <td>0.068267</td>\n",
       "      <td>...</td>\n",
       "      <td>0.124802</td>\n",
       "      <td>0.301439</td>\n",
       "      <td>0.069854</td>\n",
       "      <td>0.169693</td>\n",
       "      <td>0.074499</td>\n",
       "      <td>0.199775</td>\n",
       "      <td>0.074333</td>\n",
       "      <td>0.098411</td>\n",
       "      <td>0.137063</td>\n",
       "      <td>0.112118</td>\n",
       "    </tr>\n",
       "    <tr>\n",
       "      <th>Mkt-RF</th>\n",
       "      <td>0.016006</td>\n",
       "      <td>0.016675</td>\n",
       "      <td>0.039595</td>\n",
       "      <td>0.011834</td>\n",
       "      <td>0.040671</td>\n",
       "      <td>0.021457</td>\n",
       "      <td>0.021452</td>\n",
       "      <td>0.035036</td>\n",
       "      <td>0.018400</td>\n",
       "      <td>0.019853</td>\n",
       "      <td>...</td>\n",
       "      <td>0.046939</td>\n",
       "      <td>0.085222</td>\n",
       "      <td>0.020157</td>\n",
       "      <td>0.043701</td>\n",
       "      <td>0.026889</td>\n",
       "      <td>0.064333</td>\n",
       "      <td>0.023972</td>\n",
       "      <td>0.028400</td>\n",
       "      <td>0.060220</td>\n",
       "      <td>0.027327</td>\n",
       "    </tr>\n",
       "    <tr>\n",
       "      <th>SMB</th>\n",
       "      <td>0.047993</td>\n",
       "      <td>0.037942</td>\n",
       "      <td>0.054646</td>\n",
       "      <td>0.031558</td>\n",
       "      <td>0.050922</td>\n",
       "      <td>0.043777</td>\n",
       "      <td>0.104469</td>\n",
       "      <td>0.064742</td>\n",
       "      <td>0.039028</td>\n",
       "      <td>0.054472</td>\n",
       "      <td>...</td>\n",
       "      <td>0.115095</td>\n",
       "      <td>0.172982</td>\n",
       "      <td>0.042808</td>\n",
       "      <td>0.112873</td>\n",
       "      <td>0.067496</td>\n",
       "      <td>0.130762</td>\n",
       "      <td>0.048922</td>\n",
       "      <td>0.053159</td>\n",
       "      <td>0.101444</td>\n",
       "      <td>0.052525</td>\n",
       "    </tr>\n",
       "    <tr>\n",
       "      <th>HML</th>\n",
       "      <td>0.048858</td>\n",
       "      <td>0.050323</td>\n",
       "      <td>0.058265</td>\n",
       "      <td>0.024102</td>\n",
       "      <td>0.042594</td>\n",
       "      <td>0.053396</td>\n",
       "      <td>0.106726</td>\n",
       "      <td>0.065702</td>\n",
       "      <td>0.043337</td>\n",
       "      <td>0.048886</td>\n",
       "      <td>...</td>\n",
       "      <td>0.061932</td>\n",
       "      <td>0.184432</td>\n",
       "      <td>0.052187</td>\n",
       "      <td>0.090369</td>\n",
       "      <td>0.055219</td>\n",
       "      <td>0.116445</td>\n",
       "      <td>0.050436</td>\n",
       "      <td>0.043668</td>\n",
       "      <td>0.071610</td>\n",
       "      <td>0.056171</td>\n",
       "    </tr>\n",
       "  </tbody>\n",
       "</table>\n",
       "<p>4 rows × 125 columns</p>\n",
       "</div>"
      ],
      "text/plain": [
       "           CWIAX     CNPAX     TEDIX     VTWSX     OWLSX     TEPLX     OPPAX  \\\n",
       "Alpha   0.067194  0.064061  0.099452  0.036009  0.103827  0.080322  0.118825   \n",
       "Mkt-RF  0.016006  0.016675  0.039595  0.011834  0.040671  0.021457  0.021452   \n",
       "SMB     0.047993  0.037942  0.054646  0.031558  0.050922  0.043777  0.104469   \n",
       "HML     0.048858  0.050323  0.058265  0.024102  0.042594  0.053396  0.106726   \n",
       "\n",
       "           DODWX     DGEIX     VHGEX    ...        CGVIX     CAMAX     IGEIX  \\\n",
       "Alpha   0.106762  0.051201  0.068267    ...     0.124802  0.301439  0.069854   \n",
       "Mkt-RF  0.035036  0.018400  0.019853    ...     0.046939  0.085222  0.020157   \n",
       "SMB     0.064742  0.039028  0.054472    ...     0.115095  0.172982  0.042808   \n",
       "HML     0.065702  0.043337  0.048886    ...     0.061932  0.184432  0.052187   \n",
       "\n",
       "           COGZX     BGVIX     ENTIX     GGESX     APGRX     TRGSX     WIMVX  \n",
       "Alpha   0.169693  0.074499  0.199775  0.074333  0.098411  0.137063  0.112118  \n",
       "Mkt-RF  0.043701  0.026889  0.064333  0.023972  0.028400  0.060220  0.027327  \n",
       "SMB     0.112873  0.067496  0.130762  0.048922  0.053159  0.101444  0.052525  \n",
       "HML     0.090369  0.055219  0.116445  0.050436  0.043668  0.071610  0.056171  \n",
       "\n",
       "[4 rows x 125 columns]"
      ]
     },
     "execution_count": 10,
     "metadata": {},
     "output_type": "execute_result"
    }
   ],
   "source": [
    "# Coefficient Standard Error preview\n",
    "orig_SE_coeffs.info()\n",
    "orig_SE_coeffs"
   ]
  },
  {
   "cell_type": "markdown",
   "metadata": {},
   "source": [
    "Added this chart, to help visualize alphas and standard errors"
   ]
  },
  {
   "cell_type": "code",
   "execution_count": 11,
   "metadata": {},
   "outputs": [
    {
     "data": {
      "image/png": "[encoded data removed]",
      "text/plain": [
       "<Figure size 1440x288 with 1 Axes>"
      ]
     },
     "metadata": {
      "needs_background": "light"
     },
     "output_type": "display_data"
    }
   ],
   "source": [
    "# sort by alpha (descending order)\n",
    "funds_by_alpha = np.argsort(orig_coeffs.iloc[0,:])[::-1] \n",
    "\n",
    "# Bar Chart\n",
    "plt.figure(figsize=(20,4))\n",
    "plt.bar(x=range(n_funds),\n",
    "        height=orig_coeffs.iloc[0,:][funds_by_alpha],\n",
    "        tick_label=orig_coeffs.columns[funds_by_alpha],\n",
    "        yerr=orig_SE_coeffs.iloc[0,:][funds_by_alpha])\n",
    "plt.xticks(rotation=90)\n",
    "plt.xlim((-1,n_funds))\n",
    "plt.suptitle(r\"Fund $\\alpha$'s (S.E.'s in black)\")\n",
    "\n",
    "plt.show()"
   ]
  },
  {
   "cell_type": "code",
   "execution_count": 12,
   "metadata": {
    "colab": {
     "base_uri": "https://localhost:8080/",
     "height": 442
    },
    "colab_type": "code",
    "id": "8zmQOpWeCJuQ",
    "outputId": "d66ad4e0-8eba-41f1-ab5f-9c346c1d185a",
    "scrolled": true
   },
   "outputs": [
    {
     "data": {
      "text/html": [
       "<div>\n",
       "<style scoped>\n",
       "    .dataframe tbody tr th:only-of-type {\n",
       "        vertical-align: middle;\n",
       "    }\n",
       "\n",
       "    .dataframe tbody tr th {\n",
       "        vertical-align: top;\n",
       "    }\n",
       "\n",
       "    .dataframe thead th {\n",
       "        text-align: right;\n",
       "    }\n",
       "</style>\n",
       "<table border=\"1\" class=\"dataframe\">\n",
       "  <thead>\n",
       "    <tr style=\"text-align: right;\">\n",
       "      <th></th>\n",
       "      <th>CWIAX</th>\n",
       "      <th>CNPAX</th>\n",
       "      <th>TEDIX</th>\n",
       "      <th>VTWSX</th>\n",
       "      <th>OWLSX</th>\n",
       "      <th>TEPLX</th>\n",
       "      <th>OPPAX</th>\n",
       "      <th>DODWX</th>\n",
       "      <th>DGEIX</th>\n",
       "      <th>VHGEX</th>\n",
       "      <th>...</th>\n",
       "      <th>CGVIX</th>\n",
       "      <th>CAMAX</th>\n",
       "      <th>IGEIX</th>\n",
       "      <th>COGZX</th>\n",
       "      <th>BGVIX</th>\n",
       "      <th>ENTIX</th>\n",
       "      <th>GGESX</th>\n",
       "      <th>APGRX</th>\n",
       "      <th>TRGSX</th>\n",
       "      <th>WIMVX</th>\n",
       "    </tr>\n",
       "  </thead>\n",
       "  <tbody>\n",
       "    <tr>\n",
       "      <th>t(Alpha)</th>\n",
       "      <td>2.299372</td>\n",
       "      <td>3.407998</td>\n",
       "      <td>2.346720</td>\n",
       "      <td>-1.286024</td>\n",
       "      <td>-1.429483</td>\n",
       "      <td>-1.433317</td>\n",
       "      <td>1.516646</td>\n",
       "      <td>0.307831</td>\n",
       "      <td>-0.092684</td>\n",
       "      <td>0.855138</td>\n",
       "      <td>...</td>\n",
       "      <td>-0.467519</td>\n",
       "      <td>0.426026</td>\n",
       "      <td>-1.643792</td>\n",
       "      <td>-0.267552</td>\n",
       "      <td>-1.453064</td>\n",
       "      <td>0.843345</td>\n",
       "      <td>-1.887231</td>\n",
       "      <td>-0.597369</td>\n",
       "      <td>0.016179</td>\n",
       "      <td>-0.477360</td>\n",
       "    </tr>\n",
       "    <tr>\n",
       "      <th>t(Mkt-RF)</th>\n",
       "      <td>58.006242</td>\n",
       "      <td>57.385411</td>\n",
       "      <td>16.040320</td>\n",
       "      <td>86.071662</td>\n",
       "      <td>23.118600</td>\n",
       "      <td>47.816327</td>\n",
       "      <td>50.164448</td>\n",
       "      <td>33.579313</td>\n",
       "      <td>56.576723</td>\n",
       "      <td>52.540700</td>\n",
       "      <td>...</td>\n",
       "      <td>24.968206</td>\n",
       "      <td>15.572290</td>\n",
       "      <td>45.918663</td>\n",
       "      <td>24.960339</td>\n",
       "      <td>34.931681</td>\n",
       "      <td>17.129575</td>\n",
       "      <td>43.434728</td>\n",
       "      <td>40.258584</td>\n",
       "      <td>20.124354</td>\n",
       "      <td>31.588523</td>\n",
       "    </tr>\n",
       "    <tr>\n",
       "      <th>t(SMB)</th>\n",
       "      <td>-0.140036</td>\n",
       "      <td>-1.220435</td>\n",
       "      <td>1.166670</td>\n",
       "      <td>-2.626950</td>\n",
       "      <td>1.962605</td>\n",
       "      <td>-1.965159</td>\n",
       "      <td>2.486946</td>\n",
       "      <td>-0.597266</td>\n",
       "      <td>2.088864</td>\n",
       "      <td>1.345255</td>\n",
       "      <td>...</td>\n",
       "      <td>0.144403</td>\n",
       "      <td>1.074823</td>\n",
       "      <td>-5.877479</td>\n",
       "      <td>0.621983</td>\n",
       "      <td>-2.341202</td>\n",
       "      <td>2.008583</td>\n",
       "      <td>-2.347630</td>\n",
       "      <td>2.379146</td>\n",
       "      <td>0.567885</td>\n",
       "      <td>-4.845417</td>\n",
       "    </tr>\n",
       "    <tr>\n",
       "      <th>t(HML)</th>\n",
       "      <td>2.619575</td>\n",
       "      <td>-2.100086</td>\n",
       "      <td>3.063157</td>\n",
       "      <td>-0.541205</td>\n",
       "      <td>1.781287</td>\n",
       "      <td>7.732469</td>\n",
       "      <td>-1.211126</td>\n",
       "      <td>5.890446</td>\n",
       "      <td>3.068588</td>\n",
       "      <td>6.513494</td>\n",
       "      <td>...</td>\n",
       "      <td>4.299664</td>\n",
       "      <td>1.828101</td>\n",
       "      <td>5.955161</td>\n",
       "      <td>-5.585127</td>\n",
       "      <td>6.292898</td>\n",
       "      <td>-1.374715</td>\n",
       "      <td>4.434818</td>\n",
       "      <td>-5.302437</td>\n",
       "      <td>-6.923101</td>\n",
       "      <td>1.366821</td>\n",
       "    </tr>\n",
       "  </tbody>\n",
       "</table>\n",
       "<p>4 rows × 125 columns</p>\n",
       "</div>"
      ],
      "text/plain": [
       "               CWIAX      CNPAX      TEDIX      VTWSX      OWLSX      TEPLX  \\\n",
       "t(Alpha)    2.299372   3.407998   2.346720  -1.286024  -1.429483  -1.433317   \n",
       "t(Mkt-RF)  58.006242  57.385411  16.040320  86.071662  23.118600  47.816327   \n",
       "t(SMB)     -0.140036  -1.220435   1.166670  -2.626950   1.962605  -1.965159   \n",
       "t(HML)      2.619575  -2.100086   3.063157  -0.541205   1.781287   7.732469   \n",
       "\n",
       "               OPPAX      DODWX      DGEIX      VHGEX    ...          CGVIX  \\\n",
       "t(Alpha)    1.516646   0.307831  -0.092684   0.855138    ...      -0.467519   \n",
       "t(Mkt-RF)  50.164448  33.579313  56.576723  52.540700    ...      24.968206   \n",
       "t(SMB)      2.486946  -0.597266   2.088864   1.345255    ...       0.144403   \n",
       "t(HML)     -1.211126   5.890446   3.068588   6.513494    ...       4.299664   \n",
       "\n",
       "               CAMAX      IGEIX      COGZX      BGVIX      ENTIX      GGESX  \\\n",
       "t(Alpha)    0.426026  -1.643792  -0.267552  -1.453064   0.843345  -1.887231   \n",
       "t(Mkt-RF)  15.572290  45.918663  24.960339  34.931681  17.129575  43.434728   \n",
       "t(SMB)      1.074823  -5.877479   0.621983  -2.341202   2.008583  -2.347630   \n",
       "t(HML)      1.828101   5.955161  -5.585127   6.292898  -1.374715   4.434818   \n",
       "\n",
       "               APGRX      TRGSX      WIMVX  \n",
       "t(Alpha)   -0.597369   0.016179  -0.477360  \n",
       "t(Mkt-RF)  40.258584  20.124354  31.588523  \n",
       "t(SMB)      2.379146   0.567885  -4.845417  \n",
       "t(HML)     -5.302437  -6.923101   1.366821  \n",
       "\n",
       "[4 rows x 125 columns]"
      ]
     },
     "execution_count": 12,
     "metadata": {},
     "output_type": "execute_result"
    }
   ],
   "source": [
    "# rename all coefficients with t(.)\n",
    "rename_dict = {}\n",
    "for coeff in orig_coeffs.index:\n",
    "    rename_dict[coeff] = 't({})'.format(coeff) \n",
    "\n",
    "# Calculate t-statistics with nans creating other nans (fill_value=None)\n",
    "orig_t_stats = orig_coeffs.divide(orig_SE_coeffs, axis='columns', fill_value=None).rename(rename_dict,axis='index')\n",
    "orig_t_stats"
   ]
  },
  {
   "cell_type": "code",
   "execution_count": 13,
   "metadata": {
    "colab": {
     "base_uri": "https://localhost:8080/",
     "height": 1071
    },
    "colab_type": "code",
    "id": "LFTEk8hLDTtr",
    "outputId": "61ba9134-aaa2-4f3d-cef2-7a28613c9dfa"
   },
   "outputs": [
    {
     "name": "stdout",
     "output_type": "stream",
     "text": [
      "(125,)\n"
     ]
    },
    {
     "data": {
      "text/plain": [
       "CWIAX    0.063785\n",
       "CNPAX    0.061459\n",
       "TEDIX    0.086532\n",
       "VTWSX    0.042760\n",
       "OWLSX    0.089743\n",
       "dtype: float64"
      ]
     },
     "execution_count": 13,
     "metadata": {},
     "output_type": "execute_result"
    }
   ],
   "source": [
    "# Calculated predictions, residuals, and sum of squared residuals (SSR) \n",
    "# and standard errors (SE )from X inputs and orig_coeffs\n",
    "Y_pred = np.dot(X_mat.values,orig_coeffs.values) # fitted values\n",
    "orig_resids = Y_all.values - Y_pred              # residuals\n",
    "orig_SSR = np.nansum(orig_resids**2,0)           # sum squared residuals\n",
    "orig_SE_resid = np.divide(orig_SSR**.5, (n_i-n_factors)) # standard errors\n",
    "\n",
    "# \n",
    "print(orig_SE_resid.shape)\n",
    "orig_SE_resid.head()"
   ]
  },
  {
   "cell_type": "code",
   "execution_count": 14,
   "metadata": {
    "colab": {
     "base_uri": "https://localhost:8080/",
     "height": 1969
    },
    "colab_type": "code",
    "id": "jPGjTSkuGMhh",
    "outputId": "c10b6abe-a35a-4c4b-c31b-e5e7168df630"
   },
   "outputs": [
    {
     "name": "stdout",
     "output_type": "stream",
     "text": [
      "Ten Most Positive Alphas\n",
      "                 Alpha    Mkt-RF       SMB       HML  Rank_a\n",
      "MSFBX         0.427591  0.714611 -0.266890  0.038603     1.0\n",
      "MGGPX         0.423748  1.150749  0.302729 -0.573910     2.0\n",
      "MAGCX         0.392557  1.039371  0.750257 -0.230193     3.0\n",
      "TEQAX         0.321823  0.920811  0.251732 -0.751767     4.0\n",
      "AXAGE         0.296094  1.239881  0.350411 -0.266739     5.0\n",
      "IGFAX         0.287707  0.730322 -0.333441 -0.107715     6.0\n",
      "APHGX         0.274649  0.868930 -0.247148  0.201847     7.0\n",
      "Unnamed: 129  0.270221  1.001486  0.136358 -0.394302     8.0\n",
      "AGGIX         0.263983  0.989996  0.200862 -0.345853     9.0\n",
      "TEDIX         0.233386  0.635116  0.063753  0.178474    10.0 \n",
      "\n",
      "Ten Most Negative Alphas\n",
      "                Alpha    Mkt-RF       SMB       HML  Rank_a\n",
      "JNLTEMP     -0.161314  1.020641 -0.153533  0.280705   116.0\n",
      "TMUIX       -0.167947  1.091462  0.062179 -0.177965   117.0\n",
      "IIGZX       -0.170155  1.025652 -0.343237  0.147015   118.0\n",
      "Unnamed: 68 -0.174744  0.976101 -0.173313  0.146628   119.0\n",
      "ATWAX       -0.187117  0.985060 -0.170201 -0.043986   120.0\n",
      "AWAAX       -0.188634  1.012334 -0.086737 -0.015583   121.0\n",
      "SERNX       -0.190659  1.011361  0.103164 -0.043462   122.0\n",
      "ADVDX       -0.219048  1.010564 -0.051937 -0.121079   123.0\n",
      "ICVIX       -0.222565  0.832435  0.222620  0.513179   124.0\n",
      "IVNCX       -0.229878  1.022188  0.030975 -0.059712   125.0\n"
     ]
    }
   ],
   "source": [
    "# Rank funds by alpha\n",
    "rank_a = orig_coeffs.transpose(copy=True)\n",
    "rank_a['Rank_a'] = rank_a['Alpha'].rank(ascending=False)\n",
    "orig_coeffs_rank_a = rank_a.sort_values(by='Alpha', axis=0, ascending=False)\n",
    "\n",
    "# Print Previews\n",
    "print(\"Ten Most Positive Alphas\")\n",
    "print(orig_coeffs_rank_a.head(10),\"\\n\")\n",
    "print(\"Ten Most Negative Alphas\")\n",
    "print(orig_coeffs_rank_a.tail(10))"
   ]
  },
  {
   "cell_type": "code",
   "execution_count": 15,
   "metadata": {
    "colab": {
     "base_uri": "https://localhost:8080/",
     "height": 1969
    },
    "colab_type": "code",
    "id": "1FTG2mGgGP_0",
    "outputId": "6965363f-f866-492a-a366-c9dc9bb98890"
   },
   "outputs": [
    {
     "name": "stdout",
     "output_type": "stream",
     "text": [
      "Ten Most Significant Positive Alphas\n",
      "              t(Alpha)  t(Mkt-RF)    t(SMB)    t(HML)  Rank_t\n",
      "CNPAX         3.407998  57.385411 -1.220435 -2.100086     1.0\n",
      "MSFBX         3.149317  18.404386 -2.043943  0.271595     2.0\n",
      "Unnamed: 129  2.634869  46.619731  1.758379 -5.178336     3.0\n",
      "APHGX         2.596955  31.674597 -3.150700  3.167546     4.0\n",
      "IGFAX         2.417043  17.852991 -2.598018 -0.921890     5.0\n",
      "TEDIX         2.346720  16.040320  1.166670  3.063157     6.0\n",
      "CWIAX         2.299372  58.006242 -0.140036  2.619575     7.0\n",
      "MGGPX         2.181862  28.819273  2.152420 -5.480641     8.0\n",
      "FWIFX         2.055572  53.997903  1.129708 -1.682369     9.0\n",
      "MWOIX         1.948472  43.720206  1.149368 -3.659001    10.0 \n",
      "\n",
      "Ten Most Significant Negative Alphas\n",
      "             t(Alpha)  t(Mkt-RF)    t(SMB)    t(HML)  Rank_t\n",
      "GAPIX       -1.727903  89.597109  1.349512  4.732440   116.0\n",
      "ICVIX       -1.771677  18.645418  2.614154  7.407417   117.0\n",
      "GGESX       -1.887231  43.434728 -2.347630  4.434818   118.0\n",
      "JNLTEMP     -1.973791  50.704241 -2.925601  5.175661   119.0\n",
      "ADVDX       -1.991552  25.675707 -0.684070 -1.755965   120.0\n",
      "TMUIX       -2.070504  62.521948  1.293736 -3.680556   121.0\n",
      "IVNCX       -2.432716  41.302390  0.564469 -1.041304   122.0\n",
      "Unnamed: 68 -2.998788  61.045115 -4.003020  3.865765   123.0\n",
      "ATWAX       -3.702615  66.965828 -3.973252 -1.348761   124.0\n",
      "AWAAX       -3.787495  61.354211 -1.906329 -0.427019   125.0\n"
     ]
    }
   ],
   "source": [
    "#Rank funds by t(alpha)\n",
    "rank_t = orig_t_stats.transpose(copy=True)\n",
    "rank_t['Rank_t'] = rank_t['t(Alpha)'].rank(ascending=False)\n",
    "orig_coeffs_rank_t = rank_t.sort_values(by='t(Alpha)', axis=0, ascending=False)\n",
    "\n",
    "# Print Previews\n",
    "print(\"Ten Most Significant Positive Alphas\")\n",
    "print(orig_coeffs_rank_t.head(10),\"\\n\")\n",
    "print(\"Ten Most Significant Negative Alphas\")\n",
    "print(orig_coeffs_rank_t.tail(10))\n"
   ]
  },
  {
   "cell_type": "markdown",
   "metadata": {
    "colab_type": "text",
    "id": "PFzjkbpisKSD"
   },
   "source": [
    "## 3. Constructing series of simulated returns"
   ]
  },
  {
   "cell_type": "code",
   "execution_count": 16,
   "metadata": {
    "colab": {
     "base_uri": "https://localhost:8080/",
     "height": 34
    },
    "colab_type": "code",
    "id": "RdOBlVUsJqxt",
    "outputId": "c2c010d1-b8d2-432e-ef72-131751dc652c"
   },
   "outputs": [
    {
     "data": {
      "text/plain": [
       "(0, 0.0)"
      ]
     },
     "execution_count": 16,
     "metadata": {},
     "output_type": "execute_result"
    }
   ],
   "source": [
    "# Construct simulated series based on \"sim_indices\"\n",
    "# This script used the simulated index numbers to:\n",
    "# 1) Pick corresponding numbers from factors and residuals, and\n",
    "# 2) Construct series of fund returns (potentially including injected alpha)\n",
    "# 3) Series are \"alpha free\" if 'std_alpha' below is set to '0'.\n",
    "\n",
    "# The constructed returns will be the basis for new regressions to\n",
    "# calculate simulated alphas.\n",
    "\n",
    "# From before: n = total number of funds\n",
    "# * h = total number of factors\n",
    "# * m = total number of time periods\n",
    "# * s = total number of simulations, s = 1 here refers sim #1\n",
    "\n",
    "# Check if the value for annual \"average\" standard deviation is already\n",
    "# defined. If it is, dont't touch it. If it isn't, define a chosen\n",
    "# value (usually '0') below. We do this to avoid overriding the std of alpha\n",
    "# in the loop running through different values of std of alpha\n",
    "\n",
    "\n",
    "\n",
    "try: annual_std_alpha\n",
    "except NameError: annual_std_alpha = None\n",
    "\n",
    "if annual_std_alpha is None:\n",
    "    annual_std_alpha = 0 #Set it's value\n",
    "else:\n",
    "    pass\n",
    "std_alpha = annual_std_alpha/np.sqrt(12)  \n",
    "annual_std_alpha, std_alpha\n",
    "  "
   ]
  },
  {
   "cell_type": "code",
   "execution_count": 17,
   "metadata": {
    "colab": {
     "base_uri": "https://localhost:8080/",
     "height": 1071
    },
    "colab_type": "code",
    "id": "_sKR6PJofOhg",
    "outputId": "bdefeaff-c038-4e9f-bd2c-ff24b2c12273"
   },
   "outputs": [
    {
     "data": {
      "text/plain": [
       "CWIAX    0.620337\n",
       "CNPAX    0.597716\n",
       "TEDIX    0.841560\n",
       "VTWSX    0.415856\n",
       "OWLSX    0.872787\n",
       "dtype: float64"
      ]
     },
     "execution_count": 17,
     "metadata": {},
     "output_type": "execute_result"
    }
   ],
   "source": [
    "temp_std_resid_ratio = np.divide(orig_SE_resid,orig_SE_resid.mean())\n",
    "temp_std_resid_ratio.head()"
   ]
  },
  {
   "cell_type": "code",
   "execution_count": 18,
   "metadata": {
    "colab": {
     "base_uri": "https://localhost:8080/",
     "height": 136
    },
    "colab_type": "code",
    "id": "EdspyHnOgD1j",
    "outputId": "6ca47d14-d99e-43b2-8a45-521a0d072ccc"
   },
   "outputs": [
    {
     "data": {
      "text/plain": [
       "(240, 125, 1000)"
      ]
     },
     "execution_count": 18,
     "metadata": {},
     "output_type": "execute_result"
    }
   ],
   "source": [
    "# Construct series of alphas for injection (constant over time, scaled per\n",
    "# fund, independent per simulation). These numbers become zero when we set\n",
    "# desired injection of average annual alpha to zero above.\n",
    "# np.random.seed(0)\n",
    "temp_alpha = std_alpha * np.tile(np.random.randn(1,n_funds,n_simulations) * \n",
    "                                 np.tile(temp_std_resid_ratio,(1,1,n_simulations))\\\n",
    "                                 .reshape((1,n_funds,n_simulations), order='F'),(n_obs,1,1))\n",
    "# A collection of 1000 individual 240 by 125 arrays\n",
    "temp_alpha.shape\n"
   ]
  },
  {
   "cell_type": "code",
   "execution_count": 28,
   "metadata": {
    "colab": {
     "base_uri": "https://localhost:8080/",
     "height": 1360
    },
    "colab_type": "code",
    "id": "Sxlhi7cISSfH",
    "outputId": "6df92553-0a31-4746-c0ea-2ce8ddcc0859"
   },
   "outputs": [
    {
     "data": {
      "text/plain": [
       "((3, 125), (240, 125, 1000))"
      ]
     },
     "execution_count": 28,
     "metadata": {},
     "output_type": "execute_result"
    }
   ],
   "source": [
    "# Construct matrix of betas from coefficient matrix (excluding alphas)\n",
    "orig_betas = orig_coeffs_rank_a.transpose().values[1:4,:]\n",
    "orig_betas.shape, temp_alpha.shape"
   ]
  },
  {
   "cell_type": "markdown",
   "metadata": {},
   "source": [
    "## TODO\n",
    "Consider changing variable names to something cleaner"
   ]
  },
  {
   "cell_type": "code",
   "execution_count": 29,
   "metadata": {
    "colab": {
     "base_uri": "https://localhost:8080/",
     "height": 527
    },
    "colab_type": "code",
    "id": "o-epVl22jJCv",
    "outputId": "0b0db657-1ac0-46b8-e41a-6ccaeba0506f"
   },
   "outputs": [
    {
     "data": {
      "text/plain": [
       "((240, 3, 1000), (240, 125, 1000), (240, 125, 1000))"
      ]
     },
     "execution_count": 29,
     "metadata": {},
     "output_type": "execute_result"
    }
   ],
   "source": [
    "# Construct matrices of all simulated factor and fund returns:\n",
    "constructed_X_mat = np.empty((n_obs,n_factors,n_simulations))*np.nan # X_mats for each simulation\n",
    "constructed_resids = np.empty((n_obs,n_funds,n_simulations))*np.nan  # resids for each simulation\n",
    "constructed_Y_all = np.empty((n_obs,n_funds,n_simulations))*np.nan   # n_funds fund returns for each sim\n",
    "sim_indices = np.random.randint(0, n_obs, size=(n_obs,n_simulations))    # randomized simulations\n",
    "\n",
    "# run simulations and fill matrices\n",
    "for simulation in range(n_simulations):\n",
    "    # randomized simulations of Fama-French risk factors: Mkt-RF, SMB, HML\n",
    "    constructed_X_mat[:,:,simulation] = X_mat.values[:,1:4][sim_indices[:,simulation],:] \n",
    "    \n",
    "    # randomized simulations of residuals from Fama-French equations\n",
    "    constructed_resids[:,:,simulation] = orig_resids[sim_indices[:,simulation],:]  \n",
    "    \n",
    "    #simulated returns based on fund betas, randomized resids and alphas (0?)\n",
    "    constructed_Y_all[:,:,simulation] = temp_alpha[:,:,simulation] + \\\n",
    "                                        np.matmul(constructed_X_mat[:,:,simulation], orig_betas) + \\\n",
    "                                        constructed_resids[:,:,simulation] \n",
    "# Check shapes\n",
    "constructed_X_mat.shape, constructed_resids.shape, constructed_Y_all.shape\n"
   ]
  },
  {
   "cell_type": "markdown",
   "metadata": {
    "colab_type": "text",
    "id": "FVnjuk5PtSoI"
   },
   "source": [
    "## 4. Performing regressions on simulated series"
   ]
  },
  {
   "cell_type": "code",
   "execution_count": 30,
   "metadata": {
    "colab": {
     "base_uri": "https://localhost:8080/",
     "height": 34
    },
    "colab_type": "code",
    "id": "4oTLAmaNPMIA",
    "outputId": "f50a908e-1916-457e-e8bc-10186ccaf002"
   },
   "outputs": [
    {
     "data": {
      "text/plain": [
       "((4, 125, 1000), array([nan, nan, nan, nan]))"
      ]
     },
     "execution_count": 30,
     "metadata": {},
     "output_type": "execute_result"
    }
   ],
   "source": [
    "# Script that does bootstrap regression results for all funds.\n",
    "\n",
    "# Set minumum number of observations(n) required in simulation for the\n",
    "# regression to be valid:\n",
    "sim_cutoff = 15\n",
    "\n",
    "# Populate target output vectors to be filled in with loop:\n",
    "sim_coeffs = np.empty((n_factors+1,n_funds,n_simulations))*np.nan\n",
    "sim_SE_coeffs = np.empty((n_factors+1,n_funds,n_simulations))*np.nan\n",
    "\n",
    "#sim_coeffs.shape, sim_coeffs\n",
    "sim_coeffs.shape, sim_coeffs[:,1,1]"
   ]
  },
  {
   "cell_type": "code",
   "execution_count": 31,
   "metadata": {
    "colab": {
     "base_uri": "https://localhost:8080/",
     "height": 34
    },
    "colab_type": "code",
    "id": "juWbXIoKQXrL",
    "outputId": "0d64ac3f-f05d-4b4a-90bb-ea459f255231"
   },
   "outputs": [
    {
     "data": {
      "text/plain": [
       "((125, 1000), 240)"
      ]
     },
     "execution_count": 31,
     "metadata": {},
     "output_type": "execute_result"
    }
   ],
   "source": [
    "# Calculate number of observations per fund per simulation for future\n",
    "# reference:\n",
    "n_i_s = (~np.isnan(constructed_Y_all)).sum(0)\n",
    "n_i_s.shape, n_i_s[0,99]"
   ]
  },
  {
   "cell_type": "code",
   "execution_count": 32,
   "metadata": {
    "colab": {
     "base_uri": "https://localhost:8080/",
     "height": 2142
    },
    "colab_type": "code",
    "id": "ifTu0rGImmgH",
    "outputId": "360ca3ac-1752-4142-a6d9-ca6714a8adc1"
   },
   "outputs": [
    {
     "data": {
      "text/plain": [
       "((125, 1000), numpy.int64)"
      ]
     },
     "execution_count": 32,
     "metadata": {},
     "output_type": "execute_result"
    }
   ],
   "source": [
    "# Calculate the lag selection parameter for the standard Newey-West HAC\n",
    "# estimate (Andrews and Monohan, 1992), one number per fund per simulation:\n",
    "maxLag_s = np.floor((4*(n_i_s/100)**(2/9))).astype(int)\n",
    "maxLag_s.shape, type(maxLag_s[1,1])"
   ]
  },
  {
   "cell_type": "code",
   "execution_count": 33,
   "metadata": {
    "colab": {},
    "colab_type": "code",
    "id": "tIs1XLwEtBMI"
   },
   "outputs": [],
   "source": [
    "# Set up regression function with Newey-West Standard Errors (HAC)\n",
    "def ols_s(left_side, right_side, maxLag_temp):\n",
    "    result = sm.OLS(left_side, right_side, missing='drop').fit(cov_type='HAC',cov_kwds={'maxlags':maxLag_temp})\n",
    "    return result"
   ]
  },
  {
   "cell_type": "code",
   "execution_count": 34,
   "metadata": {
    "colab": {
     "base_uri": "https://localhost:8080/",
     "height": 1394
    },
    "colab_type": "code",
    "id": "VS6uFyQlm3C6",
    "outputId": "6b4793bd-626c-429d-b93d-c45919bdeb9d"
   },
   "outputs": [
    {
     "name": "stdout",
     "output_type": "stream",
     "text": [
      "                            OLS Regression Results                            \n",
      "==============================================================================\n",
      "Dep. Variable:                      y   R-squared:                       0.914\n",
      "Model:                            OLS   Adj. R-squared:                  0.913\n",
      "Method:                 Least Squares   F-statistic:                     550.6\n",
      "Date:                Mon, 25 Feb 2019   Prob (F-statistic):          3.16e-106\n",
      "Time:                        14:05:51   Log-Likelihood:                -324.42\n",
      "No. Observations:                 240   AIC:                             656.8\n",
      "Df Residuals:                     236   BIC:                             670.8\n",
      "Df Model:                           3                                         \n",
      "Covariance Type:                  HAC                                         \n",
      "==============================================================================\n",
      "                 coef    std err          z      P>|z|      [0.025      0.975]\n",
      "------------------------------------------------------------------------------\n",
      "const         -0.0464      0.064     -0.724      0.469      -0.172       0.079\n",
      "x1             0.6924      0.017     39.795      0.000       0.658       0.726\n",
      "x2            -0.2637      0.038     -6.959      0.000      -0.338      -0.189\n",
      "x3             0.0797      0.040      2.007      0.045       0.002       0.158\n",
      "==============================================================================\n",
      "Omnibus:                        3.639   Durbin-Watson:                   1.995\n",
      "Prob(Omnibus):                  0.162   Jarque-Bera (JB):                4.197\n",
      "Skew:                           0.076   Prob(JB):                        0.123\n",
      "Kurtosis:                       3.630   Cond. No.                         4.65\n",
      "==============================================================================\n",
      "\n",
      "Warnings:\n",
      "[1] Standard Errors are heteroscedasticity and autocorrelation robust (HAC) using 2 lags and without small sample correction\n"
     ]
    }
   ],
   "source": [
    "xa = sm.add_constant(constructed_X_mat[:,:,0])\n",
    "ya_sample = constructed_Y_all[:,0,0]\n",
    "lma = ols_s(ya_sample, xa,2)\n",
    "print(lma.summary())"
   ]
  },
  {
   "cell_type": "markdown",
   "metadata": {},
   "source": [
    "This one takes a bit. 1000 simulations * 125 funds = 125,000 regressions to run"
   ]
  },
  {
   "cell_type": "code",
   "execution_count": 35,
   "metadata": {
    "colab": {
     "base_uri": "https://localhost:8080/",
     "height": 238
    },
    "colab_type": "code",
    "id": "1oP26kTqq4dy",
    "outputId": "5755518e-ec1b-4240-edd6-ebcf644ab269"
   },
   "outputs": [
    {
     "data": {
      "text/plain": [
       "((4, 125, 1000), (4, 125, 1000), (4, 125, 1000))"
      ]
     },
     "execution_count": 35,
     "metadata": {},
     "output_type": "execute_result"
    }
   ],
   "source": [
    "# Loop through each simulation run:\n",
    "for sim in range(n_simulations):\n",
    "    \n",
    "    #Loop through each fund:\n",
    "    for fund in range(n_funds):\n",
    "        \n",
    "        if n_i_s[fund,sim]>= sim_cutoff:\n",
    "            \n",
    "            xa = sm.add_constant(constructed_X_mat[:,:,sim])\n",
    "            ya_sample = constructed_Y_all[:,fund,sim]\n",
    "            maxLag_temp = maxLag_s[fund,sim]\n",
    "\n",
    "            # linear regression\n",
    "            lma = ols_s(ya_sample, xa, maxLag_temp)\n",
    "            sim_SE_coeffs[:,fund,sim] = lma.bse\n",
    "            sim_coeffs[:,fund,sim] = lma.params\n",
    "\n",
    "sim_t_stats = np.divide(sim_coeffs,sim_SE_coeffs)\n",
    "sim_t_stats.shape, sim_coeffs.shape, sim_SE_coeffs.shape"
   ]
  },
  {
   "cell_type": "markdown",
   "metadata": {
    "colab_type": "text",
    "id": "SltFk8WjzDkW"
   },
   "source": [
    "## 5. Estimating/constructing the bootstrapping results/tables"
   ]
  },
  {
   "cell_type": "code",
   "execution_count": 36,
   "metadata": {
    "colab": {
     "base_uri": "https://localhost:8080/",
     "height": 34
    },
    "colab_type": "code",
    "id": "65v5Q6btzPzl",
    "outputId": "5fb4bb60-8294-442a-8177-c6a77b8e3f82"
   },
   "outputs": [
    {
     "data": {
      "text/plain": [
       "([0.1, 0.2, 0.3, 0.4, 0.5, 0.6, 0.7, 0.8, 0.9], list)"
      ]
     },
     "execution_count": 36,
     "metadata": {},
     "output_type": "execute_result"
    }
   ],
   "source": [
    "# This script calculates the averages of alphas/t-stat in different\n",
    "# ranks/percentiles of the simulation runs. Additionally, it estimates the\n",
    "# percent of simulated alphas/t-stats of each rank/percentile, that are\n",
    "# lower than the 'actual' (historically observed) alpha/t-stat at the same\n",
    "# rank/percentile.\n",
    "\n",
    "# NOTE: With 100 funds to calculate percentiles from, for the low and high\n",
    "# percentiles, we rather use the value of funds with rank #1-5 and 97-101.\n",
    "# For the 'middle' percentiles, we use matlab's 'prctile(___)'-function\n",
    "# which interpolates linearly between observations.\n",
    "\n",
    "# Construct matrix of relevant percentages (10 through 90);\n",
    "percentages = [.10, .20, .30, .40, .50, .60, .70, .80, .90]\n",
    "percentages, type(percentages)"
   ]
  },
  {
   "cell_type": "code",
   "execution_count": 61,
   "metadata": {
    "colab": {
     "base_uri": "https://localhost:8080/",
     "height": 476
    },
    "colab_type": "code",
    "id": "cP3vPg5EzBDj",
    "outputId": "dec66c04-28cb-4551-f058-db952ab68d99",
    "scrolled": true
   },
   "outputs": [
    {
     "data": {
      "text/plain": [
       "((125, 1), (125, 1))"
      ]
     },
     "execution_count": 61,
     "metadata": {},
     "output_type": "execute_result"
    }
   ],
   "source": [
    "# Sort original alphas and t-values in order to extract top/bottom ranked values:\n",
    "temp_sorted_orig_a = orig_coeffs.take([0], axis=0).sort_values(by=['Alpha'], axis=1, ascending = [0]).T\n",
    "temp_sorted_orig_t = orig_t_stats.take([0], axis=0).sort_values(by=['t(Alpha)'], axis=1, ascending = [0]).T\n",
    "temp_sorted_orig_a.shape, temp_sorted_orig_t.shape "
   ]
  },
  {
   "cell_type": "code",
   "execution_count": 65,
   "metadata": {
    "colab": {
     "base_uri": "https://localhost:8080/",
     "height": 357
    },
    "colab_type": "code",
    "id": "Sjtwiz0tnnYx",
    "outputId": "12ca358e-47e4-4e41-914a-acd686ada33d"
   },
   "outputs": [
    {
     "data": {
      "text/plain": [
       "[          Alpha\n",
       " IVNCX -0.229878\n",
       " ICVIX -0.222565\n",
       " ADVDX -0.219048\n",
       " SERNX -0.190659\n",
       " AWAAX -0.188634,         Alpha\n",
       " 0.1 -0.138338\n",
       " 0.2 -0.089291\n",
       " 0.3 -0.058700\n",
       " 0.4 -0.028486\n",
       " 0.5  0.008053\n",
       " 0.6  0.042440\n",
       " 0.7  0.093222\n",
       " 0.8  0.140291\n",
       " 0.9  0.205200,           Alpha\n",
       " AXAGE  0.296094\n",
       " TEQAX  0.321823\n",
       " MAGCX  0.392557\n",
       " MGGPX  0.423748\n",
       " MSFBX  0.427591]"
      ]
     },
     "execution_count": 65,
     "metadata": {},
     "output_type": "execute_result"
    }
   ],
   "source": [
    "percentiles_orig_a = [temp_sorted_orig_a.tail(5).iloc[::-1], \\\n",
    "                       temp_sorted_orig_a.quantile(percentages),\\\n",
    "                       temp_sorted_orig_a.head(5).iloc[::-1]]\n",
    "percentiles_orig_a"
   ]
  },
  {
   "cell_type": "code",
   "execution_count": 66,
   "metadata": {
    "colab": {
     "base_uri": "https://localhost:8080/",
     "height": 357
    },
    "colab_type": "code",
    "id": "AT_IErbH6sjp",
    "outputId": "d62a4f5e-85c5-4863-a913-125565799bfc"
   },
   "outputs": [
    {
     "data": {
      "text/plain": [
       "[             t(Alpha)\n",
       " AWAAX       -3.787495\n",
       " ATWAX       -3.702615\n",
       " Unnamed: 68 -2.998788\n",
       " IVNCX       -2.432716\n",
       " TMUIX       -2.070504,      t(Alpha)\n",
       " 0.1 -1.634098\n",
       " 0.2 -1.227415\n",
       " 0.3 -0.609360\n",
       " 0.4 -0.300439\n",
       " 0.5  0.053437\n",
       " 0.6  0.398654\n",
       " 0.7  0.784608\n",
       " 0.8  1.261662\n",
       " 0.9  1.754968,               t(Alpha)\n",
       " IGFAX         2.417043\n",
       " APHGX         2.596955\n",
       " Unnamed: 129  2.634869\n",
       " MSFBX         3.149317\n",
       " CNPAX         3.407998]"
      ]
     },
     "execution_count": 66,
     "metadata": {},
     "output_type": "execute_result"
    }
   ],
   "source": [
    "# temp_sorted_orig_t = orig_t_stats.take([0], axis=0).sort_values(by=['t(alpha)'], axis=1, ascending = [0])\n",
    "temp1t = temp_sorted_orig_t.tail(5)[::-1]\n",
    "temp2t = temp_sorted_orig_t.quantile(percentages)\n",
    "temp3t = temp_sorted_orig_t.head(5)[::-1]\n",
    "percentiles_orig_t = [temp1t, temp2t, temp3t]\n",
    "percentiles_orig_t"
   ]
  },
  {
   "cell_type": "code",
   "execution_count": 72,
   "metadata": {
    "colab": {
     "base_uri": "https://localhost:8080/",
     "height": 238
    },
    "colab_type": "code",
    "id": "k5ctO5M0CcrG",
    "outputId": "44821881-08ef-482d-b208-af1d1079fb14"
   },
   "outputs": [
    {
     "data": {
      "text/plain": [
       "(1000, 125)"
      ]
     },
     "execution_count": 72,
     "metadata": {},
     "output_type": "execute_result"
    }
   ],
   "source": [
    "# Find averages of simulated ranks/percentiles for alphas and t-values:\n",
    "# NOTE: For each simulation run, we find the percentiles corresponding to the\n",
    "# percentages above and the top/bottom 5 ranked values. For each\n",
    "# rank/percentile, we then take the average of the alphas/t-stats over\n",
    "# all simulation runs with ('prctile'-formula treats 'NaN' values as\n",
    "# missing and removes them, so this is not a problem). Some simulation runs\n",
    "# may have less than 101 valid regressions (due to some funds with short\n",
    "# original series and our required number of observations for a regression\n",
    "# to be valid).\n",
    "\n",
    "# Ascending sort of simulated alphas per simulation:\n",
    "temp_sort_asc_sim_a = np.sort(sim_coeffs[0,:,:].T, axis=1)\n",
    "temp_sort_asc_sim_a.shape"
   ]
  },
  {
   "cell_type": "code",
   "execution_count": 78,
   "metadata": {
    "colab": {
     "base_uri": "https://localhost:8080/",
     "height": 238
    },
    "colab_type": "code",
    "id": "Tp1IIaHMjQY4",
    "outputId": "d4d02a57-3919-41c0-98ce-eae844ad3cf6"
   },
   "outputs": [
    {
     "data": {
      "text/plain": [
       "array([[-1.79316545, -1.69290828, -1.59162139, ...,  2.24899993,\n",
       "         2.38420711,  2.51822493],\n",
       "       [-3.63168598, -2.18734921, -2.0140462 , ...,  2.17030427,\n",
       "         2.42582529,  2.5936539 ],\n",
       "       [-2.29046067, -2.28028817, -2.08713744, ...,  1.32490902,\n",
       "         1.62754608,  2.20835531],\n",
       "       ...,\n",
       "       [-1.95556073, -1.93109152, -1.77449457, ...,  2.25573219,\n",
       "         2.64616553,  3.21618574],\n",
       "       [-2.34290737, -2.24887111, -2.19476335, ...,  1.98233057,\n",
       "         2.40743559,  2.60126735],\n",
       "       [-2.75552502, -2.5020493 , -2.38649784, ...,  0.95799275,\n",
       "         1.43305076,  2.07038192]])"
      ]
     },
     "execution_count": 78,
     "metadata": {},
     "output_type": "execute_result"
    }
   ],
   "source": [
    "# Ascending sort of simulated t-stats per simulation:\n",
    "temp_sort_asc_sim_t = np.sort(sim_t_stats[0,:,:].T, axis=1)\n",
    "temp_sort_asc_sim_t.shape"
   ]
  },
  {
   "cell_type": "code",
   "execution_count": 92,
   "metadata": {
    "colab": {
     "base_uri": "https://localhost:8080/",
     "height": 561
    },
    "colab_type": "code",
    "id": "w16fk8H0jw1J",
    "outputId": "245e76cb-c937-49be-f485-1422359e1fc7"
   },
   "outputs": [
    {
     "data": {
      "text/plain": [
       "(array([[-0.29813672, -0.35368995, -0.31830288, ..., -0.26891435,\n",
       "         -0.35682621, -0.35156936],\n",
       "        [-0.24137571, -0.3206212 , -0.30995228, ..., -0.22189064,\n",
       "         -0.25197245, -0.29129034],\n",
       "        [-0.16690615, -0.24536416, -0.30668417, ..., -0.19325408,\n",
       "         -0.23989391, -0.2759839 ],\n",
       "        ...,\n",
       "        [ 0.21309655,  0.24739306,  0.16545962, ...,  0.21267976,\n",
       "          0.31995381,  0.10771364],\n",
       "        [ 0.21723759,  0.26604   ,  0.18775489, ...,  0.25380626,\n",
       "          0.40186805,  0.11251564],\n",
       "        [ 0.21869494,  0.53035404,  0.20595085, ...,  0.38758604,\n",
       "          0.40615972,  0.15950765]]), [          Alpha\n",
       "  IVNCX -0.229878\n",
       "  ICVIX -0.222565\n",
       "  ADVDX -0.219048\n",
       "  SERNX -0.190659\n",
       "  AWAAX -0.188634,         Alpha\n",
       "  0.1 -0.138338\n",
       "  0.2 -0.089291\n",
       "  0.3 -0.058700\n",
       "  0.4 -0.028486\n",
       "  0.5  0.008053\n",
       "  0.6  0.042440\n",
       "  0.7  0.093222\n",
       "  0.8  0.140291\n",
       "  0.9  0.205200,           Alpha\n",
       "  AXAGE  0.296094\n",
       "  TEQAX  0.321823\n",
       "  MAGCX  0.392557\n",
       "  MGGPX  0.423748\n",
       "  MSFBX  0.427591])"
      ]
     },
     "execution_count": 92,
     "metadata": {},
     "output_type": "execute_result"
    }
   ],
   "source": [
    "# Construct matrix containing the top/bottom 5 ranks and 9 different\n",
    "# percentiles of alpha each simulation (result is a 21 x 10000 matrix):\n",
    "\n",
    "\n",
    "percentages1 = [10,20,30,40,50,60,70,80,90]\n",
    "temp_percentiles_sim_a = np.concatenate((temp_sort_asc_sim_a.T[0:5,:],\\\n",
    "                                         np.percentile(sim_coeffs[0,:,:].T,\\\n",
    "                                                       percentages1, axis = 1),\\\n",
    "                                         temp_sort_asc_sim_a.T[-5:,:]))\n",
    "temp_percentiles_sim_a, percentiles_orig_a"
   ]
  },
  {
   "cell_type": "code",
   "execution_count": 90,
   "metadata": {
    "colab": {
     "base_uri": "https://localhost:8080/",
     "height": 3417
    },
    "colab_type": "code",
    "id": "qbNleDmmj79M",
    "outputId": "1b583ebe-909a-4392-df0e-fae71399ff37"
   },
   "outputs": [
    {
     "data": {
      "text/plain": [
       "(19, 1000)"
      ]
     },
     "execution_count": 90,
     "metadata": {},
     "output_type": "execute_result"
    }
   ],
   "source": [
    "# Construct matrix containing the top/bottom 5 ranks and 9 different\n",
    "# percentiles of t-stat in each simulation (result is a 21 x 10000 matrix):\n",
    "\n",
    "temp_percentiles_sim_t = np.concatenate((temp_sort_asc_sim_t.T[0:5,:],\\\n",
    "                                         np.percentile(sim_t_stats[0,:,:].T, percentages1, axis = 1),\\\n",
    "                                         temp_sort_asc_sim_t.T[-5:,:]))\n",
    "temp_percentiles_sim_t.shape"
   ]
  },
  {
   "cell_type": "code",
   "execution_count": 0,
   "metadata": {
    "colab": {
     "base_uri": "https://localhost:8080/",
     "height": 153
    },
    "colab_type": "code",
    "id": "HqqzqU298kW1",
    "outputId": "bec0f3d2-4619-4373-ca5a-04be48610c12"
   },
   "outputs": [
    {
     "data": {
      "text/plain": [
       "(array([-0.33796649, -0.26894227, -0.23703043, -0.21516882, -0.1994744 ,\n",
       "        -0.12804595, -0.07967369, -0.0492462 , -0.02474648, -0.00239923,\n",
       "         0.02022153,  0.04476189,  0.07586237,  0.12392345,  0.19501151,\n",
       "         0.2115141 ,  0.23301709,  0.26665145,  0.33693437]),\n",
       " array([-2.67552481, -2.31051443, -2.10383401, -1.96740323, -1.85528888,\n",
       "        -1.30913516, -0.86687035, -0.55098646, -0.28106194, -0.02994312,\n",
       "         0.22725451,  0.49351517,  0.80636352,  1.23846299,  1.76473903,\n",
       "         1.87164569,  2.00828623,  2.2062045 ,  2.52989765]))"
      ]
     },
     "execution_count": 49,
     "metadata": {
      "tags": []
     },
     "output_type": "execute_result"
    }
   ],
   "source": [
    "#Take the means across each rank/percentile:\n",
    "\n",
    "mean_percentiles_sim_a = np.nanmean(temp_percentiles_sim_a, axis=1)\n",
    "mean_percentiles_sim_t = np.nanmean(temp_percentiles_sim_t, axis=1)\n",
    "mean_percentiles_sim_a, mean_percentiles_sim_t\n"
   ]
  },
  {
   "cell_type": "code",
   "execution_count": 0,
   "metadata": {
    "colab": {
     "base_uri": "https://localhost:8080/",
     "height": 85
    },
    "colab_type": "code",
    "id": "Aw7OwDi-8vcI",
    "outputId": "9cdd3858-1237-4f01-9dc2-bd94bdda36ed"
   },
   "outputs": [
    {
     "data": {
      "text/plain": [
       "(array([87.9, 72.8, 58.5, 65.8, 56.6, 37.5, 38. , 36.2, 42.8, 64.3, 80.1,\n",
       "        95.4, 97.6, 98.3, 96.5, 96.2, 98.2, 96.4, 81.5]),\n",
       " array([ 5.5,  1.1,  4.3, 13.3, 29.7, 17.3, 14.3, 42.8, 46.2, 60.1, 70.8,\n",
       "        82.5, 91.5, 93.3, 93.7, 94.5, 91.1, 96.1, 93.3]))"
      ]
     },
     "execution_count": 50,
     "metadata": {
      "tags": []
     },
     "output_type": "execute_result"
    }
   ],
   "source": [
    "# Calculate the percentage of simulated alphas in each rank/percentile that % are smaller than actual alpha (and same for t-values):  \n",
    "# sim_smaller_a = ...     \n",
    "#   sum(temp_percentiles_sim_a < repmat(percentiles_orig_a,1,s),2) /s*100; \n",
    "#   sim_smaller_t = ...     sum(temp_percentiles_sim_t < repmat(percentiles_orig_t,1,s),2) /s*100; \n",
    "\n",
    "sim_smaller_a = np.sum(temp_percentiles_sim_a < np.tile(np.vstack(percentiles_orig_a),(1,s)), axis=1)/s*100\n",
    "sim_smaller_t = np.sum(temp_percentiles_sim_t < np.tile(np.vstack(percentiles_orig_t),(1,s)), axis=1)/s*100\n",
    "sim_smaller_a, sim_smaller_t\n"
   ]
  },
  {
   "cell_type": "code",
   "execution_count": 0,
   "metadata": {
    "colab": {
     "base_uri": "https://localhost:8080/",
     "height": 669
    },
    "colab_type": "code",
    "id": "fsn9CB8980tB",
    "outputId": "34ebdda4-e133-40be-bb7c-d43ef94e960f"
   },
   "outputs": [
    {
     "data": {
      "text/html": [
       "<div>\n",
       "<style scoped>\n",
       "    .dataframe tbody tr th:only-of-type {\n",
       "        vertical-align: middle;\n",
       "    }\n",
       "\n",
       "    .dataframe tbody tr th {\n",
       "        vertical-align: top;\n",
       "    }\n",
       "\n",
       "    .dataframe thead th {\n",
       "        text-align: right;\n",
       "    }\n",
       "</style>\n",
       "<table border=\"1\" class=\"dataframe\">\n",
       "  <thead>\n",
       "    <tr style=\"text-align: right;\">\n",
       "      <th></th>\n",
       "      <th>Actual</th>\n",
       "      <th>Sim Avg</th>\n",
       "      <th>%&lt;Act</th>\n",
       "    </tr>\n",
       "    <tr>\n",
       "      <th>Rank/pctl</th>\n",
       "      <th></th>\n",
       "      <th></th>\n",
       "      <th></th>\n",
       "    </tr>\n",
       "  </thead>\n",
       "  <tbody>\n",
       "    <tr>\n",
       "      <th>Worst</th>\n",
       "      <td>-0.229878</td>\n",
       "      <td>-0.337966</td>\n",
       "      <td>87.9</td>\n",
       "    </tr>\n",
       "    <tr>\n",
       "      <th>2nd</th>\n",
       "      <td>-0.222565</td>\n",
       "      <td>-0.268942</td>\n",
       "      <td>72.8</td>\n",
       "    </tr>\n",
       "    <tr>\n",
       "      <th>3rd</th>\n",
       "      <td>-0.219048</td>\n",
       "      <td>-0.237030</td>\n",
       "      <td>58.5</td>\n",
       "    </tr>\n",
       "    <tr>\n",
       "      <th>4th</th>\n",
       "      <td>-0.190659</td>\n",
       "      <td>-0.215169</td>\n",
       "      <td>65.8</td>\n",
       "    </tr>\n",
       "    <tr>\n",
       "      <th>5th</th>\n",
       "      <td>-0.188634</td>\n",
       "      <td>-0.199474</td>\n",
       "      <td>56.6</td>\n",
       "    </tr>\n",
       "    <tr>\n",
       "      <th>10%</th>\n",
       "      <td>-0.138338</td>\n",
       "      <td>-0.128046</td>\n",
       "      <td>37.5</td>\n",
       "    </tr>\n",
       "    <tr>\n",
       "      <th>20%</th>\n",
       "      <td>-0.089291</td>\n",
       "      <td>-0.079674</td>\n",
       "      <td>38.0</td>\n",
       "    </tr>\n",
       "    <tr>\n",
       "      <th>30%</th>\n",
       "      <td>-0.058700</td>\n",
       "      <td>-0.049246</td>\n",
       "      <td>36.2</td>\n",
       "    </tr>\n",
       "    <tr>\n",
       "      <th>40%</th>\n",
       "      <td>-0.028486</td>\n",
       "      <td>-0.024746</td>\n",
       "      <td>42.8</td>\n",
       "    </tr>\n",
       "    <tr>\n",
       "      <th>50%</th>\n",
       "      <td>0.008053</td>\n",
       "      <td>-0.002399</td>\n",
       "      <td>64.3</td>\n",
       "    </tr>\n",
       "    <tr>\n",
       "      <th>60%</th>\n",
       "      <td>0.042440</td>\n",
       "      <td>0.020222</td>\n",
       "      <td>80.1</td>\n",
       "    </tr>\n",
       "    <tr>\n",
       "      <th>70%</th>\n",
       "      <td>0.093222</td>\n",
       "      <td>0.044762</td>\n",
       "      <td>95.4</td>\n",
       "    </tr>\n",
       "    <tr>\n",
       "      <th>80%</th>\n",
       "      <td>0.140291</td>\n",
       "      <td>0.075862</td>\n",
       "      <td>97.6</td>\n",
       "    </tr>\n",
       "    <tr>\n",
       "      <th>90%</th>\n",
       "      <td>0.205200</td>\n",
       "      <td>0.123923</td>\n",
       "      <td>98.3</td>\n",
       "    </tr>\n",
       "    <tr>\n",
       "      <th>5th</th>\n",
       "      <td>0.296094</td>\n",
       "      <td>0.195012</td>\n",
       "      <td>96.5</td>\n",
       "    </tr>\n",
       "    <tr>\n",
       "      <th>4th</th>\n",
       "      <td>0.321823</td>\n",
       "      <td>0.211514</td>\n",
       "      <td>96.2</td>\n",
       "    </tr>\n",
       "    <tr>\n",
       "      <th>3rd</th>\n",
       "      <td>0.392557</td>\n",
       "      <td>0.233017</td>\n",
       "      <td>98.2</td>\n",
       "    </tr>\n",
       "    <tr>\n",
       "      <th>2nd</th>\n",
       "      <td>0.423748</td>\n",
       "      <td>0.266651</td>\n",
       "      <td>96.4</td>\n",
       "    </tr>\n",
       "    <tr>\n",
       "      <th>Best</th>\n",
       "      <td>0.427591</td>\n",
       "      <td>0.336934</td>\n",
       "      <td>81.5</td>\n",
       "    </tr>\n",
       "  </tbody>\n",
       "</table>\n",
       "</div>"
      ],
      "text/plain": [
       "             Actual   Sim Avg  %<Act\n",
       "Rank/pctl                           \n",
       "Worst     -0.229878 -0.337966   87.9\n",
       "2nd       -0.222565 -0.268942   72.8\n",
       "3rd       -0.219048 -0.237030   58.5\n",
       "4th       -0.190659 -0.215169   65.8\n",
       "5th       -0.188634 -0.199474   56.6\n",
       "10%       -0.138338 -0.128046   37.5\n",
       "20%       -0.089291 -0.079674   38.0\n",
       "30%       -0.058700 -0.049246   36.2\n",
       "40%       -0.028486 -0.024746   42.8\n",
       "50%        0.008053 -0.002399   64.3\n",
       "60%        0.042440  0.020222   80.1\n",
       "70%        0.093222  0.044762   95.4\n",
       "80%        0.140291  0.075862   97.6\n",
       "90%        0.205200  0.123923   98.3\n",
       "5th        0.296094  0.195012   96.5\n",
       "4th        0.321823  0.211514   96.2\n",
       "3rd        0.392557  0.233017   98.2\n",
       "2nd        0.423748  0.266651   96.4\n",
       "Best       0.427591  0.336934   81.5"
      ]
     },
     "execution_count": 51,
     "metadata": {
      "tags": []
     },
     "output_type": "execute_result"
    }
   ],
   "source": [
    "# Combine the above in one table (one for alpha and one for t-stat): \n",
    "table_a1=pd.DataFrame(data=np.vstack(percentiles_orig_a))\n",
    "table_a2=pd.DataFrame(data=mean_percentiles_sim_a)\n",
    "table_a3=pd.DataFrame(data=sim_smaller_a)\n",
    "table_a4=pd.concat([table_a1, table_a2, table_a3], axis=1)\n",
    "table_a4.columns=['Actual','Sim Avg', '%<Act']\n",
    "idx = ['Worst','2nd','3rd','4th','5th','10%','20%','30%','40%','50%',\n",
    "       '60%','70%','80%','90%','5th','4th','3rd','2nd','Best']\n",
    "se=pd.Series(idx)\n",
    "table_a4['Rank/pctl']=se.values\n",
    "table_a = table_a4.set_index('Rank/pctl')\n",
    "table_a"
   ]
  },
  {
   "cell_type": "code",
   "execution_count": 0,
   "metadata": {
    "colab": {
     "base_uri": "https://localhost:8080/",
     "height": 669
    },
    "colab_type": "code",
    "id": "k1rsdsYr9Jx_",
    "outputId": "818c7929-c31b-4850-d658-a0b3cd4b4a2a"
   },
   "outputs": [
    {
     "data": {
      "text/html": [
       "<div>\n",
       "<style scoped>\n",
       "    .dataframe tbody tr th:only-of-type {\n",
       "        vertical-align: middle;\n",
       "    }\n",
       "\n",
       "    .dataframe tbody tr th {\n",
       "        vertical-align: top;\n",
       "    }\n",
       "\n",
       "    .dataframe thead th {\n",
       "        text-align: right;\n",
       "    }\n",
       "</style>\n",
       "<table border=\"1\" class=\"dataframe\">\n",
       "  <thead>\n",
       "    <tr style=\"text-align: right;\">\n",
       "      <th></th>\n",
       "      <th>Actual</th>\n",
       "      <th>Sim Avg</th>\n",
       "      <th>%&lt;Act</th>\n",
       "    </tr>\n",
       "    <tr>\n",
       "      <th>Rank/pctl</th>\n",
       "      <th></th>\n",
       "      <th></th>\n",
       "      <th></th>\n",
       "    </tr>\n",
       "  </thead>\n",
       "  <tbody>\n",
       "    <tr>\n",
       "      <th>Worst</th>\n",
       "      <td>-3.787495</td>\n",
       "      <td>-2.675525</td>\n",
       "      <td>5.5</td>\n",
       "    </tr>\n",
       "    <tr>\n",
       "      <th>2nd</th>\n",
       "      <td>-3.702615</td>\n",
       "      <td>-2.310514</td>\n",
       "      <td>1.1</td>\n",
       "    </tr>\n",
       "    <tr>\n",
       "      <th>3rd</th>\n",
       "      <td>-2.998788</td>\n",
       "      <td>-2.103834</td>\n",
       "      <td>4.3</td>\n",
       "    </tr>\n",
       "    <tr>\n",
       "      <th>4th</th>\n",
       "      <td>-2.432716</td>\n",
       "      <td>-1.967403</td>\n",
       "      <td>13.3</td>\n",
       "    </tr>\n",
       "    <tr>\n",
       "      <th>5th</th>\n",
       "      <td>-2.070504</td>\n",
       "      <td>-1.855289</td>\n",
       "      <td>29.7</td>\n",
       "    </tr>\n",
       "    <tr>\n",
       "      <th>10%</th>\n",
       "      <td>-1.634098</td>\n",
       "      <td>-1.309135</td>\n",
       "      <td>17.3</td>\n",
       "    </tr>\n",
       "    <tr>\n",
       "      <th>20%</th>\n",
       "      <td>-1.227415</td>\n",
       "      <td>-0.866870</td>\n",
       "      <td>14.3</td>\n",
       "    </tr>\n",
       "    <tr>\n",
       "      <th>30%</th>\n",
       "      <td>-0.609360</td>\n",
       "      <td>-0.550986</td>\n",
       "      <td>42.8</td>\n",
       "    </tr>\n",
       "    <tr>\n",
       "      <th>40%</th>\n",
       "      <td>-0.300439</td>\n",
       "      <td>-0.281062</td>\n",
       "      <td>46.2</td>\n",
       "    </tr>\n",
       "    <tr>\n",
       "      <th>50%</th>\n",
       "      <td>0.053437</td>\n",
       "      <td>-0.029943</td>\n",
       "      <td>60.1</td>\n",
       "    </tr>\n",
       "    <tr>\n",
       "      <th>60%</th>\n",
       "      <td>0.398654</td>\n",
       "      <td>0.227255</td>\n",
       "      <td>70.8</td>\n",
       "    </tr>\n",
       "    <tr>\n",
       "      <th>70%</th>\n",
       "      <td>0.784608</td>\n",
       "      <td>0.493515</td>\n",
       "      <td>82.5</td>\n",
       "    </tr>\n",
       "    <tr>\n",
       "      <th>80%</th>\n",
       "      <td>1.261662</td>\n",
       "      <td>0.806364</td>\n",
       "      <td>91.5</td>\n",
       "    </tr>\n",
       "    <tr>\n",
       "      <th>90%</th>\n",
       "      <td>1.754968</td>\n",
       "      <td>1.238463</td>\n",
       "      <td>93.3</td>\n",
       "    </tr>\n",
       "    <tr>\n",
       "      <th>5th</th>\n",
       "      <td>2.417043</td>\n",
       "      <td>1.764739</td>\n",
       "      <td>93.7</td>\n",
       "    </tr>\n",
       "    <tr>\n",
       "      <th>4th</th>\n",
       "      <td>2.596955</td>\n",
       "      <td>1.871646</td>\n",
       "      <td>94.5</td>\n",
       "    </tr>\n",
       "    <tr>\n",
       "      <th>3rd</th>\n",
       "      <td>2.634869</td>\n",
       "      <td>2.008286</td>\n",
       "      <td>91.1</td>\n",
       "    </tr>\n",
       "    <tr>\n",
       "      <th>2nd</th>\n",
       "      <td>3.149317</td>\n",
       "      <td>2.206205</td>\n",
       "      <td>96.1</td>\n",
       "    </tr>\n",
       "    <tr>\n",
       "      <th>Best</th>\n",
       "      <td>3.407998</td>\n",
       "      <td>2.529898</td>\n",
       "      <td>93.3</td>\n",
       "    </tr>\n",
       "  </tbody>\n",
       "</table>\n",
       "</div>"
      ],
      "text/plain": [
       "             Actual   Sim Avg  %<Act\n",
       "Rank/pctl                           \n",
       "Worst     -3.787495 -2.675525    5.5\n",
       "2nd       -3.702615 -2.310514    1.1\n",
       "3rd       -2.998788 -2.103834    4.3\n",
       "4th       -2.432716 -1.967403   13.3\n",
       "5th       -2.070504 -1.855289   29.7\n",
       "10%       -1.634098 -1.309135   17.3\n",
       "20%       -1.227415 -0.866870   14.3\n",
       "30%       -0.609360 -0.550986   42.8\n",
       "40%       -0.300439 -0.281062   46.2\n",
       "50%        0.053437 -0.029943   60.1\n",
       "60%        0.398654  0.227255   70.8\n",
       "70%        0.784608  0.493515   82.5\n",
       "80%        1.261662  0.806364   91.5\n",
       "90%        1.754968  1.238463   93.3\n",
       "5th        2.417043  1.764739   93.7\n",
       "4th        2.596955  1.871646   94.5\n",
       "3rd        2.634869  2.008286   91.1\n",
       "2nd        3.149317  2.206205   96.1\n",
       "Best       3.407998  2.529898   93.3"
      ]
     },
     "execution_count": 52,
     "metadata": {
      "tags": []
     },
     "output_type": "execute_result"
    }
   ],
   "source": [
    "# % Combine the above in one table (one for alpha and one for t-stat): \n",
    "table_t1=pd.DataFrame(data=np.vstack(percentiles_orig_t))\n",
    "table_t2=pd.DataFrame(data=mean_percentiles_sim_t)\n",
    "table_t3=pd.DataFrame(data=sim_smaller_t)\n",
    "table_t4=pd.concat([table_t1, table_t2, table_t3], axis=1)\n",
    "table_t4.columns=['Actual','Sim Avg', '%<Act']\n",
    "setn=pd.Series(idx)\n",
    "table_t4['Rank/pctl']=setn.values\n",
    "table_t = table_t4.set_index('Rank/pctl')\n",
    "table_t"
   ]
  },
  {
   "cell_type": "markdown",
   "metadata": {
    "colab_type": "text",
    "id": "9pM6X8hE39Qm"
   },
   "source": [
    "## 6. Generating CDF Plots"
   ]
  },
  {
   "cell_type": "code",
   "execution_count": 0,
   "metadata": {
    "colab": {},
    "colab_type": "code",
    "id": "pderE2wV9lgV"
   },
   "outputs": [],
   "source": [
    "# Generate CDF plot for alphas: \n",
    "prct=np.arange(1,100,1)\n",
    "smpl1=orig_coeffs.transpose()['Alpha']\n",
    "smpl2=sim_coeffs[0,:,:].flatten()\n",
    "smpl3=orig_t_stats.transpose()['t(alpha)']\n",
    "smpl4=sim_t_stats[0,:,:].flatten()\n",
    "smpl5=np.nanmean(np.percentile(sim_coeffs[0,:,:], prct, axis=0), axis=1)\n",
    "smpl6=np.nanmean(np.percentile(sim_t_stats[0,:,:], prct, axis=0), axis=1)\n",
    "\n",
    "def ecdf(sample):\n",
    "    sample = np.atleast_1d(sample)\n",
    "    quantiles, counts = np.unique(sample, return_counts=True)\n",
    "    cumprob = np.cumsum(counts).astype(np.double) / sample.size\n",
    "\n",
    "    return quantiles, cumprob\n",
    "\n"
   ]
  },
  {
   "cell_type": "code",
   "execution_count": 0,
   "metadata": {
    "colab": {
     "base_uri": "https://localhost:8080/",
     "height": 952
    },
    "colab_type": "code",
    "id": "1eM-dhtBwUJA",
    "outputId": "48e1f085-203c-4d64-aaed-644063b79757"
   },
   "outputs": [
    {
     "data": {
      "text/plain": [
       "array([[[ 6.61838194e-02, -2.06780910e+00, -9.88427297e-01, ...,\n",
       "         -6.05513507e-01,  8.17944909e-01,  9.98284884e-01],\n",
       "        [ 1.38433875e+00, -2.22902914e+00, -4.49476880e-01, ...,\n",
       "         -1.87220030e-01,  1.16288331e+00, -3.36962304e-01],\n",
       "        [-2.66479425e+00,  6.63475084e-01,  3.42035967e-02, ...,\n",
       "          9.50577951e-01, -1.25286289e+00, -8.54263835e-01],\n",
       "        ...,\n",
       "        [ 3.59853106e-01, -4.10092890e-01, -1.46030287e+00, ...,\n",
       "          1.90110964e+00,  1.66832473e+00, -8.54460669e-01],\n",
       "        [ 7.70485403e-01, -3.45880505e-01, -5.45656985e-02, ...,\n",
       "          1.63791715e+00,  1.71688824e+00,  5.86918935e-01],\n",
       "        [ 1.41168438e+00, -5.40041141e-01, -3.82764188e-01, ...,\n",
       "         -4.71491388e-01, -1.62903988e-01,  2.37920435e-01]],\n",
       "\n",
       "       [[ 7.42233851e+01,  5.78701455e+01,  6.22505275e+01, ...,\n",
       "          7.12369166e+01,  5.87249917e+01,  4.92597213e+01],\n",
       "        [ 5.51147404e+01,  6.01584569e+01,  6.78101179e+01, ...,\n",
       "          4.73296611e+01,  4.07226065e+01,  5.36512907e+01],\n",
       "        [ 4.15814087e+01,  4.01466838e+01,  4.37413614e+01, ...,\n",
       "          3.50646159e+01,  3.24767313e+01,  3.08344207e+01],\n",
       "        ...,\n",
       "        [ 3.32528551e+01,  3.70219720e+01,  2.88305823e+01, ...,\n",
       "          4.00286891e+01,  3.58595203e+01,  4.29825836e+01],\n",
       "        [ 3.34928186e+01,  2.52547505e+01,  2.23134092e+01, ...,\n",
       "          3.58113770e+01,  3.40893689e+01,  2.28018832e+01],\n",
       "        [ 2.63397814e+01,  2.90866570e+01,  2.67835833e+01, ...,\n",
       "          2.57589122e+01,  2.64827851e+01,  3.01237849e+01]],\n",
       "\n",
       "       [[ 1.47584175e+00,  1.37831558e+00,  1.10524999e+00, ...,\n",
       "          5.76504404e-01,  1.16632734e+00,  1.50871409e+00],\n",
       "        [ 6.60464084e+00,  5.56260880e+00,  7.00917708e+00, ...,\n",
       "          6.03241345e+00,  6.57061737e+00,  7.63263701e+00],\n",
       "        [-1.15009084e+00, -1.18102348e+00, -1.77618628e+00, ...,\n",
       "         -1.39566074e+00, -9.57859710e-01, -8.41241421e-01],\n",
       "        ...,\n",
       "        [ 1.81321683e+01,  1.52622951e+01,  1.55272643e+01, ...,\n",
       "          1.29677904e+01,  1.96862166e+01,  1.20836057e+01],\n",
       "        [ 2.53661063e+00,  3.41809201e+00,  2.80043945e+00, ...,\n",
       "          3.32270962e+00,  2.03574494e+00,  5.59132242e+00],\n",
       "        [-5.68058910e+00, -4.42839363e+00, -6.61624001e+00, ...,\n",
       "         -3.86667541e+00, -5.86204727e+00, -6.10640321e+00]],\n",
       "\n",
       "       [[-1.62514687e+00, -7.97520960e-01, -8.05909866e-02, ...,\n",
       "         -7.08152008e-01, -1.90037487e+00, -2.14699700e+00],\n",
       "        [ 1.36113327e+01,  1.08327262e+01,  1.22635192e+01, ...,\n",
       "          1.38608893e+01,  1.63311337e+01,  1.46427085e+01],\n",
       "        [-1.98147021e+00, -2.26761356e+00, -1.13332652e+00, ...,\n",
       "         -2.86863934e+00, -3.05174166e+00, -2.12664817e+00],\n",
       "        ...,\n",
       "        [-4.42018192e+00, -4.50058856e+00, -3.28985590e+00, ...,\n",
       "         -8.60241706e+00, -5.21961993e+00, -4.94034231e+00],\n",
       "        [-7.46983785e+00, -9.15850754e+00, -7.20108890e+00, ...,\n",
       "         -8.22151274e+00, -1.18954611e+01, -8.01316964e+00],\n",
       "        [ 8.16390020e-01,  1.47903513e+00,  9.67107150e-01, ...,\n",
       "          9.00932267e-01,  1.11125266e+00,  1.03302862e+00]]])"
      ]
     },
     "execution_count": 55,
     "metadata": {
      "tags": []
     },
     "output_type": "execute_result"
    }
   ],
   "source": [
    "sim_t_stats"
   ]
  },
  {
   "cell_type": "code",
   "execution_count": 0,
   "metadata": {
    "colab": {
     "base_uri": "https://localhost:8080/",
     "height": 426
    },
    "colab_type": "code",
    "id": "1R1x7u9f9t7R",
    "outputId": "d4558b26-996c-4a45-98e1-efce6886fd00"
   },
   "outputs": [
    {
     "data": {
      "image/png": "[encoded data removed]",
      "text/plain": [
       "<Figure size 576x396 with 1 Axes>"
      ]
     },
     "metadata": {
      "tags": []
     },
     "output_type": "display_data"
    }
   ],
   "source": [
    "#Generate CDF plot for alphas: \n",
    "\n",
    "# compute the ECDF of the samples\n",
    "qe, pe = ecdf(smpl5)\n",
    "q, p = ecdf(smpl1)\n",
    "\n",
    "# plot\n",
    "fig, ax = plt.subplots(1, 1)\n",
    "ax.plot(q, p, '-k', lw=2, label='Actual CDF')\n",
    "ax.plot(qe, pe, '-r', lw=2, label='Simulated alpha CDF')\n",
    "ax.set_xlabel('alpha')\n",
    "ax.set_ylabel('Cumulative probability')\n",
    "ax.legend(fancybox=True, loc='right')\n",
    "plt.title('\\n\\nEmpirical CDF for actual and simulated alpha', fontsize=20)\n",
    "plt.show()"
   ]
  },
  {
   "cell_type": "code",
   "execution_count": 0,
   "metadata": {
    "colab": {
     "base_uri": "https://localhost:8080/",
     "height": 426
    },
    "colab_type": "code",
    "id": "hkQgQtqQ-ims",
    "outputId": "17d59936-8285-411b-818f-40cb92b660bd"
   },
   "outputs": [
    {
     "data": {
      "image/png": "[encoded data removed]",
      "text/plain": [
       "<Figure size 576x396 with 1 Axes>"
      ]
     },
     "metadata": {
      "tags": []
     },
     "output_type": "display_data"
    }
   ],
   "source": [
    "# Generate CDF plot for t(alphas): \n",
    "# compute the ECDF of the samples\n",
    "qe, pe = ecdf(smpl6)\n",
    "qt, pt = ecdf(smpl3)\n",
    "\n",
    "# plot\n",
    "fig, ax = plt.subplots(1, 1)\n",
    "ax.plot(qt, pt, '-k', lw=2, label='Actual CDF')\n",
    "ax.plot(qe, pe, '-r', lw=2, label='Simulated t(alpha) CDF')\n",
    "ax.set_xlabel('t(alpha)')\n",
    "ax.set_ylabel('Cumulative probability')\n",
    "ax.legend(fancybox=True, loc='right')\n",
    "plt.title('\\n\\nEmpirical CDF for actual and simulated t(alpha)', fontsize=20)\n",
    "plt.show()"
   ]
  },
  {
   "cell_type": "code",
   "execution_count": 0,
   "metadata": {
    "colab": {
     "base_uri": "https://localhost:8080/",
     "height": 429
    },
    "colab_type": "code",
    "id": "5dt4VaIq-5hb",
    "outputId": "d40f56aa-cdab-488e-ab53-ae7212f83a00"
   },
   "outputs": [
    {
     "data": {
      "text/plain": [
       "Text(0.5, 1.0, '\\n\\nDistribution of t(alpha) simulations')"
      ]
     },
     "execution_count": 58,
     "metadata": {
      "tags": []
     },
     "output_type": "execute_result"
    },
    {
     "data": {
      "image/png": "[encoded data removed]",
      "text/plain": [
       "<Figure size 576x396 with 1 Axes>"
      ]
     },
     "metadata": {
      "tags": []
     },
     "output_type": "display_data"
    }
   ],
   "source": [
    "plt.plot(np.sort(smpl6), np.linspace(0, 1, len(smpl6), endpoint=False))\n",
    "plt.title('\\n\\nDistribution of t(alpha) simulations', fontsize=20)\n",
    "plt.show()"
   ]
  },
  {
   "cell_type": "markdown",
   "metadata": {
    "colab_type": "text",
    "id": "4mGUeuG-3U4d"
   },
   "source": [
    "## 7. Generating Kernel smoothing density estimate plots"
   ]
  },
  {
   "cell_type": "code",
   "execution_count": 0,
   "metadata": {
    "colab": {
     "base_uri": "https://localhost:8080/",
     "height": 410
    },
    "colab_type": "code",
    "id": "3Wchfamw-9Us",
    "outputId": "9a0b77d6-7c93-4f32-f12b-7988dd3cc773"
   },
   "outputs": [
    {
     "data": {
      "image/png": "[encoded data removed]",
      "text/plain": [
       "<Figure size 576x396 with 1 Axes>"
      ]
     },
     "metadata": {
      "tags": []
     },
     "output_type": "display_data"
    }
   ],
   "source": [
    "#   Generate Kernel smoothing density estimate plot for alphas: \n",
    "\n",
    "kde1 = stats.gaussian_kde(smpl1)\n",
    "kde2 = stats.gaussian_kde(smpl5)\n",
    "x1 = np.linspace(smpl1.min(), smpl1.max(), 100)\n",
    "x2 = np.linspace(smpl5.min(), smpl5.max(), 100)\n",
    "p1 = kde1(x1)\n",
    "p2 = kde2(x2)\n",
    "\n",
    "fig, ax = plt.subplots(1, 1)\n",
    "ax.plot(x1, p1, '-k', lw=2, label='Actual')\n",
    "ax.plot(x2, p2, '-r', lw=2, label='Simulated')\n",
    "ax.set_xlabel('Alpha %')\n",
    "ax.set_ylabel('Frequency')\n",
    "ax.legend(fancybox=True, loc='right')\n",
    "plt.title('\\n\\nKernel smoothing density estimate for actual and simulated alpha', fontsize=15)\n",
    "plt.show()"
   ]
  },
  {
   "cell_type": "code",
   "execution_count": 0,
   "metadata": {
    "colab": {
     "base_uri": "https://localhost:8080/",
     "height": 410
    },
    "colab_type": "code",
    "id": "baKWJTVAkcUX",
    "outputId": "11e7f916-41d5-4665-db15-45c55fdf5a84"
   },
   "outputs": [
    {
     "data": {
      "image/png": "[encoded data removed]",
      "text/plain": [
       "<Figure size 576x396 with 1 Axes>"
      ]
     },
     "metadata": {
      "tags": []
     },
     "output_type": "display_data"
    }
   ],
   "source": [
    "# Generate Kernel smoothing density estimate plot for t-stats of alpha\n",
    "kde3 = stats.gaussian_kde(smpl3)\n",
    "kde4 = stats.gaussian_kde(smpl6)\n",
    "x3 = np.linspace(smpl3.min(), smpl3.max(), 100)\n",
    "x4 = np.linspace(smpl6.min(), smpl6.max(), 100)\n",
    "p3 = kde3(x3)\n",
    "p4 = kde4(x4)\n",
    "\n",
    "# plot\n",
    "fig, ax = plt.subplots(1, 1)\n",
    "ax.plot(x3, p3, '-k', lw=2, label='Actual')\n",
    "ax.plot(x4, p4, '-r', lw=2, label='Simulated')\n",
    "ax.set_xlabel('t(-alpha)')\n",
    "ax.set_ylabel('Frequency')\n",
    "ax.legend(fancybox=True, loc='right')\n",
    "plt.title('\\n\\nKernel smoothing density estimate for actual and simulated t(alpha)', fontsize=15)\n",
    "plt.show()"
   ]
  },
  {
   "cell_type": "markdown",
   "metadata": {
    "colab_type": "text",
    "id": "aHRnCjye2jYh"
   },
   "source": [
    "## 8. Generating histograms"
   ]
  },
  {
   "cell_type": "code",
   "execution_count": 0,
   "metadata": {
    "colab": {
     "base_uri": "https://localhost:8080/",
     "height": 429
    },
    "colab_type": "code",
    "id": "rYo5wZPxJsEq",
    "outputId": "75341bf1-8de7-402e-c427-a5ad0b8a3b26"
   },
   "outputs": [
    {
     "data": {
      "text/plain": [
       "<matplotlib.legend.Legend at 0x7fa593c17940>"
      ]
     },
     "execution_count": 63,
     "metadata": {
      "tags": []
     },
     "output_type": "execute_result"
    },
    {
     "data": {
      "image/png": "[encoded data removed]",
      "text/plain": [
       "<Figure size 576x396 with 1 Axes>"
      ]
     },
     "metadata": {
      "tags": []
     },
     "output_type": "display_data"
    }
   ],
   "source": [
    "temp_input = 14\n",
    "temp_t = np.vstack(percentiles_orig_t)[temp_input]\n",
    "result = plt.hist(temp_percentiles_sim_t[temp_input,:][~np.isnan(temp_percentiles_sim_t[temp_input,:])], bins=25, color='c', edgecolor='k', alpha=0.65)\n",
    "plt.axvline(np.vstack(percentiles_orig_t)[temp_input], color='k', linestyle='dashed', linewidth=1)\n",
    "plt.title('\\n\\nBootstrapped t-statistics of t(alpha): Best fund', fontsize=20)\n",
    "labels= ['$Actual: t(alpha) = {0:.2f}$'.format(float(temp_t)), 'Simulated t(alpha)']\n",
    "plt.legend(labels)\n",
    "plt.show()\n"
   ]
  },
  {
   "cell_type": "code",
   "execution_count": 0,
   "metadata": {
    "colab": {
     "base_uri": "https://localhost:8080/",
     "height": 429
    },
    "colab_type": "code",
    "id": "FWMuuLzIm0sl",
    "outputId": "ea05c98e-02b0-4086-d8c9-2ae13938824b"
   },
   "outputs": [
    {
     "data": {
      "text/plain": [
       "<matplotlib.legend.Legend at 0x7fa593cbfdd8>"
      ]
     },
     "execution_count": 64,
     "metadata": {
      "tags": []
     },
     "output_type": "execute_result"
    },
    {
     "data": {
      "image/png": "[encoded data removed]",
      "text/plain": [
       "<Figure size 576x396 with 1 Axes>"
      ]
     },
     "metadata": {
      "tags": []
     },
     "output_type": "display_data"
    }
   ],
   "source": [
    "temp_input = 0\n",
    "temp_t = np.vstack(percentiles_orig_t)[temp_input]\n",
    "result = plt.hist(temp_percentiles_sim_t[temp_input,:][~np.isnan(temp_percentiles_sim_t[temp_input,:])], bins=25, color='c', edgecolor='k', alpha=0.65)\n",
    "plt.axvline(np.vstack(percentiles_orig_t)[temp_input], color='k', linestyle='dashed', linewidth=1)\n",
    "plt.title('\\n\\nBootstrapped t-statistics of t(alpha): Worst fund', fontsize=20)\n",
    "labels= ['$Actual: t(alpha) = {0:.2f}$'.format(float(temp_t)), 'Simulated t(alpha)']\n",
    "plt.legend(labels)\n",
    "plt.show()\n"
   ]
  },
  {
   "cell_type": "code",
   "execution_count": 0,
   "metadata": {
    "colab": {},
    "colab_type": "code",
    "id": "8tNNGJ3qTy45"
   },
   "outputs": [],
   "source": [
    "#Generate histogram of simulated t(alpha)'s for various ranks/percentiles:\n",
    "#Includes vertical line representing the actual performance of fund at\n",
    "#equivalent rank/percentile:\n",
    "#Different index INPUTS used to make histograms from\n",
    "#'temp_percentiles_sim_t' and vertical lines from 'percentiles_orig_t'\n",
    "#represent different ranks/percentiles to extract, as specified below:\n",
    "#input: 1:5 - represents ranks: 101(worst):-1:97\n",
    "#input: 6:14 - represents percentiles 10:10:90\n",
    "#input: 15:19 - represents ranks 5:-1:1(best))\n",
    "\n",
    "#BEST FUND"
   ]
  },
  {
   "cell_type": "markdown",
   "metadata": {
    "colab_type": "text",
    "id": "eZiLNLItWmR-"
   },
   "source": [
    "## 9. Loop through simulation program to inject alpha with different standard deviation assumptions"
   ]
  },
  {
   "cell_type": "code",
   "execution_count": 0,
   "metadata": {
    "colab": {
     "base_uri": "https://localhost:8080/",
     "height": 130
    },
    "colab_type": "code",
    "id": "q49EbH609Tg8",
    "outputId": "f62d598f-0314-4c40-8f6d-2589163ccbd3"
   },
   "outputs": [
    {
     "ename": "SyntaxError",
     "evalue": "ignored",
     "output_type": "error",
     "traceback": [
      "\u001b[0;36m  File \u001b[0;32m\"<ipython-input-67-528a7b5e00b0>\"\u001b[0;36m, line \u001b[0;32m85\u001b[0m\n\u001b[0;31m    sim_smaller_a = np.sum(temp_percentiles_sim_a < np.tile(np.vstack(percentiles_orig_a),(1,s)), axis=1)/s*100\u001b[0m\n\u001b[0m                ^\u001b[0m\n\u001b[0;31mSyntaxError\u001b[0m\u001b[0;31m:\u001b[0m invalid syntax\n"
     ]
    }
   ],
   "source": [
    "# Construct simulated series based on \"sim_indices\"\n",
    "# tic; % Begin timer\n",
    "# This script used the simulated index numbers to:\n",
    "# 1) Pick corresponding numbers from factors and residuals, and\n",
    "# 2) Construct series of fund returns (potentially including injected alpha)\n",
    "# 3) Series are \"alpha free\" if 'std_alpha' below is set to '0'.\n",
    "\n",
    "# The constructed returns will be the basis for new regressions to\n",
    "# calculate simulated alphas.\n",
    "\n",
    "# From before: n = total number of funds\n",
    "# % h = total number of factors\n",
    "# % m = total number of time periods\n",
    "# % s = total number of simulations, s = 1 here refers sim #1\n",
    "\n",
    "# Check if the value for annual \"average\" standard deviation is already\n",
    "# defined. If it is, dont't touch it. If it isn't, define a chosen\n",
    "# value (usually '0') below. We do this to avoid overriding the std of alpha\n",
    "# in the loop running through different values of std of alpha\n",
    "\n",
    "for std in [std/4 for std in range(0,15)]:\n",
    "    try: annual_std_alpha\n",
    "    except NameError: annual_std_alpha = None\n",
    "\n",
    "    if annual_std_alpha is None:\n",
    "        annual_std_alpha = 0 #Set it's value\n",
    "    else:\n",
    "        pass\n",
    "    annual_std_alpha = std\n",
    "    std_alpha = annual_std_alpha/np.sqrt(12)  \n",
    "    annual_std_alpha, std_alpha\n",
    "    temp_avg_orig_std_resid = np.nanmean(orig_SE_resid.values)\n",
    "    temp_std_resid_ratio = np.divide(orig_SE_resid,temp_avg_orig_std_resid)\n",
    "    adj_n = Y_all.shape[1]\n",
    "    temp_alpha = std_alpha*np.tile(np.random.randn(1,adj_n,s) * np.tile(temp_std_resid_ratio,(1,1,s)).reshape((1,adj_n,s), order='F'),(m,1,1))\n",
    "    orig_betas = orig_coeffs_rank_a.transpose().values[1:4,:]\n",
    "    constructed_resids = np.empty((m,adj_n,s))*np.nan\n",
    "    constructed_Y_all = np.empty((m,adj_n,s))*np.nan\n",
    "    for ss in range(s):\n",
    "        constructed_X_mat[:,:,ss] = X_mat.values[:,1:4][sim_indices[:,ss],:]  #randomized simulations of Fama-French risk factors: Mkt-RF, SMB, HML\n",
    "        constructed_resids[:,:,ss] = orig_resids[sim_indices[:,ss],:]  #randomized simulations of residuals from Fama-French equations\n",
    "        constructed_Y_all[:,:,ss] = temp_alpha[:,:,ss] + np.matmul(constructed_X_mat[:,:,ss], orig_betas) + constructed_resids[:,:,ss] #simulated returns based on fund betas, randomized resids and alphas (0?)\n",
    "\n",
    "#S cript that does bootstrap regression results for all funds.\n",
    "\n",
    "# Set minumum number of observations(n) required in simulation for the\n",
    "# regression to be valid:\n",
    "sim_cutoff = 15\n",
    "# Populate target output vectors to be filled in with loop:\n",
    "sim_SE_resid = np.empty((h+1,adj_n,s))*np.nan\n",
    "sim_coeffs = np.empty((h+1,adj_n,s))*np.nan\n",
    "# Calculate number of observations per fund per simulation for future\n",
    "# reference:\n",
    "n_i_s = (~np.isnan(constructed_Y_all)).sum(0)\n",
    "# Calculate the lag selection parameter for the standard Newey-West HAC\n",
    "# estimate (Andrews and Monohan, 1992), one number per fund per simulation:\n",
    "maxLag_s = np.floor((4*(n_i_s/100)**(2/9))).astype(int)\n",
    "#Set up regression function with Newey-West Standard Errors (HAC)\n",
    "def ols_s(left_side, right_side, maxLag_temp):\n",
    "    result = sm.OLS(left_side, right_side, missing='drop').fit(cov_type='HAC',cov_kwds={'maxlags':maxLag_temp})\n",
    "    return result\n",
    "#   xa = sm.add_constant(constructed_X_mat[:,:,0])\n",
    "#   ya_sample = constructed_Y_all[:,0,0]\n",
    "#   lma = ols_s(ya_sample, xa,2)\n",
    "  # Loop through each simulation run:\n",
    "for ss in range(s):\n",
    "    #Loop through each fund:\n",
    "    for jj in range(adj_n):\n",
    "        if n_i_s[jj,ss]>= sim_cutoff:\n",
    "            xa = sm.add_constant(constructed_X_mat[:,:,ss])\n",
    "            ya_sample = constructed_Y_all[:,jj,ss]\n",
    "            maxLag_temp = maxLag_s[jj,ss]\n",
    "\n",
    "            # linear regression\n",
    "            lma = ols_s(ya_sample, xa, maxLag_temp)\n",
    "            sim_SE_resid[:,jj,ss] = .300\n",
    "            sim_SE_resid[:,jj,ss] = lma.bse\n",
    "            sim_coeffs[:,jj,ss] = lma.params\n",
    "            \n",
    "sim_t_stats = np.divide(sim_coeffs,sim_SE_resid)\n",
    "percentages = [.10, .20, .30, .40, .50, .60, .70, .80, .90]\n",
    "#Sort original alphas and t-values in order to extract top/bottom ranked values:\n",
    "temp_sorted_orig_a =  orig_coeffs.take([0], axis=0).sort_values(by=['Alpha'], axis=1, ascending = [0])\n",
    "temp_sorted_orig_t = orig_t_stats.take([0], axis=0).sort_values(by=['t(alpha)'], axis=1, ascending = [0])\n",
    "temp_sorted_orig_a, temp_sorted_orig_t, type(temp_sorted_orig_t)\n",
    "percentiles_orig_at = [temp_sorted_orig_a.transpose().tail(5).iloc[::-1], \\\n",
    "                       temp_sorted_orig_a.transpose().quantile(percentages),\\\n",
    "                       temp_sorted_orig_a.transpose().head(5).iloc[::-1]]\n",
    "\n",
    "temp1t = temp_sorted_orig_t.transpose().tail(5)\n",
    "temp2t = temp_sorted_orig_t.transpose().quantile(percentages)\n",
    "temp3t = temp_sorted_orig_t.transpose().head(5)\n",
    "percentiles_orig_t = [temp1t, temp2t, temp3t]\n",
    "percentiles_orig_a = np.empty(2, dtype=float)\n",
    "percentiles_orig_a = [temp_sorted_orig_a.transpose().tail(5).iloc[::-1],temp_sorted_orig_a.transpose().quantile(percentages),temp_sorted_orig_a.transpose().head(5).iloc[::-1]]\n",
    "percentiles_orig_t = np.empty(2, dtype=float)\n",
    "percentiles_orig_t = [temp_sorted_orig_t.transpose().tail(5).iloc[::-1], temp_sorted_orig_t.transpose().quantile(percentages),temp_sorted_orig_t.transpose().head(5).iloc[::-1]]\n",
    "temp_sort_desc_sim_a = np.sort(sim_coeffs[0,:,:].transpose(), axis=1)[:,::-1]\n",
    "temp_sort_asc_sim_a = np.sort(sim_coeffs[0,:,:].transpose(), axis=1)\n",
    "temp_sort_desc_sim_t = np.sort(sim_t_stats[0,:,:].transpose(), axis=1)[:,::-1]\n",
    "temp_sort_asc_sim_t = np.sort(sim_t_stats[0,:,:].transpose(), axis=1)\n",
    "percentages1 = [10,20,30,40,50,60,70,80,90]\n",
    "#   np.percentile(sim_coeffs[0,:,:].transpose(), percentages1, axis = 1).shape\n",
    "temp_percentiles_sim_a = np.concatenate((temp_sort_asc_sim_a.transpose()[0:5,:], \\\n",
    "                         np.percentile(sim_coeffs[0,:,:].transpose(), percentages1, axis = 1), \\\n",
    "                         temp_sort_desc_sim_a.transpose()[0:5,:][::-1]))\n",
    "temp_percentiles_sim_t = np.concatenate((temp_sort_asc_sim_t.transpose()[0:5,:], \\\n",
    "                         np.percentile(sim_t_stats[0,:,:].transpose(), percentages1, axis = 1), \\\n",
    "                         temp_sort_desc_sim_t.transpose()[0:5,:][::-1]))\n",
    "mean_percentiles_sim_a = np.nanmean(temp_percentiles_sim_a, axis=1)\n",
    "mean_percentiles_sim_t = np.nanmean(temp_percentiles_sim_t, axis=1\n",
    "sim_smaller_a = np.sum(temp_percentiles_sim_a < np.tile(np.vstack(percentiles_orig_a),(1,s)), axis=1)/s*100\n",
    "sim_smaller_t = np.sum(temp_percentiles_sim_t < np.tile(np.vstack(percentiles_orig_t),(1,s)), axis=1)/s*100\n",
    "# sim_smaller_a = np.sum(temp_percentiles_sim_a < np.tile(np.vstack(percentiles_orig_a),(1,s)), axis=1)/s*100\n",
    "# sim_smaller_t = np.sum(temp_percentiles_sim_t < np.tile(np.vstack(percentiles_orig_t),(1,s)), axis=1)/s*100\n",
    "table_a1=pd.DataFrame(data=np.vstack(percentiles_orig_a))\n",
    "table_a2=pd.DataFrame(data=mean_percentiles_sim_a)\n",
    "table_a3=pd.DataFrame(data=sim_smaller_a)\n",
    "table_a4=pd.concat([table_a1, table_a2, table_a3], axis=1)\n",
    "table_a4.columns=['Actual','Sim Avg', '%<Act']\n",
    "idx=['Worst',\t'2nd',\t'3rd', '4th', '5th', '10%',\t'20%',\t'30%',\t'40%',\t'50%',\t'60%',\t'70%',\t'80%',\t'90%',\t'5th', '4th', '3rd', '2nd', 'Best']\n",
    "se=pd.Series(idx)\n",
    "table_a4['Rank/pctl']=se.values\n",
    "table_a = table_a4.set_index('Rank/pctl')\n",
    "table_t1=pd.DataFrame(data=np.vstack(percentiles_orig_t))\n",
    "table_t2=pd.DataFrame(data=mean_percentiles_sim_t)\n",
    "table_t3=pd.DataFrame(data=sim_smaller_t)    \n",
    "table_t4=pd.concat([table_t1, table_t2, table_t3], axis=1)\n",
    "table_t4.columns=['Actual','Sim Avg', '%<Act']\n",
    "#     idx=['Worst',\t'2nd',\t'3rd',\t'10%',\t'20%',\t'30%',\t'40%',\t'50%',\t'60%',\t'70%',\t'80%',\t'90%',\t'3rd',\t'2nd',\t'Best']\n",
    "set=pd.Series(idx)\n",
    "table_t4['Rank/pctl']=set.values\n",
    "table_t = table_t4.set_index('Rank/pctl')\n",
    "t_index = [std/4 for std in range(0,15)]\n",
    "data = pd.DataFrame([], index=idx, columns=t_index)\n",
    "#     if std=0:\n",
    "data.loc[:,std]=table_t['Sim Avg']\n",
    "                                        \n",
    "                                        \n",
    "                                        \n",
    "# Clear 'excess' variables no longer needed: \n",
    "del percentages\n",
    "del temp_sort_desc_sim_a \n",
    "del temp_sort_asc_sim_a\n",
    "del temp_sort_desc_sim_t \n",
    "del temp_sort_asc_sim_t\n",
    "del mean_percentiles_sim_a \n",
    "del mean_percentiles_sim_t\n",
    "del sim_smaller_a \n",
    "del sim_smaller_t\n",
    "del table_t\n",
    "del table_a\n",
    "\n",
    "                                        \n",
    "                                        \n",
    "# data = pd.DataFrame([])\n",
    "\n",
    "# for i in np.arange(0, 4):\n",
    "#     if i % 2 == 0:\n",
    "#         data = data.append(pd.DataFrame({'A': i, 'B': i + 1}, index=[0]), ignore_index=True)\n",
    "#     else:\n",
    "#         data = data.append(pd.DataFrame({'A': i}, index=[0]), ignore_index=True)\n",
    "\n",
    "# print(data.head())                                        \n",
    "    \n",
    "  \n",
    "    \n",
    "\n",
    "    \n",
    "    \n",
    "    \n",
    "  \n",
    "  \n",
    "\n",
    "\n",
    " "
   ]
  },
  {
   "cell_type": "code",
   "execution_count": 0,
   "metadata": {
    "colab": {},
    "colab_type": "code",
    "id": "Cm44-obTu25j"
   },
   "outputs": [],
   "source": [
    "t_index = [std/4 for std in range(0,15)]\n",
    "t_index"
   ]
  },
  {
   "cell_type": "code",
   "execution_count": 0,
   "metadata": {
    "colab": {},
    "colab_type": "code",
    "id": "ZLoRcBL7gr_N"
   },
   "outputs": [],
   "source": [
    "# A=2*np.arange(4)[:, None]/np.arange(1,5)\n",
    "# A\n",
    "t_index = [std/4 for std in range(0,15)]\n",
    "idx=['Worst',\t'2nd',\t'3rd', '4th', '5th', '10%',\t'20%',\t'30%',\t'40%',\t'50%',\t'60%',\t'70%',\t'80%',\t'90%',\t'5th', '4th', '3rd', '2nd', 'Best']\n",
    "data = pd.DataFrame([], index=idx, columns=t_index)\n",
    "data.insert(0, 'Actual', float(1))\n",
    "\n",
    "# for i in np.arange(0, 4):\n",
    "#     if i % 2 == 0:\n",
    "#         data = data.append(pd.DataFrame({'A': i, 'B': i + 1}, index=[0]), ignore_index=True)\n",
    "#     else:\n",
    "#         data = data.append(pd.DataFrame({'A': i}, index=[0]), ignore_index=True)\n",
    "\n",
    "# print(data.head(5))\n",
    "data.head(5), data.columns, data.index, data.loc[:,float(1.5)]"
   ]
  }
 ],
 "metadata": {
  "colab": {
   "collapsed_sections": [],
   "name": "LuckSkillGlobal2.ipynb",
   "provenance": [],
   "version": "0.3.2"
  },
  "kernelspec": {
   "display_name": "Python 3",
   "language": "python",
   "name": "python3"
  },
  "language_info": {
   "codemirror_mode": {
    "name": "ipython",
    "version": 3
   },
   "file_extension": ".py",
   "mimetype": "text/x-python",
   "name": "python",
   "nbconvert_exporter": "python",
   "pygments_lexer": "ipython3",
   "version": "3.7.1"
  }
 },
 "nbformat": 4,
 "nbformat_minor": 1
}
